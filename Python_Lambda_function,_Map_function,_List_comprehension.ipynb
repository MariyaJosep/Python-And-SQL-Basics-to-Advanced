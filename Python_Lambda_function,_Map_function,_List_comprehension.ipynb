{
  "cells": [
    {
      "cell_type": "markdown",
      "metadata": {
        "id": "view-in-github",
        "colab_type": "text"
      },
      "source": [
        "<a href=\"https://colab.research.google.com/github/MariyaJosep/Python-And-SQL-Basics-to-Advanced/blob/main/Python_Lambda_function%2C_Map_function%2C_List_comprehension.ipynb\" target=\"_parent\"><img src=\"https://colab.research.google.com/assets/colab-badge.svg\" alt=\"Open In Colab\"/></a>"
      ]
    },
    {
      "cell_type": "code",
      "execution_count": null,
      "id": "a72f17fe",
      "metadata": {
        "id": "a72f17fe"
      },
      "outputs": [],
      "source": [
        "#normal function\n",
        "def add(a,b):\n",
        "    c = a+b\n",
        "    return c"
      ]
    },
    {
      "cell_type": "code",
      "execution_count": null,
      "id": "44467ec0",
      "metadata": {
        "id": "44467ec0",
        "outputId": "6d732b6d-9866-468a-e434-554ed20b01f7"
      },
      "outputs": [
        {
          "data": {
            "text/plain": [
              "30"
            ]
          },
          "execution_count": 2,
          "metadata": {},
          "output_type": "execute_result"
        }
      ],
      "source": [
        "add(10,20)"
      ]
    },
    {
      "cell_type": "code",
      "execution_count": null,
      "id": "51b90ffa",
      "metadata": {
        "id": "51b90ffa"
      },
      "outputs": [],
      "source": [
        "#lamdba function (anonymous function)\n",
        "\n",
        "squars = lambda x:x*x"
      ]
    },
    {
      "cell_type": "code",
      "execution_count": null,
      "id": "bc4f3f18",
      "metadata": {
        "id": "bc4f3f18",
        "outputId": "97e2e020-6862-49e2-a116-4521c7e7fb96"
      },
      "outputs": [
        {
          "data": {
            "text/plain": [
              "4"
            ]
          },
          "execution_count": 4,
          "metadata": {},
          "output_type": "execute_result"
        }
      ],
      "source": [
        "squars(2)"
      ]
    },
    {
      "cell_type": "code",
      "execution_count": null,
      "id": "c5095d91",
      "metadata": {
        "id": "c5095d91",
        "outputId": "52056231-8ed2-400d-ef04-0e48e3327ee6"
      },
      "outputs": [
        {
          "name": "stdout",
          "output_type": "stream",
          "text": [
            "[1, 2, 3, 4, 5, 6, 7, 8, 9, 10]\n"
          ]
        }
      ],
      "source": [
        "#create a list from 1 to 10\n",
        "l1=list(range(1,11))\n",
        "\n",
        "print(l1)"
      ]
    },
    {
      "cell_type": "code",
      "execution_count": null,
      "id": "32b703fa",
      "metadata": {
        "id": "32b703fa",
        "outputId": "6d7cc8a6-2d6b-447a-cf6d-d3507c2b7664"
      },
      "outputs": [
        {
          "name": "stdout",
          "output_type": "stream",
          "text": [
            "<map object at 0x00000214EF039BE0>\n",
            "[1, 4, 9, 16, 25, 36, 49, 64, 81, 100]\n"
          ]
        }
      ],
      "source": [
        "#map is used to execute or pass lambda function on a list\n",
        "l1_squars = map(squars, l1)\n",
        "\n",
        "print(l1_squars)\n",
        "print(list(l1_squars))"
      ]
    },
    {
      "cell_type": "code",
      "execution_count": null,
      "id": "e91c8f06",
      "metadata": {
        "id": "e91c8f06"
      },
      "outputs": [],
      "source": [
        "#lambda for power of 4\n",
        "pow_4 = lambda x:x**4"
      ]
    },
    {
      "cell_type": "code",
      "execution_count": null,
      "id": "dcb68f18",
      "metadata": {
        "id": "dcb68f18",
        "outputId": "59bdf1be-16c0-4fab-c487-fde14d60c91e"
      },
      "outputs": [
        {
          "name": "stdout",
          "output_type": "stream",
          "text": [
            "[1, 16, 81, 256, 625, 1296, 2401, 4096, 6561, 10000]\n"
          ]
        }
      ],
      "source": [
        "l1_pow_4 = map(pow_4, l1)\n",
        "\n",
        "print(list(l1_pow_4))"
      ]
    },
    {
      "cell_type": "code",
      "execution_count": null,
      "id": "5b0ba9db",
      "metadata": {
        "id": "5b0ba9db",
        "outputId": "db81c95b-77bd-436c-fb0f-160d646731ff"
      },
      "outputs": [
        {
          "name": "stdout",
          "output_type": "stream",
          "text": [
            "[1, 256, 16]\n"
          ]
        }
      ],
      "source": [
        "l2 = [1,4,2]\n",
        "\n",
        "l2_pow_4 = map(pow_4, l2)\n",
        "print(list(l2_pow_4))"
      ]
    },
    {
      "cell_type": "code",
      "execution_count": null,
      "id": "4d06b491",
      "metadata": {
        "id": "4d06b491",
        "outputId": "738c64f9-a18a-4ab6-805e-1c27b65b1823"
      },
      "outputs": [
        {
          "name": "stdout",
          "output_type": "stream",
          "text": [
            "[1, 4, 9]\n"
          ]
        }
      ],
      "source": [
        "#list coprehension\n",
        "l1 = [1,2,3]\n",
        "l1_s=[]\n",
        "\n",
        "for x in l1:\n",
        "    l1_s.append(x*x)\n",
        "    \n",
        "print(l1_s)"
      ]
    },
    {
      "cell_type": "code",
      "execution_count": null,
      "id": "1d522e3e",
      "metadata": {
        "id": "1d522e3e",
        "outputId": "405040d9-3f5a-4086-b382-75e1b8dfb61b"
      },
      "outputs": [
        {
          "name": "stdout",
          "output_type": "stream",
          "text": [
            "[1, 4, 9]\n"
          ]
        }
      ],
      "source": [
        "l1 = [1,2,3]\n",
        "l1_s = [x*x for x in l1]\n",
        "print(l1_s)"
      ]
    },
    {
      "cell_type": "code",
      "execution_count": null,
      "id": "78878786",
      "metadata": {
        "id": "78878786",
        "outputId": "30988da6-b693-4e96-b256-d44b8f34829c"
      },
      "outputs": [
        {
          "name": "stdout",
          "output_type": "stream",
          "text": [
            "[1, 8, 27]\n"
          ]
        }
      ],
      "source": [
        "l1 = [1,2,3]\n",
        "l1_c = [x**3 for x in l1]\n",
        "print(l1_c)"
      ]
    },
    {
      "cell_type": "code",
      "execution_count": null,
      "id": "5363cd14",
      "metadata": {
        "id": "5363cd14",
        "outputId": "a8714553-56a5-42fa-ef3b-73c391e65ff7"
      },
      "outputs": [
        {
          "name": "stdout",
          "output_type": "stream",
          "text": [
            "[2, 4, 6, 8, 10, 12, 14, 16, 18, 20, 22, 24, 26, 28, 30, 32, 34, 36, 38, 40, 42, 44, 46, 48, 50, 52, 54, 56, 58, 60, 62, 64, 66, 68, 70, 72, 74, 76, 78, 80, 82, 84, 86, 88, 90, 92, 94, 96, 98, 100, 102, 104, 106, 108, 110, 112, 114, 116, 118, 120, 122, 124, 126, 128, 130, 132, 134, 136, 138, 140, 142, 144, 146, 148, 150, 152, 154, 156, 158, 160, 162, 164, 166, 168, 170, 172, 174, 176, 178, 180, 182, 184, 186, 188, 190, 192, 194, 196, 198, 200, 202, 204, 206, 208, 210, 212, 214, 216, 218, 220, 222, 224, 226, 228, 230, 232, 234, 236, 238, 240, 242, 244, 246, 248, 250, 252, 254, 256, 258, 260, 262, 264, 266, 268, 270, 272, 274, 276, 278, 280, 282, 284, 286, 288, 290, 292, 294, 296, 298, 300, 302, 304, 306, 308, 310, 312, 314, 316, 318, 320, 322, 324, 326, 328, 330, 332, 334, 336, 338, 340, 342, 344, 346, 348, 350, 352, 354, 356, 358, 360, 362, 364, 366, 368, 370, 372, 374, 376, 378, 380, 382, 384, 386, 388, 390, 392, 394, 396, 398, 400, 402, 404, 406, 408, 410, 412, 414, 416, 418, 420, 422, 424, 426, 428, 430, 432, 434, 436, 438, 440, 442, 444, 446, 448, 450, 452, 454, 456, 458, 460, 462, 464, 466, 468, 470, 472, 474, 476, 478, 480, 482, 484, 486, 488, 490, 492, 494, 496, 498, 500, 502, 504, 506, 508, 510, 512, 514, 516, 518, 520, 522, 524, 526, 528, 530, 532, 534, 536, 538, 540, 542, 544, 546, 548, 550, 552, 554, 556, 558, 560, 562, 564, 566, 568, 570, 572, 574, 576, 578, 580, 582, 584, 586, 588, 590, 592, 594, 596, 598, 600, 602, 604, 606, 608, 610, 612, 614, 616, 618, 620, 622, 624, 626, 628, 630, 632, 634, 636, 638, 640, 642, 644, 646, 648, 650, 652, 654, 656, 658, 660, 662, 664, 666, 668, 670, 672, 674, 676, 678, 680, 682, 684, 686, 688, 690, 692, 694, 696, 698, 700, 702, 704, 706, 708, 710, 712, 714, 716, 718, 720, 722, 724, 726, 728, 730, 732, 734, 736, 738, 740, 742, 744, 746, 748, 750, 752, 754, 756, 758, 760, 762, 764, 766, 768, 770, 772, 774, 776, 778, 780, 782, 784, 786, 788, 790, 792, 794, 796, 798, 800, 802, 804, 806, 808, 810, 812, 814, 816, 818, 820, 822, 824, 826, 828, 830, 832, 834, 836, 838, 840, 842, 844, 846, 848, 850, 852, 854, 856, 858, 860, 862, 864, 866, 868, 870, 872, 874, 876, 878, 880, 882, 884, 886, 888, 890, 892, 894, 896, 898, 900, 902, 904, 906, 908, 910, 912, 914, 916, 918, 920, 922, 924, 926, 928, 930, 932, 934, 936, 938, 940, 942, 944, 946, 948, 950, 952, 954, 956, 958, 960, 962, 964, 966, 968, 970, 972, 974, 976, 978, 980, 982, 984, 986, 988, 990, 992, 994, 996, 998, 1000]\n"
          ]
        }
      ],
      "source": [
        "l2 = [i for i in range(1,1001) if i%2==0]\n",
        "print(l2)"
      ]
    },
    {
      "cell_type": "code",
      "execution_count": null,
      "id": "54a8db67",
      "metadata": {
        "id": "54a8db67"
      },
      "outputs": [],
      "source": [
        "add_3=lambda a,b,c:a+b+c"
      ]
    },
    {
      "cell_type": "code",
      "execution_count": null,
      "id": "b219c0fe",
      "metadata": {
        "id": "b219c0fe",
        "outputId": "957e8e78-49f9-412d-f43a-9e56c241836a"
      },
      "outputs": [
        {
          "data": {
            "text/plain": [
              "60"
            ]
          },
          "execution_count": 21,
          "metadata": {},
          "output_type": "execute_result"
        }
      ],
      "source": [
        "add_3(10,20,30)"
      ]
    },
    {
      "cell_type": "code",
      "execution_count": null,
      "id": "c9d94dca",
      "metadata": {
        "id": "c9d94dca",
        "outputId": "6cd9d888-d52c-49ba-b818-276d5ce00b9b"
      },
      "outputs": [
        {
          "name": "stdout",
          "output_type": "stream",
          "text": [
            "5\n"
          ]
        }
      ],
      "source": [
        "#L1=[[[1,2,4],[5]]], how to access 5?\n",
        "\n",
        "L1=[[[1,2,4],[5]]]\n",
        "print(L1[0][1][0])\n"
      ]
    },
    {
      "cell_type": "code",
      "execution_count": null,
      "id": "f1bb06e3",
      "metadata": {
        "id": "f1bb06e3",
        "outputId": "0f4fc776-db15-4546-f3c0-acb1d125a7bd"
      },
      "outputs": [
        {
          "name": "stdout",
          "output_type": "stream",
          "text": [
            "shi\n",
            "va\n",
            "shiva\n"
          ]
        }
      ],
      "source": [
        "s1='shi'\n",
        "s2='va'\n",
        "\n",
        "s3 = s1+s2\n",
        "print(s1)\n",
        "print(s2)\n",
        "print(s3)"
      ]
    },
    {
      "cell_type": "code",
      "execution_count": null,
      "id": "1bca223b",
      "metadata": {
        "id": "1bca223b",
        "outputId": "515dfad7-af88-4050-8595-68250b981acc"
      },
      "outputs": [
        {
          "name": "stdout",
          "output_type": "stream",
          "text": [
            "shiva\n"
          ]
        }
      ],
      "source": [
        "s1 = s1+s2\n",
        "\n",
        "print(s1)"
      ]
    },
    {
      "cell_type": "code",
      "execution_count": null,
      "id": "e964c0ae",
      "metadata": {
        "id": "e964c0ae",
        "outputId": "c3de04bc-2258-4df7-c3ab-33d8845db644"
      },
      "outputs": [
        {
          "ename": "TypeError",
          "evalue": "'str' object does not support item assignment",
          "output_type": "error",
          "traceback": [
            "\u001b[1;31m---------------------------------------------------------------------------\u001b[0m",
            "\u001b[1;31mTypeError\u001b[0m                                 Traceback (most recent call last)",
            "\u001b[1;32m~\\AppData\\Local\\Temp\\ipykernel_3164\\2464802425.py\u001b[0m in \u001b[0;36m<module>\u001b[1;34m\u001b[0m\n\u001b[1;32m----> 1\u001b[1;33m \u001b[0ms1\u001b[0m\u001b[1;33m[\u001b[0m\u001b[1;36m0\u001b[0m\u001b[1;33m]\u001b[0m\u001b[1;33m=\u001b[0m\u001b[1;34m'b'\u001b[0m\u001b[1;33m\u001b[0m\u001b[1;33m\u001b[0m\u001b[0m\n\u001b[0m\u001b[0;32m      2\u001b[0m \u001b[0mprint\u001b[0m\u001b[1;33m(\u001b[0m\u001b[0ms1\u001b[0m\u001b[1;33m)\u001b[0m\u001b[1;33m\u001b[0m\u001b[1;33m\u001b[0m\u001b[0m\n",
            "\u001b[1;31mTypeError\u001b[0m: 'str' object does not support item assignment"
          ]
        }
      ],
      "source": [
        "s1[0]='b'\n",
        "print(s1)"
      ]
    },
    {
      "cell_type": "code",
      "execution_count": null,
      "id": "af24f9f1",
      "metadata": {
        "id": "af24f9f1"
      },
      "outputs": [],
      "source": [
        "def print_no(to=10):\n",
        "    for i in range(1,to+1):\n",
        "        print(i, end=',')"
      ]
    },
    {
      "cell_type": "code",
      "execution_count": null,
      "id": "ba630f22",
      "metadata": {
        "id": "ba630f22",
        "outputId": "5750c1e1-53ab-4c26-a59e-9660b8aa9c7d"
      },
      "outputs": [
        {
          "name": "stdout",
          "output_type": "stream",
          "text": [
            "1,2,3,4,5,6,7,8,9,10,11,12,13,14,15,16,17,18,19,20,21,22,23,24,25,26,27,28,29,30,31,32,33,34,35,36,37,38,39,40,41,42,43,44,45,46,47,48,49,50,51,52,53,54,55,56,57,58,59,60,61,62,63,64,65,66,67,68,69,70,71,72,73,74,75,76,77,78,79,80,81,82,83,84,85,86,87,88,89,90,91,92,93,94,95,96,97,98,99,100,"
          ]
        }
      ],
      "source": [
        "print_no(100)"
      ]
    },
    {
      "cell_type": "code",
      "execution_count": null,
      "id": "e8013670",
      "metadata": {
        "id": "e8013670",
        "outputId": "a9030258-24f6-42ee-e9bd-cdd9d04f2e5d"
      },
      "outputs": [
        {
          "name": "stdout",
          "output_type": "stream",
          "text": [
            "1,2,3,4,5,6,7,8,9,10,"
          ]
        }
      ],
      "source": [
        "print_no()"
      ]
    },
    {
      "cell_type": "code",
      "execution_count": null,
      "id": "2fe64141",
      "metadata": {
        "id": "2fe64141"
      },
      "outputs": [],
      "source": [
        "def print_no1(*args):\n",
        "    for i in args:\n",
        "        print(i, end='\\t')"
      ]
    },
    {
      "cell_type": "code",
      "execution_count": null,
      "id": "4b0c2a71",
      "metadata": {
        "id": "4b0c2a71",
        "outputId": "51d55d17-c584-4a3e-e226-1c8916f640ef"
      },
      "outputs": [
        {
          "name": "stdout",
          "output_type": "stream",
          "text": [
            "100\t"
          ]
        }
      ],
      "source": [
        "print_no1(100)"
      ]
    },
    {
      "cell_type": "code",
      "execution_count": null,
      "id": "79de4690",
      "metadata": {
        "id": "79de4690",
        "outputId": "bb3673ce-9d4f-4458-b5b8-6b929e46d5a6"
      },
      "outputs": [
        {
          "name": "stdout",
          "output_type": "stream",
          "text": [
            "100\t300\t4000\t"
          ]
        }
      ],
      "source": [
        "print_no1(100, 300, 4000)"
      ]
    },
    {
      "cell_type": "code",
      "execution_count": null,
      "id": "b29de84a",
      "metadata": {
        "id": "b29de84a"
      },
      "outputs": [],
      "source": [
        "def print_no2(*args):\n",
        "    for arg in args:\n",
        "        for i in range(arg): \n",
        "            print(i, end='\\t')\n",
        "        print('\\n')"
      ]
    },
    {
      "cell_type": "code",
      "execution_count": null,
      "id": "376571e9",
      "metadata": {
        "id": "376571e9",
        "outputId": "8b8651fd-3974-4176-bad5-2a1e0f39e5b2"
      },
      "outputs": [
        {
          "name": "stdout",
          "output_type": "stream",
          "text": [
            "0\t1\t2\t3\t4\t5\t6\t7\t8\t9\t10\t11\t12\t13\t14\t15\t16\t17\t18\t19\t20\t21\t22\t23\t24\t25\t26\t27\t28\t29\t30\t31\t32\t33\t34\t35\t36\t37\t38\t39\t40\t41\t42\t43\t44\t45\t46\t47\t48\t49\t\n",
            "\n",
            "0\t1\t2\t3\t4\t5\t6\t7\t8\t9\t10\t11\t12\t13\t14\t15\t16\t17\t18\t19\t20\t21\t22\t23\t24\t25\t26\t27\t28\t29\t30\t31\t32\t33\t34\t35\t36\t37\t38\t39\t40\t41\t42\t43\t44\t45\t46\t47\t48\t49\t50\t51\t52\t53\t54\t55\t56\t57\t58\t59\t60\t61\t62\t63\t64\t65\t66\t67\t68\t69\t70\t71\t72\t73\t74\t75\t76\t77\t78\t79\t80\t81\t82\t83\t84\t85\t86\t87\t88\t89\t90\t91\t92\t93\t94\t95\t96\t97\t98\t99\t\n",
            "\n"
          ]
        }
      ],
      "source": [
        "print_no2(50, 100)"
      ]
    },
    {
      "cell_type": "code",
      "execution_count": null,
      "id": "875cb28e",
      "metadata": {
        "id": "875cb28e",
        "outputId": "da6f2a8f-c456-4f59-c59c-0387e67b8f23"
      },
      "outputs": [
        {
          "name": "stdout",
          "output_type": "stream",
          "text": [
            "0   1   2   3   4   5   6   7   8   9   10   "
          ]
        }
      ],
      "source": [
        "def a(list):\n",
        "    for i in range(list):\n",
        "        print(i, end='   ')\n",
        "        \n",
        "    \n",
        "\n",
        "a(10+1)\n"
      ]
    },
    {
      "cell_type": "code",
      "execution_count": null,
      "id": "9c098753",
      "metadata": {
        "id": "9c098753",
        "outputId": "ee002c29-be64-4051-a45f-b2ed1e3471cc"
      },
      "outputs": [
        {
          "name": "stdout",
          "output_type": "stream",
          "text": [
            "[1, 4, 9, 16, 25]\n"
          ]
        }
      ],
      "source": [
        "l1=[1,2,3,4,5]\n",
        "\n",
        "l2 = list(map(lambda x:x*x ,l1))\n",
        "\n",
        "print(l2)"
      ]
    },
    {
      "cell_type": "code",
      "execution_count": null,
      "id": "16a53687",
      "metadata": {
        "id": "16a53687",
        "outputId": "0b11f417-49a2-4502-faf2-afb68003b31f"
      },
      "outputs": [
        {
          "name": "stdout",
          "output_type": "stream",
          "text": [
            "[1, 8, 27, 64, 125]\n"
          ]
        }
      ],
      "source": [
        "l3 = list(map(lambda x:x*x*x ,l1))\n",
        "\n",
        "print(l3)"
      ]
    },
    {
      "cell_type": "code",
      "execution_count": null,
      "id": "cad0fea2",
      "metadata": {
        "id": "cad0fea2",
        "outputId": "52164e53-1ac7-4f00-c6e3-48450d4b4d17"
      },
      "outputs": [
        {
          "name": "stdout",
          "output_type": "stream",
          "text": [
            "range(0, 10)\n"
          ]
        }
      ],
      "source": [
        "r1=range(10)\n",
        "print(r1)"
      ]
    },
    {
      "cell_type": "code",
      "execution_count": null,
      "id": "efb69e2e",
      "metadata": {
        "id": "efb69e2e",
        "outputId": "28320562-aef8-49a2-81c5-c37ee59d0b19"
      },
      "outputs": [
        {
          "ename": "SyntaxError",
          "evalue": "EOL while scanning string literal (2943481665.py, line 1)",
          "output_type": "error",
          "traceback": [
            "\u001b[1;36m  File \u001b[1;32m\"C:\\Users\\HP\\AppData\\Local\\Temp\\ipykernel_3164\\2943481665.py\"\u001b[1;36m, line \u001b[1;32m1\u001b[0m\n\u001b[1;33m    print(\")\u001b[0m\n\u001b[1;37m            ^\u001b[0m\n\u001b[1;31mSyntaxError\u001b[0m\u001b[1;31m:\u001b[0m EOL while scanning string literal\n"
          ]
        }
      ],
      "source": [
        "print(\") #sytax error"
      ]
    },
    {
      "cell_type": "code",
      "execution_count": null,
      "id": "04b116d7",
      "metadata": {
        "id": "04b116d7",
        "outputId": "ddffc0c8-0f45-43f9-bdb1-675482079a31"
      },
      "outputs": [
        {
          "name": "stdout",
          "output_type": "stream",
          "text": [
            "name 'aaa' is not defined\n",
            "over\n"
          ]
        }
      ],
      "source": [
        "try:\n",
        "    aaa #run time error=>Exception\n",
        "except Exception as ex:\n",
        "    print(ex)    \n",
        "    \n",
        "print('over')"
      ]
    },
    {
      "cell_type": "code",
      "execution_count": null,
      "id": "0f1b628a",
      "metadata": {
        "id": "0f1b628a",
        "outputId": "eb51841e-b752-41ee-eab5-50ea483321eb"
      },
      "outputs": [
        {
          "ename": "NameError",
          "evalue": "name 'aaa' is not defined",
          "output_type": "error",
          "traceback": [
            "\u001b[1;31m---------------------------------------------------------------------------\u001b[0m",
            "\u001b[1;31mNameError\u001b[0m                                 Traceback (most recent call last)",
            "\u001b[1;32m~\\AppData\\Local\\Temp\\ipykernel_3164\\3028325736.py\u001b[0m in \u001b[0;36m<module>\u001b[1;34m\u001b[0m\n\u001b[1;32m----> 1\u001b[1;33m \u001b[0maaa\u001b[0m\u001b[1;33m\u001b[0m\u001b[1;33m\u001b[0m\u001b[0m\n\u001b[0m\u001b[0;32m      2\u001b[0m \u001b[0mprint\u001b[0m\u001b[1;33m(\u001b[0m\u001b[1;34m'over'\u001b[0m\u001b[1;33m)\u001b[0m\u001b[1;33m\u001b[0m\u001b[1;33m\u001b[0m\u001b[0m\n",
            "\u001b[1;31mNameError\u001b[0m: name 'aaa' is not defined"
          ]
        }
      ],
      "source": [
        "aaa\n",
        "print('over')"
      ]
    },
    {
      "cell_type": "code",
      "execution_count": null,
      "id": "92709c37",
      "metadata": {
        "id": "92709c37",
        "outputId": "ae8287a8-437a-40ff-f0d5-52778c6c5ec5"
      },
      "outputs": [
        {
          "name": "stdout",
          "output_type": "stream",
          "text": [
            "[1, 2, 3, [10, 20]]\n"
          ]
        }
      ],
      "source": [
        "l1 = [1,2,3]\n",
        "l2 = [10,20]\n",
        "\n",
        "l1.append(l2)\n",
        "print(l1)\n"
      ]
    },
    {
      "cell_type": "code",
      "execution_count": null,
      "id": "11328f11",
      "metadata": {
        "id": "11328f11",
        "outputId": "449c2093-ec83-4327-dcb7-e6226f55c4b3"
      },
      "outputs": [
        {
          "name": "stdout",
          "output_type": "stream",
          "text": [
            "[1, 2, 3, 10, 20]\n"
          ]
        }
      ],
      "source": [
        "l1 = [1,2,3]\n",
        "l2 = [10,20]\n",
        "\n",
        "print(l1+l2)"
      ]
    },
    {
      "cell_type": "code",
      "execution_count": null,
      "id": "917026b4",
      "metadata": {
        "id": "917026b4",
        "outputId": "190fbb92-eb64-402c-eee5-6ad8855a3ac4"
      },
      "outputs": [
        {
          "name": "stdout",
          "output_type": "stream",
          "text": [
            "shiva\n"
          ]
        }
      ],
      "source": [
        "#'shiva'=>['s','h','i','v','a']\n",
        "name='shiva'\n",
        "print(name)"
      ]
    },
    {
      "cell_type": "code",
      "execution_count": null,
      "id": "2bb9bffd",
      "metadata": {
        "id": "2bb9bffd",
        "outputId": "5701edef-91db-46c3-aeb7-666b975ab620"
      },
      "outputs": [
        {
          "name": "stdout",
          "output_type": "stream",
          "text": [
            "['s', 'h', 'i', 'v', 'a']\n"
          ]
        }
      ],
      "source": [
        "print([ch for ch in name])"
      ]
    },
    {
      "cell_type": "code",
      "execution_count": null,
      "id": "0f0e2a4a",
      "metadata": {
        "id": "0f0e2a4a",
        "outputId": "f01e3834-9310-4f25-d405-674f7079a050"
      },
      "outputs": [
        {
          "name": "stdout",
          "output_type": "stream",
          "text": [
            "['s', 'h', 'i', 'v', 'a']\n"
          ]
        }
      ],
      "source": [
        "l1=list(name) #list() => constructor\n",
        "\n",
        "print(l1)"
      ]
    },
    {
      "cell_type": "code",
      "execution_count": null,
      "id": "fc9c62b2",
      "metadata": {
        "id": "fc9c62b2",
        "outputId": "2af44124-979a-4249-ead8-56c28893d46f"
      },
      "outputs": [
        {
          "name": "stdout",
          "output_type": "stream",
          "text": [
            "shiva\n"
          ]
        }
      ],
      "source": [
        "print(name)"
      ]
    },
    {
      "cell_type": "code",
      "execution_count": null,
      "id": "d8f4e7f3",
      "metadata": {
        "id": "d8f4e7f3",
        "outputId": "10cee81f-aced-4581-a539-e83be26698b0"
      },
      "outputs": [
        {
          "name": "stdout",
          "output_type": "stream",
          "text": [
            "{1: 10, 2: 20}\n"
          ]
        }
      ],
      "source": [
        "l1 = [1,2,3]\n",
        "l2 = [10,20]\n",
        "print(dict(zip(l1,l2)))"
      ]
    },
    {
      "cell_type": "code",
      "execution_count": null,
      "id": "de713cea",
      "metadata": {
        "id": "de713cea",
        "outputId": "83a8d3f5-c061-423d-bc4a-2cb166c2afb1"
      },
      "outputs": [
        {
          "name": "stdout",
          "output_type": "stream",
          "text": [
            "(1, 10)\n",
            "(2, 20)\n",
            "(3, 30)\n"
          ]
        }
      ],
      "source": [
        "l1 = [1,2,3]\n",
        "l2 = [10,20,30]\n",
        "\n",
        "for item in zip(l1,l2):\n",
        "    print(item)"
      ]
    },
    {
      "cell_type": "code",
      "execution_count": null,
      "id": "c25b3309",
      "metadata": {
        "id": "c25b3309",
        "outputId": "a270b0ac-15ae-40bd-d46e-e492095dc40c"
      },
      "outputs": [
        {
          "data": {
            "text/plain": [
              "2"
            ]
          },
          "execution_count": 72,
          "metadata": {},
          "output_type": "execute_result"
        }
      ],
      "source": [
        "l3=[1,100, 200, 5]\n",
        "\n",
        "l3.index(200)"
      ]
    },
    {
      "cell_type": "code",
      "execution_count": null,
      "id": "232117f2",
      "metadata": {
        "id": "232117f2",
        "outputId": "c1421087-be54-4921-9769-7f67736e545e"
      },
      "outputs": [
        {
          "name": "stdout",
          "output_type": "stream",
          "text": [
            "<zip object at 0x00000214EEBDA880>\n",
            "[(1, 2), (2, 3), (3, 4)]\n"
          ]
        }
      ],
      "source": [
        "l1 = [1,2,3]\n",
        "l2 = [2,3,4]\n",
        "l3 = zip(l1,l2)\n",
        "print(l3)\n",
        "print(list(l3))"
      ]
    },
    {
      "cell_type": "code",
      "execution_count": null,
      "id": "37ce860e",
      "metadata": {
        "id": "37ce860e",
        "outputId": "6db82490-fc12-49b6-d2a9-44027465a1d7"
      },
      "outputs": [
        {
          "name": "stdout",
          "output_type": "stream",
          "text": [
            "duplicates\n",
            "50\t20\t30\t\n",
            "[10, 20, 30, 20, 30, 40, 50, 50, 50, 100, 20]\n",
            "[100, 40, 10, 50, 20, 30]\n"
          ]
        }
      ],
      "source": [
        "l1=[10, 20, 30, 20, 30, 40, 50, 50, 50, 100, 20]\n",
        "\n",
        "positions = {}\n",
        "\n",
        "if len(l1)==len(set(l1)):\n",
        "    print('no duplicates')\n",
        "else:\n",
        "    print('duplicates')\n",
        "    l2 = list(set(l1))\n",
        "    \n",
        "    for x in l2:\n",
        "        if l1.count(x)>1:\n",
        "            print(x, end='\\t')\n",
        "            \n",
        "    print()\n",
        "           \n",
        "    \n",
        "\n",
        "print(l1)\n",
        "print(l2)"
      ]
    },
    {
      "cell_type": "code",
      "execution_count": null,
      "id": "c96cae6d",
      "metadata": {
        "id": "c96cae6d"
      },
      "outputs": [],
      "source": []
    }
  ],
  "metadata": {
    "kernelspec": {
      "display_name": "Python 3 (ipykernel)",
      "language": "python",
      "name": "python3"
    },
    "language_info": {
      "codemirror_mode": {
        "name": "ipython",
        "version": 3
      },
      "file_extension": ".py",
      "mimetype": "text/x-python",
      "name": "python",
      "nbconvert_exporter": "python",
      "pygments_lexer": "ipython3",
      "version": "3.9.13"
    },
    "colab": {
      "provenance": [],
      "include_colab_link": true
    }
  },
  "nbformat": 4,
  "nbformat_minor": 5
}