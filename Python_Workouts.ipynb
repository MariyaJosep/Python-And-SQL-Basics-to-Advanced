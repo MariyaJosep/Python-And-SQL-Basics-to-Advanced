{
  "cells": [
    {
      "cell_type": "markdown",
      "metadata": {
        "id": "view-in-github",
        "colab_type": "text"
      },
      "source": [
        "<a href=\"https://colab.research.google.com/github/MariyaJosep/Python-And-SQL-Basics-to-Advanced/blob/main/Python_Workouts.ipynb\" target=\"_parent\"><img src=\"https://colab.research.google.com/assets/colab-badge.svg\" alt=\"Open In Colab\"/></a>"
      ]
    },
    {
      "cell_type": "markdown",
      "id": "d736cb75",
      "metadata": {
        "id": "d736cb75"
      },
      "source": [
        "# 1. Print even number from 10(n) to 2 using while"
      ]
    },
    {
      "cell_type": "code",
      "execution_count": null,
      "id": "d6594f9d",
      "metadata": {
        "id": "d6594f9d",
        "outputId": "69088773-d997-4cb3-bdb2-64727be4935d"
      },
      "outputs": [
        {
          "name": "stdout",
          "output_type": "stream",
          "text": [
            "Enter n value : 10\n",
            "10\n",
            "8\n",
            "6\n",
            "4\n",
            "2\n"
          ]
        }
      ],
      "source": [
        "n = int(input('Enter n value : '))\n",
        "\n",
        "i = n\n",
        "\n",
        "while i>=2:    \n",
        "    if i%2 == 0:         \n",
        "        print(i)\n",
        "        \n",
        "    i = i - 1  # i -= 1        "
      ]
    },
    {
      "cell_type": "code",
      "execution_count": null,
      "id": "114e18d3",
      "metadata": {
        "id": "114e18d3",
        "outputId": "345d49dc-7531-4233-99db-b61a1a1c2b08"
      },
      "outputs": [
        {
          "name": "stdout",
          "output_type": "stream",
          "text": [
            "Enter n value : 10\n",
            "10\n",
            "8\n",
            "6\n",
            "4\n",
            "2\n"
          ]
        }
      ],
      "source": [
        "n = int(input('Enter n value : '))\n",
        "\n",
        "i = n\n",
        "\n",
        "while i>=2:\n",
        "    print(i)\n",
        "    i = i - 2  # i -= 1"
      ]
    },
    {
      "cell_type": "markdown",
      "id": "76d8b141",
      "metadata": {
        "id": "76d8b141"
      },
      "source": [
        "# 2. Print find larg number from n number 5 (20, 40, 60 , 70, 10) using while\n",
        "\n",
        "Hint: n is total numbers, x to hold different number, large to hold largest number\n",
        "\n",
        "## Test Case-1\n",
        "\n",
        "Input (n=5, (20, 40, 60 , 70, 10))\n",
        "\n",
        "Output (large number is 70)\n",
        "\n",
        "\n",
        "## Test Case-2\n",
        "\n",
        "Input (n=4, (120, 30, 60 , 10))\n",
        "\n",
        "Output (large number is 120) "
      ]
    },
    {
      "cell_type": "code",
      "execution_count": null,
      "id": "c22ce9e3",
      "metadata": {
        "id": "c22ce9e3",
        "outputId": "6dae6ace-ae58-430d-c665-453e18ee6531"
      },
      "outputs": [
        {
          "name": "stdout",
          "output_type": "stream",
          "text": [
            "Enter n values : 3\n",
            "Enter x value : 100\n",
            "Enter x value : 200\n",
            "Enter x value : 50\n",
            "Large number is :  200\n"
          ]
        }
      ],
      "source": [
        "n = int(input('Enter n values : '))\n",
        "\n",
        "i = 1\n",
        "large = 0\n",
        "\n",
        "while i<=n:\n",
        "    x = int(input('Enter x value : '))\n",
        "    \n",
        "    if large<x:\n",
        "        large = x\n",
        "        \n",
        "    i += 1\n",
        "  \n",
        "    \n",
        "print('Large number is : ', large)\n",
        "        "
      ]
    },
    {
      "cell_type": "markdown",
      "id": "35fecada",
      "metadata": {
        "id": "35fecada"
      },
      "source": [
        "# find minimum number from n numbers\n",
        "\n",
        "## Test Case-1\n",
        "\n",
        "Input (n=4, (120, 30, 60 , 10))\n",
        "\n",
        "Output (minimum number is 10) "
      ]
    },
    {
      "cell_type": "code",
      "execution_count": null,
      "id": "dd0432b0",
      "metadata": {
        "id": "dd0432b0",
        "outputId": "5e5fc2ec-12c5-45e5-cc82-733f752b119b"
      },
      "outputs": [
        {
          "name": "stdout",
          "output_type": "stream",
          "text": [
            "Enter n values : 4\n",
            "Enter x value : 10\n",
            "Enter x value : 5\n",
            "Enter x value : 2\n",
            "Enter x value : 30\n",
            "Minimum number is :  2\n"
          ]
        }
      ],
      "source": [
        "n = int(input('Enter n values : '))\n",
        "\n",
        "i = 1\n",
        "\n",
        "while i<=n:\n",
        "    x = int(input('Enter x value : '))\n",
        "    \n",
        "    if i==1:\n",
        "        minimum=x\n",
        "    \n",
        "    if minimum>x:\n",
        "        minimum = x\n",
        "        \n",
        "    i += 1\n",
        "  \n",
        "    \n",
        "print('Minimum number is : ', minimum)"
      ]
    },
    {
      "cell_type": "markdown",
      "id": "67f09de8",
      "metadata": {
        "id": "67f09de8"
      },
      "source": [
        "# find average value from n numbers using while\n",
        "\n",
        "\n",
        "## Test Case-1\n",
        "\n",
        "Input (n=4, (10, 20, 30 , 40))\n",
        "\n",
        "Output (average value is 25) \n",
        "\n",
        "\n",
        "Hint: Take 5 variable, i, n, x, sum1, avg"
      ]
    },
    {
      "cell_type": "code",
      "execution_count": null,
      "id": "a1b00800",
      "metadata": {
        "id": "a1b00800",
        "outputId": "fc069a05-6771-4099-dbd9-0dadf1d57bfa"
      },
      "outputs": [
        {
          "name": "stdout",
          "output_type": "stream",
          "text": [
            "Enter n value : 4\n",
            "Enter 1 number : 10\n",
            "Enter 2 number : 30\n",
            "Enter 3 number : 40\n",
            "Enter 4 number : 50\n",
            "Average value is :  32.5\n"
          ]
        }
      ],
      "source": [
        "n = int(input('Enter n value : '))\n",
        "\n",
        "i, sum1 = 1, 0\n",
        "\n",
        "while i<=n:\n",
        "    x = int(input(f'Enter {i} number : '))\n",
        "    \n",
        "    sum1 += x  #sum1 = sum1 + x\n",
        "    \n",
        "    i += 1 # number of iterations\n",
        "    \n",
        "avg = sum1/n\n",
        "\n",
        "print('Average value is : ', avg)"
      ]
    },
    {
      "cell_type": "code",
      "execution_count": null,
      "id": "866708a5",
      "metadata": {
        "id": "866708a5",
        "outputId": "9b1b4a53-d113-42a7-f3ae-71aee223e3be"
      },
      "outputs": [
        {
          "name": "stdout",
          "output_type": "stream",
          "text": [
            "0\n",
            "1\n",
            "2\n",
            "3\n",
            "4\n"
          ]
        }
      ],
      "source": [
        "#printing 0 to 9 using for and range()\n",
        "\n",
        "for i in range(5):\n",
        "    print(i)\n"
      ]
    },
    {
      "cell_type": "code",
      "execution_count": null,
      "id": "24095d89",
      "metadata": {
        "id": "24095d89",
        "outputId": "e9ac9e0d-533a-450a-e0b4-3b9968d9cfbc"
      },
      "outputs": [
        {
          "name": "stdout",
          "output_type": "stream",
          "text": [
            "1\n",
            "2\n",
            "3\n",
            "4\n",
            "5\n"
          ]
        }
      ],
      "source": [
        "for i in range(1, 6):\n",
        "    print(i)\n",
        "    "
      ]
    },
    {
      "cell_type": "code",
      "execution_count": null,
      "id": "bc58ff72",
      "metadata": {
        "id": "bc58ff72",
        "outputId": "d7a34e46-a24e-40d2-98c7-b437ac384a1a"
      },
      "outputs": [
        {
          "name": "stdout",
          "output_type": "stream",
          "text": [
            "5\n",
            "6\n",
            "7\n",
            "8\n",
            "9\n",
            "10\n"
          ]
        }
      ],
      "source": [
        "for i in range(5, 11):\n",
        "    print(i)"
      ]
    },
    {
      "cell_type": "code",
      "execution_count": null,
      "id": "0dcc00c4",
      "metadata": {
        "id": "0dcc00c4",
        "outputId": "3db1778a-0ccd-407b-f1f5-40a2206f3f79"
      },
      "outputs": [
        {
          "name": "stdout",
          "output_type": "stream",
          "text": [
            "Enter n value : 20\n",
            "2\n",
            "4\n",
            "6\n",
            "8\n",
            "10\n",
            "12\n",
            "14\n",
            "16\n",
            "18\n",
            "20\n"
          ]
        }
      ],
      "source": [
        "#printing even number from 2 to 10(n) numbers\n",
        "\n",
        "n = int(input('Enter n value : '))\n",
        "\n",
        "for i in range(2, n+1, 2):  #stop=21\n",
        "    print(i)"
      ]
    },
    {
      "cell_type": "code",
      "execution_count": null,
      "id": "b72f8996",
      "metadata": {
        "id": "b72f8996",
        "outputId": "ed0b6e94-bfc6-4253-fc3d-c1a6a086e4d8"
      },
      "outputs": [
        {
          "name": "stdout",
          "output_type": "stream",
          "text": [
            "Enter n value : 10\n",
            "10\n",
            "8\n",
            "6\n",
            "4\n",
            "2\n"
          ]
        }
      ],
      "source": [
        "#printing even number from 10(n) to 2 numbers\n",
        "\n",
        "n = int(input('Enter n value : '))\n",
        "\n",
        "for i in range(n, 1, -2):\n",
        "    print(i)"
      ]
    },
    {
      "cell_type": "code",
      "execution_count": null,
      "id": "e61e4168",
      "metadata": {
        "id": "e61e4168",
        "outputId": "062c3ef8-67d7-4b30-866e-133a6013923c"
      },
      "outputs": [
        {
          "name": "stdout",
          "output_type": "stream",
          "text": [
            "Enter n value : 11\n",
            "12\n",
            "10\n",
            "8\n",
            "6\n",
            "4\n",
            "2\n"
          ]
        }
      ],
      "source": [
        "#printing even number from 10(n) to 2 numbers\n",
        "\n",
        "n = int(input('Enter n value : '))\n",
        "\n",
        "if n%2 != 0:\n",
        "    n = n - 1\n",
        "\n",
        "for i in range(n, 1, -2):\n",
        "    print(i)"
      ]
    },
    {
      "cell_type": "code",
      "execution_count": null,
      "id": "4d765c00",
      "metadata": {
        "id": "4d765c00",
        "outputId": "16d500f2-690f-4491-a067-71ff2f48f556"
      },
      "outputs": [
        {
          "name": "stdout",
          "output_type": "stream",
          "text": [
            "Enter n value : 2\n",
            "2\n",
            "4\n",
            "6\n",
            "8\n",
            "10\n",
            "12\n",
            "14\n",
            "16\n",
            "18\n",
            "20\n"
          ]
        }
      ],
      "source": [
        "#printing multiples of n\n",
        "\n",
        "n = int(input('Enter n value : '))\n",
        "\n",
        "for i in range(n, n*11, n):  #range(2, 22, 2)\n",
        "    print(i)"
      ]
    },
    {
      "cell_type": "code",
      "execution_count": null,
      "id": "814aa50d",
      "metadata": {
        "id": "814aa50d",
        "outputId": "9efcdf92-e8ce-4267-a36d-ea15ae86a1ea"
      },
      "outputs": [
        {
          "name": "stdout",
          "output_type": "stream",
          "text": [
            "Enter n value : 2\n",
            "20\n",
            "18\n",
            "16\n",
            "14\n",
            "12\n",
            "10\n",
            "8\n",
            "6\n",
            "4\n",
            "2\n"
          ]
        }
      ],
      "source": [
        "#printing multiples of n\n",
        "\n",
        "n = int(input('Enter n value : '))\n",
        "\n",
        "for i in range(n*10, 1, -n): \n",
        "    print(i)"
      ]
    },
    {
      "cell_type": "code",
      "execution_count": null,
      "id": "c76b74a8",
      "metadata": {
        "id": "c76b74a8",
        "outputId": "af469ba8-99ce-4c94-96be-09fd6d9779a1"
      },
      "outputs": [
        {
          "name": "stdout",
          "output_type": "stream",
          "text": [
            "Enter n value : 3\n",
            "Enter x value 100\n",
            "Enter x value 200\n",
            "Enter x value 10\n",
            "Maximum is  200\n"
          ]
        }
      ],
      "source": [
        "#finding large number from n numbers using for\n",
        "\n",
        "n = int(input('Enter n value : '))\n",
        "\n",
        "maximum = 0\n",
        "for i in range(n): \n",
        "    x = int(input('Enter x value '))\n",
        "    \n",
        "    if maximum<x:\n",
        "        maximum = x\n",
        "        \n",
        "print('Maximum is ', maximum)"
      ]
    },
    {
      "cell_type": "markdown",
      "id": "24ae317d",
      "metadata": {
        "id": "24ae317d"
      },
      "source": [
        "# Lists"
      ]
    },
    {
      "cell_type": "code",
      "execution_count": null,
      "id": "8be65dad",
      "metadata": {
        "id": "8be65dad",
        "outputId": "f43b0165-4c7f-4dcf-c7cb-2fd482a81f54"
      },
      "outputs": [
        {
          "name": "stdout",
          "output_type": "stream",
          "text": [
            "<class 'list'>\n",
            "[100, 200, 10]\n"
          ]
        }
      ],
      "source": [
        "nos = [100, 200, 10]\n",
        "\n",
        "print(type(nos))\n",
        "print(nos)"
      ]
    },
    {
      "cell_type": "code",
      "execution_count": null,
      "id": "182e234b",
      "metadata": {
        "id": "182e234b",
        "outputId": "aa083276-6256-4c32-d23a-cbd23246f9e8"
      },
      "outputs": [
        {
          "name": "stdout",
          "output_type": "stream",
          "text": [
            "[10, 20, 30, 40, 50, 5, 6, 21, 45]\n"
          ]
        }
      ],
      "source": [
        "no1 = [10, 20, 30, 40, 50, 5, 6, 21, 45]\n",
        "print(no1)"
      ]
    },
    {
      "cell_type": "markdown",
      "id": "d7ea3975",
      "metadata": {
        "id": "d7ea3975"
      },
      "source": [
        "# printing list values using for"
      ]
    },
    {
      "cell_type": "code",
      "execution_count": null,
      "id": "e31d83c4",
      "metadata": {
        "id": "e31d83c4",
        "outputId": "1bbb56aa-3348-4b26-c8c1-4d9ad8dd0742"
      },
      "outputs": [
        {
          "name": "stdout",
          "output_type": "stream",
          "text": [
            "10\n",
            "20\n",
            "30\n",
            "40\n",
            "50\n",
            "5\n",
            "6\n",
            "21\n",
            "45\n"
          ]
        }
      ],
      "source": [
        "for item in no1:\n",
        "    print(item)"
      ]
    },
    {
      "cell_type": "code",
      "execution_count": null,
      "id": "19e80750",
      "metadata": {
        "id": "19e80750",
        "outputId": "7e456bf7-50ad-4c0a-9ba6-8bb4cb54280f"
      },
      "outputs": [
        {
          "name": "stdout",
          "output_type": "stream",
          "text": [
            "100\n",
            "200\n",
            "10\n"
          ]
        }
      ],
      "source": [
        "for item in nos:\n",
        "    print(item)"
      ]
    },
    {
      "cell_type": "code",
      "execution_count": null,
      "id": "fc29e071",
      "metadata": {
        "id": "fc29e071",
        "outputId": "d4882c54-5e08-454d-f332-433d2438bbe6"
      },
      "outputs": [
        {
          "name": "stdout",
          "output_type": "stream",
          "text": [
            "Max is  100\n"
          ]
        }
      ],
      "source": [
        "#finding largest number using list and for\n",
        "\n",
        "no1 = [100, 10, 20, 30, 40, 50, 5, 6, 21, 45]\n",
        "\n",
        "maximum = no1[0]\n",
        "\n",
        "for x in no1:\n",
        "    if x>maximum:\n",
        "        maximum = x\n",
        "        \n",
        "print('Max is ', maximum)\n",
        "    "
      ]
    },
    {
      "cell_type": "code",
      "execution_count": null,
      "id": "842880e2",
      "metadata": {
        "id": "842880e2",
        "outputId": "9b50d802-6c7a-4bd7-f8a3-d2b8b751761e"
      },
      "outputs": [
        {
          "name": "stdout",
          "output_type": "stream",
          "text": [
            "Max is  100\n"
          ]
        }
      ],
      "source": [
        "maximum = max(no1)\n",
        "\n",
        "print('Max is ', maximum)"
      ]
    },
    {
      "cell_type": "code",
      "execution_count": null,
      "id": "fe3f58fe",
      "metadata": {
        "id": "fe3f58fe",
        "outputId": "46233014-0fd3-4e5c-d6dd-79cc554bfc20"
      },
      "outputs": [
        {
          "name": "stdout",
          "output_type": "stream",
          "text": [
            "[1, 2, 3, 4, 5, 6, 7, 8, 9, 10, 11, 12, 13, 14, 15, 16, 17, 18, 19, 20, 21, 22, 23, 24, 25, 26, 27, 28, 29, 30, 31, 32, 33, 34, 35, 36, 37, 38, 39, 40, 41, 42, 43, 44, 45, 46, 47, 48, 49, 50, 51, 52, 53, 54, 55, 56, 57, 58, 59, 60, 61, 62, 63, 64, 65, 66, 67, 68, 69, 70, 71, 72, 73, 74, 75, 76, 77, 78, 79, 80, 81, 82, 83, 84, 85, 86, 87, 88, 89, 90, 91, 92, 93, 94, 95, 96, 97, 98, 99, 100]\n"
          ]
        }
      ],
      "source": [
        "#we want list where it contains 1 to 100\n",
        "\n",
        "l1 = list(range(1, 101))\n",
        "\n",
        "print(l1)"
      ]
    },
    {
      "cell_type": "code",
      "execution_count": null,
      "id": "e8f31772",
      "metadata": {
        "id": "e8f31772",
        "outputId": "c315200b-c1b5-4d61-e62f-194dd694f94d"
      },
      "outputs": [
        {
          "name": "stdout",
          "output_type": "stream",
          "text": [
            "[10, 20, 30, 40, 50, 60, 70, 80, 90, 100]\n"
          ]
        }
      ],
      "source": [
        "#we want list where it contains 10 to 100, increment by 10\n",
        "\n",
        "l2 = list(range(10, 101, 10))\n",
        "\n",
        "print(l2)"
      ]
    },
    {
      "cell_type": "code",
      "execution_count": null,
      "id": "33c8f716",
      "metadata": {
        "id": "33c8f716",
        "outputId": "41b7d7ff-7489-4649-9c5d-faecbd4cd63a"
      },
      "outputs": [
        {
          "name": "stdout",
          "output_type": "stream",
          "text": [
            "range(1, 101)\n"
          ]
        }
      ],
      "source": [
        "l3 = range(1,101)\n",
        "\n",
        "print(l3)"
      ]
    },
    {
      "cell_type": "code",
      "execution_count": null,
      "id": "f3627620",
      "metadata": {
        "id": "f3627620",
        "outputId": "5626e564-760b-4965-ce6f-206d668a450f"
      },
      "outputs": [
        {
          "name": "stdout",
          "output_type": "stream",
          "text": [
            "1\n",
            "11\n",
            "100\n",
            "100\n",
            "99\n"
          ]
        }
      ],
      "source": [
        "#accessing elments from list\n",
        "\n",
        "#1. using index, always starts from 0,\n",
        "\n",
        "print(l1[0])\n",
        "print(l1[10])\n",
        "print(l1[99]) #i know list of numbers\n",
        "\n",
        "\n",
        "#2. using -ve index\n",
        "print(l1[-1])\n",
        "print(l1[-2])"
      ]
    },
    {
      "cell_type": "code",
      "execution_count": null,
      "id": "b7aad1ce",
      "metadata": {
        "id": "b7aad1ce",
        "outputId": "3058df5a-e396-4cd8-a819-67b9db5266a0"
      },
      "outputs": [
        {
          "name": "stdout",
          "output_type": "stream",
          "text": [
            "[100, 'shiva', 34.5]\n"
          ]
        }
      ],
      "source": [
        "#list can contain different kind of values\n",
        "\n",
        "l3 = [100, 'shiva', 34.5]\n",
        "\n",
        "print(l3)"
      ]
    },
    {
      "cell_type": "code",
      "execution_count": null,
      "id": "89378844",
      "metadata": {
        "id": "89378844",
        "outputId": "351b6720-ebfa-4326-a9b6-b10aa9dba8f2"
      },
      "outputs": [
        {
          "name": "stdout",
          "output_type": "stream",
          "text": [
            "<class 'int'>\n",
            "<class 'str'>\n",
            "<class 'float'>\n"
          ]
        }
      ],
      "source": [
        "print(type(l3[0]))\n",
        "print(type(l3[1]))\n",
        "print(type(l3[2]))"
      ]
    },
    {
      "cell_type": "code",
      "execution_count": null,
      "id": "6f21dd80",
      "metadata": {
        "id": "6f21dd80",
        "outputId": "a5e88442-bcd7-46c6-a403-1e7843e2cda5"
      },
      "outputs": [
        {
          "name": "stdout",
          "output_type": "stream",
          "text": [
            "[1, 2, 3, 4, 5, 6, 7, 8, 9, 10, 11, 12, 13, 14, 15, 16, 17, 18, 19, 20, 21, 22, 23, 24, 25, 26, 27, 28, 29, 30, 31, 32, 33, 34, 35, 36, 37, 38, 39, 40, 41, 42, 43, 44, 45, 46, 47, 48, 49, 50, 51, 52, 53, 54, 55, 56, 57, 58, 59, 60, 61, 62, 63, 64, 65, 66, 67, 68, 69, 70, 71, 72, 73, 74, 75, 76, 77, 78, 79, 80, 81, 82, 83, 84, 85, 86, 87, 88, 89, 90, 91, 92, 93, 94, 95, 96, 97, 98, 99, 100]\n"
          ]
        }
      ],
      "source": [
        "print(l1)"
      ]
    },
    {
      "cell_type": "code",
      "execution_count": null,
      "id": "905ea60f",
      "metadata": {
        "id": "905ea60f",
        "outputId": "ddbc9b4f-c2d8-47ac-97f1-31904d3c4345"
      },
      "outputs": [
        {
          "name": "stdout",
          "output_type": "stream",
          "text": [
            "[1, 2, 3, 4, 5]\n",
            "[1, 2, 3, 4, 5]\n",
            "[5, 6, 7, 8, 9]\n",
            "[1, 2, 3, 4, 5, 6, 7, 8, 9, 10]\n",
            "[1, 3, 5, 7, 9]\n",
            "[1, 4, 7, 10, 13]\n"
          ]
        }
      ],
      "source": [
        "#list slicing\n",
        "\n",
        "#first 5 numbers\n",
        "print(l1[0:5])\n",
        "print(l1[:5])\n",
        "\n",
        "#select 5 number from 4th position\n",
        "print(l1[4:9])\n",
        "\n",
        "#select 5 number where position is even\n",
        "print(l1[:10])\n",
        "print(l1[:10:2])\n",
        "\n",
        "#select 5 number by skiping 2 number\n",
        "print(l1[:15:3])\n",
        "\n"
      ]
    },
    {
      "cell_type": "code",
      "execution_count": null,
      "id": "dd95d6f5",
      "metadata": {
        "id": "dd95d6f5",
        "outputId": "cb0a7926-195e-4c8d-9d4b-55c37d738218"
      },
      "outputs": [
        {
          "name": "stdout",
          "output_type": "stream",
          "text": [
            "number of elements :  10\n",
            "[10, 20, 30, 'string', 'rahul']\n",
            "[10, 60, 'string', 50]\n"
          ]
        }
      ],
      "source": [
        "l4 = [10, 5, 20, 60, 30, 70, 'string', 30.56, 'rahul', 50]\n",
        "\n",
        "#to find size of list use len()\n",
        "print('number of elements : ', len(l4))\n",
        "\n",
        "#skip 1 number\n",
        "print(l4[0:len(l4):2])\n",
        "\n",
        "#skip 2 number\n",
        "print(l4[0:len(l4):3])"
      ]
    },
    {
      "cell_type": "code",
      "execution_count": null,
      "id": "52fa69ca",
      "metadata": {
        "id": "52fa69ca",
        "outputId": "c16fdef5-0133-4f0e-fefb-9500a894233b"
      },
      "outputs": [
        {
          "name": "stdout",
          "output_type": "stream",
          "text": [
            "[1, 2, 3, 4, 5, 6, 7, 8, 9, 10, 11, 12, 13, 14, 15, 16, 17, 18, 19, 20, 21, 22, 23, 24, 25, 26, 27, 28, 29, 30, 31, 32, 33, 34, 35, 36, 37, 38, 39, 40, 41, 42, 43, 44, 45, 46, 47, 48, 49, 50, 51, 52, 53, 54, 55, 56, 57, 58, 59, 60, 61, 62, 63, 64, 65, 66, 67, 68, 69, 70, 71, 72, 73, 74, 75, 76, 77, 78, 79, 80, 81, 82, 83, 84, 85, 86, 87, 88, 89, 90, 91, 92, 93, 94, 95, 96, 97, 98, 99, 100]\n",
            "[1, 6, 11, 16, 21, 26, 31, 36, 41, 46, 51, 56, 61, 66, 71, 76, 81, 86, 91, 96]\n",
            "[1, 51]\n"
          ]
        }
      ],
      "source": [
        "print(l1)\n",
        "print(l1[0:len(l1):5])\n",
        "print(l1[0:len(l1):50])"
      ]
    },
    {
      "cell_type": "markdown",
      "id": "795b2cdc",
      "metadata": {
        "id": "795b2cdc"
      },
      "source": [
        "# Find minimum, maximum, total, average from list\n",
        "\n",
        "## Test Case -1\n",
        "Input (l1=[20, 40, 50, 30, 60])\n",
        "\n",
        "Output:\n",
        "\n",
        "Minimum=20\n",
        "\n",
        "Maximum=60\n",
        "\n",
        "Total=200\n",
        "\n",
        "Average=40"
      ]
    },
    {
      "cell_type": "code",
      "execution_count": null,
      "id": "6644e202",
      "metadata": {
        "id": "6644e202",
        "outputId": "0902a8d4-1274-413b-a4e7-47bb9bae9b67"
      },
      "outputs": [
        {
          "name": "stdout",
          "output_type": "stream",
          "text": [
            "Min :  20\n",
            "Max :  70\n",
            "Tot :  350\n",
            "Avg :  43.75\n"
          ]
        }
      ],
      "source": [
        "l1 = [20, 40, 50, 30, 60, 50, 70, 30]\n",
        "\n",
        "minimum=l1[0]\n",
        "maximum=l1[0]\n",
        "total = 0\n",
        "\n",
        "for x in l1:\n",
        "    if minimum>x:\n",
        "        minimum=x\n",
        "    \n",
        "    if maximum<x:\n",
        "        maximum=x\n",
        "    total = total + x\n",
        "    \n",
        "average = total/len(l1)\n",
        "\n",
        "print('Min : ', minimum)\n",
        "print('Max : ', maximum)\n",
        "print('Tot : ', total)\n",
        "print('Avg : ', average)"
      ]
    },
    {
      "cell_type": "code",
      "execution_count": null,
      "id": "201c0762",
      "metadata": {
        "id": "201c0762",
        "outputId": "a30967b4-c365-494d-fa2b-1d2b329256e1"
      },
      "outputs": [
        {
          "name": "stdout",
          "output_type": "stream",
          "text": [
            "Min :  20\n",
            "Max :  70\n",
            "Tot :  350\n",
            "Avg :  43.75\n"
          ]
        }
      ],
      "source": [
        "#using existing functions min, max, sum\n",
        "l1 = [20, 40, 50, 30, 60, 50, 70, 30]\n",
        "\n",
        "minimum=min(l1)\n",
        "maximum=max(l1)\n",
        "total = sum(l1)  \n",
        "average = total/len(l1)\n",
        "\n",
        "print('Min : ', minimum)\n",
        "print('Max : ', maximum)\n",
        "print('Tot : ', total)\n",
        "print('Avg : ', average)"
      ]
    },
    {
      "cell_type": "code",
      "execution_count": null,
      "id": "c6273c5c",
      "metadata": {
        "id": "c6273c5c"
      },
      "outputs": [],
      "source": []
    }
  ],
  "metadata": {
    "kernelspec": {
      "display_name": "Python 3 (ipykernel)",
      "language": "python",
      "name": "python3"
    },
    "language_info": {
      "codemirror_mode": {
        "name": "ipython",
        "version": 3
      },
      "file_extension": ".py",
      "mimetype": "text/x-python",
      "name": "python",
      "nbconvert_exporter": "python",
      "pygments_lexer": "ipython3",
      "version": "3.9.13"
    },
    "colab": {
      "provenance": [],
      "include_colab_link": true
    }
  },
  "nbformat": 4,
  "nbformat_minor": 5
}