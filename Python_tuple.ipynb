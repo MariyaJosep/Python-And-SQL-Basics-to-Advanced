{
  "cells": [
    {
      "cell_type": "markdown",
      "metadata": {
        "id": "view-in-github",
        "colab_type": "text"
      },
      "source": [
        "<a href=\"https://colab.research.google.com/github/MariyaJosep/Python-And-SQL-Basics-to-Advanced/blob/main/Python_tuple.ipynb\" target=\"_parent\"><img src=\"https://colab.research.google.com/assets/colab-badge.svg\" alt=\"Open In Colab\"/></a>"
      ]
    },
    {
      "cell_type": "code",
      "execution_count": null,
      "id": "4dda40b9",
      "metadata": {
        "id": "4dda40b9",
        "outputId": "e2a0bce3-124b-40fd-fcf3-a14b2cb63d41"
      },
      "outputs": [
        {
          "name": "stdout",
          "output_type": "stream",
          "text": [
            "(10, 20, 30, 40)\n",
            "<class 'tuple'>\n"
          ]
        }
      ],
      "source": [
        "#Tuple\n",
        "\n",
        "t1 = (10, 20, 30, 40)\n",
        "\n",
        "print(t1)\n",
        "print(type(t1))"
      ]
    },
    {
      "cell_type": "code",
      "execution_count": null,
      "id": "83464a8e",
      "metadata": {
        "id": "83464a8e",
        "outputId": "b2e4e340-58d8-4ea5-a590-8ad02c2224a1"
      },
      "outputs": [
        {
          "name": "stdout",
          "output_type": "stream",
          "text": [
            "10\n"
          ]
        },
        {
          "ename": "TypeError",
          "evalue": "'tuple' object does not support item assignment",
          "output_type": "error",
          "traceback": [
            "\u001b[1;31m---------------------------------------------------------------------------\u001b[0m",
            "\u001b[1;31mTypeError\u001b[0m                                 Traceback (most recent call last)",
            "\u001b[1;32m~\\AppData\\Local\\Temp\\ipykernel_1652\\1742370428.py\u001b[0m in \u001b[0;36m<module>\u001b[1;34m\u001b[0m\n\u001b[0;32m      3\u001b[0m \u001b[0mprint\u001b[0m\u001b[1;33m(\u001b[0m\u001b[0mt1\u001b[0m\u001b[1;33m[\u001b[0m\u001b[1;36m0\u001b[0m\u001b[1;33m]\u001b[0m\u001b[1;33m)\u001b[0m\u001b[1;33m\u001b[0m\u001b[1;33m\u001b[0m\u001b[0m\n\u001b[0;32m      4\u001b[0m \u001b[1;33m\u001b[0m\u001b[0m\n\u001b[1;32m----> 5\u001b[1;33m \u001b[0mt1\u001b[0m\u001b[1;33m[\u001b[0m\u001b[1;36m0\u001b[0m\u001b[1;33m]\u001b[0m \u001b[1;33m=\u001b[0m \u001b[1;36m100\u001b[0m\u001b[1;33m\u001b[0m\u001b[1;33m\u001b[0m\u001b[0m\n\u001b[0m",
            "\u001b[1;31mTypeError\u001b[0m: 'tuple' object does not support item assignment"
          ]
        }
      ],
      "source": [
        "#Tuple is a immutable\n",
        "\n",
        "print(t1[0])\n",
        "\n",
        "t1[0] = 100"
      ]
    },
    {
      "cell_type": "code",
      "execution_count": null,
      "id": "f8370062",
      "metadata": {
        "id": "f8370062",
        "outputId": "7a611396-4bbc-4056-cdc0-c155f5c2ab2a"
      },
      "outputs": [
        {
          "name": "stdout",
          "output_type": "stream",
          "text": [
            "('Mon', 'Tue', 'Wed', 'Thu', 'Fri', 'Sat', 'Sun')\n"
          ]
        }
      ],
      "source": [
        "#var with day names, month names\n",
        "\n",
        "days = ('Mon', 'Tue', 'Wed', \"Thu\", 'Fri', 'Sat', 'Sun')\n",
        "\n",
        "print(days)"
      ]
    },
    {
      "cell_type": "code",
      "execution_count": null,
      "id": "61ae30c4",
      "metadata": {
        "id": "61ae30c4",
        "outputId": "3954a35c-c47a-444f-d65b-e2ca2e5ba760"
      },
      "outputs": [
        {
          "name": "stdout",
          "output_type": "stream",
          "text": [
            "('Tue', 'Wed', 'Thu', 'Fri')\n"
          ]
        }
      ],
      "source": [
        "print(days[1:5])"
      ]
    },
    {
      "cell_type": "code",
      "execution_count": null,
      "id": "18f5f2a8",
      "metadata": {
        "id": "18f5f2a8",
        "outputId": "a59c75bd-5f3e-44e4-816a-1f1669db4e55"
      },
      "outputs": [
        {
          "name": "stdout",
          "output_type": "stream",
          "text": [
            "Enter day of Birth : Man\n",
            "Please enter proper day name\n"
          ]
        }
      ],
      "source": [
        "day = input('Enter day of Birth : ')\n",
        "\n",
        "#we use membership operator (in, not in)\n",
        "\n",
        "if day in days:\n",
        "    print('Welcome : ')\n",
        "else:\n",
        "    print('Please enter proper day name')"
      ]
    },
    {
      "cell_type": "code",
      "execution_count": null,
      "id": "cc398914",
      "metadata": {
        "id": "cc398914",
        "outputId": "a3959fca-9753-40c3-a771-2428c1dac76e"
      },
      "outputs": [
        {
          "name": "stdout",
          "output_type": "stream",
          "text": [
            "Mon\n",
            "Tue\n",
            "Wed\n",
            "Thu\n",
            "Fri\n",
            "Sat\n",
            "Sun\n"
          ]
        }
      ],
      "source": [
        "# iterating tuple using for and index\n",
        "\n",
        "for i in range(len(days)):\n",
        "    print(days[i])"
      ]
    },
    {
      "cell_type": "code",
      "execution_count": null,
      "id": "47a6f254",
      "metadata": {
        "id": "47a6f254",
        "outputId": "c93ae971-1e9f-486c-f3ee-a1889fd58bd5"
      },
      "outputs": [
        {
          "name": "stdout",
          "output_type": "stream",
          "text": [
            "Mon\n",
            "Tue\n",
            "Wed\n",
            "Thu\n",
            "Fri\n",
            "Sat\n",
            "Sun\n"
          ]
        }
      ],
      "source": [
        "# iterating tuple using for and without index\n",
        "\n",
        "for x in days:\n",
        "    print(x)"
      ]
    },
    {
      "cell_type": "code",
      "execution_count": null,
      "id": "22d4dfa6",
      "metadata": {
        "id": "22d4dfa6",
        "outputId": "958ce293-b686-40ea-f021-4a3de9469414"
      },
      "outputs": [
        {
          "name": "stdout",
          "output_type": "stream",
          "text": [
            "{'sno': 100, 'sname': 'shiva', 'marks': 450}\n",
            "<class 'dict'>\n"
          ]
        }
      ],
      "source": [
        "#Dictionary\n",
        "\n",
        "s = {'sno':100, 'sname':'shiva', 'marks':450}\n",
        "\n",
        "print(s)\n",
        "print(type(s))"
      ]
    },
    {
      "cell_type": "code",
      "execution_count": null,
      "id": "96bd1af8",
      "metadata": {
        "id": "96bd1af8",
        "outputId": "904dd487-cbcb-4e00-9fda-49fd8331f771"
      },
      "outputs": [
        {
          "name": "stdout",
          "output_type": "stream",
          "text": [
            "100\n",
            "shiva\n",
            "450\n"
          ]
        }
      ],
      "source": [
        "#To access elements from the dictionary we use keys\n",
        "\n",
        "print(s['sno'])\n",
        "print(s['sname'])\n",
        "print(s['marks'])"
      ]
    },
    {
      "cell_type": "code",
      "execution_count": null,
      "id": "898af924",
      "metadata": {
        "id": "898af924",
        "outputId": "7b7c8046-f437-4295-a573-436a06785924"
      },
      "outputs": [
        {
          "name": "stdout",
          "output_type": "stream",
          "text": [
            "{'sno': 100, 'sname': 'shiva', 'marks': 450, 'class': '8 std'}\n"
          ]
        }
      ],
      "source": [
        "#adding new item to the dict\n",
        "\n",
        "s['class'] = '8 std'\n",
        "\n",
        "print(s)"
      ]
    },
    {
      "cell_type": "code",
      "execution_count": null,
      "id": "6b959f55",
      "metadata": {
        "id": "6b959f55",
        "outputId": "829d6a1c-0d73-497e-a1f9-e468cef8fdc3"
      },
      "outputs": [
        {
          "name": "stdout",
          "output_type": "stream",
          "text": [
            "{'sno': 100, 'sname': 'shiva', 'class': '8 std'}\n"
          ]
        }
      ],
      "source": [
        "#removing item from the dict\n",
        "\n",
        "del s['marks']\n",
        "print(s)"
      ]
    },
    {
      "cell_type": "code",
      "execution_count": null,
      "id": "e50139f7",
      "metadata": {
        "id": "e50139f7"
      },
      "outputs": [],
      "source": [
        "#Note: if we use var with del delets variable from memory\n",
        "\n",
        "del s"
      ]
    },
    {
      "cell_type": "code",
      "execution_count": null,
      "id": "4529f90f",
      "metadata": {
        "id": "4529f90f",
        "outputId": "705ab1db-1dac-47f6-ea67-86ed848fbf71"
      },
      "outputs": [
        {
          "name": "stdout",
          "output_type": "stream",
          "text": [
            "{'sno': 100, 'sname': 'shiva', 'class': '8 std'}\n",
            "3\n",
            "dict_keys(['sno', 'sname', 'class'])\n",
            "dict_values([100, 'shiva', '8 std'])\n"
          ]
        }
      ],
      "source": [
        "print(s)\n",
        "print(len(s))\n",
        "print(s.keys()) #returns all keys in form of a list\n",
        "print(s.values()) #returns all values in form of a list"
      ]
    },
    {
      "cell_type": "code",
      "execution_count": null,
      "id": "67311a99",
      "metadata": {
        "id": "67311a99"
      },
      "outputs": [],
      "source": [
        "#differenc between following code\n",
        "\n",
        "#s.clear() #it remove all elements, makes empty\n",
        "\n",
        "#del s #it delete object from memory"
      ]
    },
    {
      "cell_type": "code",
      "execution_count": null,
      "id": "dfb7a5f0",
      "metadata": {
        "id": "dfb7a5f0",
        "outputId": "568eae16-cf29-441e-d24e-359e47ae6edf"
      },
      "outputs": [
        {
          "name": "stdout",
          "output_type": "stream",
          "text": [
            "{'pid': [100, 200], 'pname': ['iPhone', 'iPad'], 'price': [35, 45]}\n",
            "[100, 200]\n"
          ]
        }
      ],
      "source": [
        "#products = {'pid':[100, 200], 'pname':['iPhone', 'iPad'], 'price':[35, 45]}\n",
        "products = {'pid':[100, 200], 'pname':['iPhone', 'iPad'], 'price':[35, 45]}\n",
        "\n",
        "print(products)\n",
        "print(products['pid'])"
      ]
    },
    {
      "cell_type": "code",
      "execution_count": null,
      "id": "bcc93ee1",
      "metadata": {
        "id": "bcc93ee1",
        "outputId": "189f9a6a-ccc3-4476-b8ef-40b60824d9ec"
      },
      "outputs": [
        {
          "name": "stdout",
          "output_type": "stream",
          "text": [
            "{'pid': [100, 200, 250, 300], 'pname': ['iPhone', 'iPad', 'Mac Book', 'Mac Pro'], 'price': [35, 45, 85, 95]}\n"
          ]
        }
      ],
      "source": [
        "#adding new product with 300, 'Mac Pro', 95\n",
        "\n",
        "products['pid'].append(300)\n",
        "products['pname'].append('Mac Pro')\n",
        "products['price'].append(95)\n",
        "\n",
        "print(products)"
      ]
    },
    {
      "cell_type": "code",
      "execution_count": null,
      "id": "1b2b47d8",
      "metadata": {
        "id": "1b2b47d8",
        "outputId": "bd87a18e-b4f4-474b-a3d3-948accbb85e9"
      },
      "outputs": [
        {
          "name": "stdout",
          "output_type": "stream",
          "text": [
            "{'pid': [100, 200, 250, 250, 300], 'pname': ['iPhone', 'iPad', 'Mac Book', 'Mac Book', 'Mac Pro'], 'price': [35, 45, 85, 85, 95]}\n"
          ]
        }
      ],
      "source": [
        "#adding new product with 250, 'Mac Book', 85 at second place\n",
        "\n",
        "products['pid'].insert(2, 250)\n",
        "products['pname'].insert(2,'Mac Book')\n",
        "products['price'].insert(2, 85)\n",
        "\n",
        "print(products)"
      ]
    },
    {
      "cell_type": "code",
      "execution_count": null,
      "id": "816a020b",
      "metadata": {
        "id": "816a020b",
        "outputId": "9770cc66-f776-4514-8330-7b3d473f738d"
      },
      "outputs": [
        {
          "name": "stdout",
          "output_type": "stream",
          "text": [
            "{'pid': [100, 200, 300], 'pname': ['iPhone', 'iPad', 'Mac Pro'], 'price': [35, 45, 95]}\n"
          ]
        }
      ],
      "source": [
        "print(products)"
      ]
    },
    {
      "cell_type": "code",
      "execution_count": null,
      "id": "b490686a",
      "metadata": {
        "id": "b490686a",
        "outputId": "ec794069-b8e8-47dc-deb1-2cbf501baf95"
      },
      "outputs": [
        {
          "name": "stdout",
          "output_type": "stream",
          "text": [
            "Product with 300 deleted\n",
            "{'pid': [100, 200], 'pname': ['iPhone', 'iPad'], 'price': [35, 45]}\n"
          ]
        }
      ],
      "source": [
        "#deleting product with 250, 'Mac Book', 85 at second place\n",
        "\n",
        "#check 250 is there in dictionary then element, hint: use membership operator\n",
        "if 300 in products['pid']:\n",
        "    products['pid'].remove(300)\n",
        "    products['pname'].remove('Mac Pro')\n",
        "    products['price'].remove(95)\n",
        "    \n",
        "    print('Product with 300 deleted')\n",
        "else:\n",
        "    print('Produnct with 300 not exists')\n",
        "\n",
        "print(products)"
      ]
    },
    {
      "cell_type": "code",
      "execution_count": null,
      "id": "955c5fbe",
      "metadata": {
        "id": "955c5fbe",
        "outputId": "270419e0-db4f-4d6c-993b-53d23b4e2fc4"
      },
      "outputs": [
        {
          "name": "stdout",
          "output_type": "stream",
          "text": [
            "[20, 10, 30]\n"
          ]
        }
      ],
      "source": [
        "l1 = [10, 20, 10, 30]\n",
        "\n",
        "l1.remove(10)\n",
        "\n",
        "print(l1)"
      ]
    },
    {
      "cell_type": "code",
      "execution_count": null,
      "id": "70f7c3a8",
      "metadata": {
        "id": "70f7c3a8",
        "outputId": "96e24b41-d496-4ee6-9d33-73a28148a65a"
      },
      "outputs": [
        {
          "name": "stdout",
          "output_type": "stream",
          "text": [
            "{'sno': 1000, 'sname': 'Rahul', 'class': '10+2', 'marks': 456}\n",
            "sno = 1000\n",
            "sname = Rahul\n",
            "class = 10+2\n",
            "marks = 456\n"
          ]
        }
      ],
      "source": [
        "#iterating dictionay\n",
        "\n",
        "d1 = {'sno':1000, 'sname':'Rahul', 'class':'10+2', 'marks':456}\n",
        "print(d1)\n",
        "\n",
        "#using keys()\n",
        "\n",
        "keys = d1.keys() #keys = ['sno', 'sname', 'class', 'marks']\n",
        "\n",
        "for key in keys:\n",
        "    print(key, \"=\", d1[key])\n",
        "    "
      ]
    },
    {
      "cell_type": "code",
      "execution_count": null,
      "id": "c1e00e2b",
      "metadata": {
        "id": "c1e00e2b"
      },
      "outputs": [],
      "source": [
        "#help(d1)"
      ]
    },
    {
      "cell_type": "code",
      "execution_count": null,
      "id": "03713e1a",
      "metadata": {
        "id": "03713e1a",
        "outputId": "cbbb50b4-b873-4567-dc9e-3f01ad4f1566"
      },
      "outputs": [
        {
          "name": "stdout",
          "output_type": "stream",
          "text": [
            "dict_items([('sno', 1000), ('sname', 'Rahul'), ('class', '10+2'), ('marks', 456)])\n"
          ]
        }
      ],
      "source": [
        "print(d1.items())"
      ]
    },
    {
      "cell_type": "code",
      "execution_count": null,
      "id": "ee847644",
      "metadata": {
        "id": "ee847644",
        "outputId": "1548f26b-bbea-4a1d-9f02-65ab690d0b29"
      },
      "outputs": [
        {
          "name": "stdout",
          "output_type": "stream",
          "text": [
            "sno = 1000\n",
            "sname = Rahul\n",
            "class = 10+2\n",
            "marks = 456\n"
          ]
        }
      ],
      "source": [
        "for key, value in d1.items():\n",
        "    print(key, \"=\", value)"
      ]
    },
    {
      "cell_type": "code",
      "execution_count": null,
      "id": "3aff89e9",
      "metadata": {
        "id": "3aff89e9"
      },
      "outputs": [],
      "source": [
        "l1=[] #empty list\n",
        "d1={} #empty dictionary"
      ]
    },
    {
      "cell_type": "code",
      "execution_count": null,
      "id": "bad09466",
      "metadata": {
        "id": "bad09466",
        "outputId": "009f4241-7831-4acb-c5a6-63bc485b9aa2"
      },
      "outputs": [
        {
          "name": "stdout",
          "output_type": "stream",
          "text": [
            "{40, 10, 20, 30}\n"
          ]
        }
      ],
      "source": [
        "#set\n",
        "\n",
        "s1 = {10, 20, 30, 10, 40, 10, 10, 40}\n",
        "\n",
        "print(s1)"
      ]
    },
    {
      "cell_type": "code",
      "execution_count": null,
      "id": "be96e586",
      "metadata": {
        "id": "be96e586",
        "outputId": "2f61cb14-d49a-4cd0-f8fa-acefb0dbe5f1"
      },
      "outputs": [
        {
          "name": "stdout",
          "output_type": "stream",
          "text": [
            "{100, 40, 200, 10, 20}\n"
          ]
        }
      ],
      "source": [
        "#finding unique values from the list\n",
        "l1 = [10, 20, 40, 10, 10, 40,40,100, 200, 200]\n",
        "\n",
        "s2 = set(l1)\n",
        "print(s2)"
      ]
    },
    {
      "cell_type": "code",
      "execution_count": null,
      "id": "3edd2dcc",
      "metadata": {
        "id": "3edd2dcc",
        "outputId": "eb4c860f-9c1c-4074-cc0c-c3a28a668a57"
      },
      "outputs": [
        {
          "name": "stdout",
          "output_type": "stream",
          "text": [
            "{40, 10, 20, 30} {100, 40, 200, 10, 20}\n"
          ]
        }
      ],
      "source": [
        "print(s1, s2)"
      ]
    },
    {
      "cell_type": "code",
      "execution_count": null,
      "id": "105eaed9",
      "metadata": {
        "id": "105eaed9",
        "outputId": "215ba7f9-9f19-43ec-9a28-2b9c8e13c0c2"
      },
      "outputs": [
        {
          "name": "stdout",
          "output_type": "stream",
          "text": [
            "{100, 40, 200, 10, 20, 30}\n"
          ]
        }
      ],
      "source": [
        "print(s1.union(s2))"
      ]
    },
    {
      "cell_type": "code",
      "execution_count": null,
      "id": "1b542e76",
      "metadata": {
        "id": "1b542e76",
        "outputId": "9c38a69d-7025-4771-9f18-3fb8326288dd"
      },
      "outputs": [
        {
          "name": "stdout",
          "output_type": "stream",
          "text": [
            "{40, 10, 20}\n"
          ]
        }
      ],
      "source": [
        "print(s1.intersection(s2))"
      ]
    },
    {
      "cell_type": "code",
      "execution_count": null,
      "id": "9765730a",
      "metadata": {
        "id": "9765730a",
        "outputId": "8a095621-00dc-4c10-dda3-03a084773b7e"
      },
      "outputs": [
        {
          "name": "stdout",
          "output_type": "stream",
          "text": [
            "40\n",
            "10\n",
            "20\n",
            "30\n"
          ]
        }
      ],
      "source": [
        "#iterating set using for\n",
        "\n",
        "for x in s1:\n",
        "    print(x)"
      ]
    },
    {
      "cell_type": "code",
      "execution_count": null,
      "id": "3aead3f2",
      "metadata": {
        "id": "3aead3f2"
      },
      "outputs": [],
      "source": [
        "#defining a funtion to perform addition of two number\n",
        "\n",
        "def add(a, b):\n",
        "    #100 lines\n",
        "    c = a + b\n",
        "    print('sum ', c)\n",
        "    "
      ]
    },
    {
      "cell_type": "code",
      "execution_count": null,
      "id": "07c4e7c1",
      "metadata": {
        "id": "07c4e7c1",
        "outputId": "32f9c634-376f-4f2c-df12-f2d33d42c6e7"
      },
      "outputs": [
        {
          "name": "stdout",
          "output_type": "stream",
          "text": [
            "sum  3\n",
            "sum  30\n"
          ]
        }
      ],
      "source": [
        "#function calling\n",
        "\n",
        "add(1,2)\n",
        "add(10, 20)"
      ]
    },
    {
      "cell_type": "code",
      "execution_count": null,
      "id": "1675f449",
      "metadata": {
        "id": "1675f449",
        "outputId": "2aa04f0b-d188-4a45-c869-679db1f2586d"
      },
      "outputs": [
        {
          "name": "stdout",
          "output_type": "stream",
          "text": [
            "[10, 20, 30, 40, 50]\n"
          ]
        }
      ],
      "source": [
        "l1 = [10, 20, 30, 40, 50]\n",
        "no = 200\n",
        "\n",
        "def del_ele_from_list(l1, no):\n",
        "    if no in l1:\n",
        "        l1.remove(no)  \n",
        "        print(no, 'deleted')\n",
        "    else:\n",
        "        print(no, 'not exists')\n",
        "\n",
        "print(l1)"
      ]
    },
    {
      "cell_type": "code",
      "execution_count": null,
      "id": "74fca088",
      "metadata": {
        "id": "74fca088",
        "outputId": "38f1e17e-17a5-4b24-b6a9-a22f191b9059"
      },
      "outputs": [
        {
          "name": "stdout",
          "output_type": "stream",
          "text": [
            "one more \n",
            "10 deleted\n"
          ]
        }
      ],
      "source": [
        "del_ele_from_list(l1, 10)"
      ]
    },
    {
      "cell_type": "code",
      "execution_count": null,
      "id": "ae7a91dc",
      "metadata": {
        "id": "ae7a91dc",
        "outputId": "3af567ff-39b4-4955-f7be-50b92cfdcefd"
      },
      "outputs": [
        {
          "name": "stdout",
          "output_type": "stream",
          "text": [
            "kumar deleted\n"
          ]
        }
      ],
      "source": [
        "l2 = ['rajesh', 'rahul', 'kumar']\n",
        "\n",
        "del_ele_from_list(l2, 'kumar')"
      ]
    },
    {
      "cell_type": "code",
      "execution_count": null,
      "id": "0af989e9",
      "metadata": {
        "id": "0af989e9",
        "outputId": "430be5bd-4e6e-421a-faca-588b15dbf0c9"
      },
      "outputs": [
        {
          "name": "stdout",
          "output_type": "stream",
          "text": [
            "60.76 deleted\n"
          ]
        }
      ],
      "source": [
        "l3 = [20.40, 40.56, 60.76]\n",
        "\n",
        "del_ele_from_list(l3, 60.76)"
      ]
    },
    {
      "cell_type": "code",
      "execution_count": null,
      "id": "7a09bc23",
      "metadata": {
        "id": "7a09bc23",
        "outputId": "efcbdf83-a250-4cbb-b320-d0b967da8557"
      },
      "outputs": [
        {
          "name": "stdout",
          "output_type": "stream",
          "text": [
            "[20.4, 40.56]\n"
          ]
        }
      ],
      "source": [
        "print(l3)"
      ]
    },
    {
      "cell_type": "code",
      "execution_count": null,
      "id": "a8bcf73a",
      "metadata": {
        "id": "a8bcf73a"
      },
      "outputs": [],
      "source": [
        "find_ele_in_list()"
      ]
    },
    {
      "cell_type": "code",
      "execution_count": null,
      "id": "4290813d",
      "metadata": {
        "id": "4290813d"
      },
      "outputs": [],
      "source": [
        "def find_ele_in_list():\n",
        "    pass"
      ]
    },
    {
      "cell_type": "code",
      "execution_count": null,
      "id": "accc6664",
      "metadata": {
        "id": "accc6664"
      },
      "outputs": [],
      "source": []
    }
  ],
  "metadata": {
    "kernelspec": {
      "display_name": "Python 3 (ipykernel)",
      "language": "python",
      "name": "python3"
    },
    "language_info": {
      "codemirror_mode": {
        "name": "ipython",
        "version": 3
      },
      "file_extension": ".py",
      "mimetype": "text/x-python",
      "name": "python",
      "nbconvert_exporter": "python",
      "pygments_lexer": "ipython3",
      "version": "3.9.13"
    },
    "colab": {
      "provenance": [],
      "include_colab_link": true
    }
  },
  "nbformat": 4,
  "nbformat_minor": 5
}