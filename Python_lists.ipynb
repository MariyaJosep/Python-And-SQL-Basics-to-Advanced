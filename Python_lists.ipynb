{
  "cells": [
    {
      "cell_type": "markdown",
      "metadata": {
        "id": "view-in-github",
        "colab_type": "text"
      },
      "source": [
        "<a href=\"https://colab.research.google.com/github/MariyaJosep/Python-And-SQL-Basics-to-Advanced/blob/main/Python_lists.ipynb\" target=\"_parent\"><img src=\"https://colab.research.google.com/assets/colab-badge.svg\" alt=\"Open In Colab\"/></a>"
      ]
    },
    {
      "cell_type": "code",
      "execution_count": null,
      "id": "bc736271",
      "metadata": {
        "id": "bc736271"
      },
      "outputs": [],
      "source": [
        "#creating empty list\n",
        "\n",
        "l1 = []"
      ]
    },
    {
      "cell_type": "code",
      "execution_count": null,
      "id": "a309eb8d",
      "metadata": {
        "id": "a309eb8d",
        "outputId": "983e510f-bb17-4de1-fc8a-a010dcc2371e"
      },
      "outputs": [
        {
          "name": "stdout",
          "output_type": "stream",
          "text": [
            "[]\n"
          ]
        }
      ],
      "source": [
        "print(l1)"
      ]
    },
    {
      "cell_type": "code",
      "execution_count": null,
      "id": "021f7190",
      "metadata": {
        "id": "021f7190",
        "outputId": "ba90f659-02e0-4374-a49c-8761e8e9fcf0"
      },
      "outputs": [
        {
          "name": "stdout",
          "output_type": "stream",
          "text": [
            "[20]\n"
          ]
        }
      ],
      "source": [
        "#appending elements\n",
        "\n",
        "l1.append(20)\n",
        "print(l1)"
      ]
    },
    {
      "cell_type": "code",
      "execution_count": null,
      "id": "636bc222",
      "metadata": {
        "id": "636bc222",
        "outputId": "c8f60af5-ac20-4c7a-a96b-58f355e5e70b"
      },
      "outputs": [
        {
          "name": "stdout",
          "output_type": "stream",
          "text": [
            "[20, 40]\n"
          ]
        }
      ],
      "source": [
        "l1.append(40)\n",
        "print(l1)"
      ]
    },
    {
      "cell_type": "code",
      "execution_count": null,
      "id": "b8d9cd01",
      "metadata": {
        "id": "b8d9cd01",
        "outputId": "31191d6c-673f-4f61-8d40-28c2f5a6f61a"
      },
      "outputs": [
        {
          "name": "stdout",
          "output_type": "stream",
          "text": [
            "[20, 40, 60, 50, 10, 10]\n"
          ]
        }
      ],
      "source": [
        "l1.append(60)\n",
        "l1.append(50)\n",
        "l1.append(10)\n",
        "l1.append(10)\n",
        "\n",
        "print(l1)"
      ]
    },
    {
      "cell_type": "code",
      "execution_count": null,
      "id": "32ae06bf",
      "metadata": {
        "id": "32ae06bf",
        "outputId": "e621537d-0606-4672-960f-92d604dc9d48"
      },
      "outputs": [
        {
          "name": "stdout",
          "output_type": "stream",
          "text": [
            "[20, 400, 60, 50, 10, 10]\n"
          ]
        }
      ],
      "source": [
        "#updating existing elemnt 40 to 400\n",
        "\n",
        "l1[1] = 400\n",
        "print(l1)"
      ]
    },
    {
      "cell_type": "code",
      "execution_count": null,
      "id": "ab51f7a4",
      "metadata": {
        "id": "ab51f7a4",
        "outputId": "4d21cd9f-f934-4eee-b2a1-6e1fbc39955a"
      },
      "outputs": [
        {
          "name": "stdout",
          "output_type": "stream",
          "text": [
            "[20, 400, 60, 50, 10, 100]\n"
          ]
        }
      ],
      "source": [
        "#updating last number to 100\n",
        "l1[-1]=100\n",
        "print(l1)"
      ]
    },
    {
      "cell_type": "code",
      "execution_count": null,
      "id": "d7fef4fb",
      "metadata": {
        "id": "d7fef4fb",
        "outputId": "2182e73e-b4da-4c0c-f5ea-a5ca396092f2"
      },
      "outputs": [
        {
          "name": "stdout",
          "output_type": "stream",
          "text": [
            "[100, 20, 400, 60, 50, 10, 100]\n"
          ]
        }
      ],
      "source": [
        "#adding element at ith position\n",
        "\n",
        "#shift+tab together to get help\n",
        "l1.insert(0, 100)\n",
        "print(l1)"
      ]
    },
    {
      "cell_type": "code",
      "execution_count": null,
      "id": "b1a60044",
      "metadata": {
        "id": "b1a60044",
        "outputId": "4afe3d00-ef11-4577-e893-eb3f35693e12"
      },
      "outputs": [
        {
          "name": "stdout",
          "output_type": "stream",
          "text": [
            "[100, 20, 400, 1000, 60, 50, 10, 100]\n"
          ]
        }
      ],
      "source": [
        "l1.insert(3, 1000)\n",
        "print(l1)"
      ]
    },
    {
      "cell_type": "code",
      "execution_count": null,
      "id": "3674d103",
      "metadata": {
        "id": "3674d103",
        "outputId": "de614c4f-609d-47a3-c11d-69d072bb97d3"
      },
      "outputs": [
        {
          "name": "stdout",
          "output_type": "stream",
          "text": [
            "[100, 20, 400, 1000, 60, 50, 10]\n"
          ]
        }
      ],
      "source": [
        "#deleting last element from list\n",
        "\n",
        "del l1[-1]\n",
        "print(l1)"
      ]
    },
    {
      "cell_type": "code",
      "execution_count": null,
      "id": "eaf764db",
      "metadata": {
        "id": "eaf764db",
        "outputId": "0a85b359-41cd-47f8-bc94-fb335081ae35"
      },
      "outputs": [
        {
          "name": "stdout",
          "output_type": "stream",
          "text": [
            "[100, 20, 400, 1000, 60, 50]\n"
          ]
        }
      ],
      "source": [
        "#deleting last elemnt from list using pop\n",
        "l1.pop()\n",
        "print(l1)"
      ]
    },
    {
      "cell_type": "code",
      "execution_count": null,
      "id": "e080ac82",
      "metadata": {
        "id": "e080ac82",
        "outputId": "f572f1cc-4bb5-4600-fd4b-699a52a78093"
      },
      "outputs": [
        {
          "name": "stdout",
          "output_type": "stream",
          "text": [
            "[100, 20, 1000, 60, 50]\n"
          ]
        }
      ],
      "source": [
        "#deleting elemnt ith position from list using pop\n",
        "#pop method is used to delete elements from the list using index\n",
        "l1.pop(2)\n",
        "print(l1)"
      ]
    },
    {
      "cell_type": "code",
      "execution_count": null,
      "id": "a49c4684",
      "metadata": {
        "id": "a49c4684",
        "outputId": "8bf8c363-efb0-4324-e275-2b5647bf37fb"
      },
      "outputs": [
        {
          "name": "stdout",
          "output_type": "stream",
          "text": [
            "[100, 20, 60, 50]\n"
          ]
        }
      ],
      "source": [
        "#delete element with specific values using remove\n",
        "#remove method is used to delete elements from the list using value\n",
        "l1.remove(1000)\n",
        "print(l1)"
      ]
    },
    {
      "cell_type": "code",
      "execution_count": null,
      "id": "b6375893",
      "metadata": {
        "id": "b6375893"
      },
      "outputs": [],
      "source": [
        "emp_names = []"
      ]
    },
    {
      "cell_type": "code",
      "execution_count": null,
      "id": "1cfbf82a",
      "metadata": {
        "id": "1cfbf82a",
        "outputId": "a4ff1784-e839-4687-8b50-dc6f4bfcaf9b"
      },
      "outputs": [
        {
          "name": "stdout",
          "output_type": "stream",
          "text": [
            "['Rahul', 'Kumar']\n"
          ]
        }
      ],
      "source": [
        "emp_names.append('Rahul')\n",
        "emp_names.append('Kumar')\n",
        "\n",
        "print(emp_names)"
      ]
    },
    {
      "cell_type": "code",
      "execution_count": null,
      "id": "c7b02433",
      "metadata": {
        "id": "c7b02433",
        "outputId": "f11ea89f-590f-4559-a0dd-d3f706aed5ee"
      },
      "outputs": [
        {
          "name": "stdout",
          "output_type": "stream",
          "text": [
            "['Rajesh', 'Kumar']\n"
          ]
        }
      ],
      "source": [
        "#changing name Rahul to Rajesh\n",
        "\n",
        "emp_names[0] = 'Rajesh'\n",
        "print(emp_names)"
      ]
    },
    {
      "cell_type": "code",
      "execution_count": null,
      "id": "6bd356ee",
      "metadata": {
        "id": "6bd356ee",
        "outputId": "ad4eb54f-7db2-4b51-b409-f89863e96d5e"
      },
      "outputs": [
        {
          "name": "stdout",
          "output_type": "stream",
          "text": [
            "[]\n"
          ]
        }
      ],
      "source": [
        "#deleting all elements from list using clear\n",
        "\n",
        "emp_names.clear()\n",
        "print(emp_names)\n"
      ]
    },
    {
      "cell_type": "code",
      "execution_count": null,
      "id": "14c1abc4",
      "metadata": {
        "id": "14c1abc4",
        "outputId": "57e1dc21-1944-460c-961e-1445e34bcdc6"
      },
      "outputs": [
        {
          "data": {
            "text/plain": [
              "[100, 20, 60, 50]"
            ]
          },
          "execution_count": 18,
          "metadata": {},
          "output_type": "execute_result"
        }
      ],
      "source": [
        "l1"
      ]
    },
    {
      "cell_type": "code",
      "execution_count": null,
      "id": "07c4bab3",
      "metadata": {
        "id": "07c4bab3",
        "outputId": "a3b9357c-03a3-4d77-90b6-6f32bc46fa2d"
      },
      "outputs": [
        {
          "name": "stdout",
          "output_type": "stream",
          "text": [
            "60 exists at position 1\n"
          ]
        }
      ],
      "source": [
        "pos = l1.index(60)\n",
        "\n",
        "if pos>-1:\n",
        "    print('60 exists at position', pos)\n"
      ]
    },
    {
      "cell_type": "code",
      "execution_count": null,
      "id": "8e0a3344",
      "metadata": {
        "id": "8e0a3344",
        "outputId": "fbe6f12f-d3d7-49bc-d60e-a0f6008bd73f"
      },
      "outputs": [
        {
          "ename": "ValueError",
          "evalue": "200 is not in list",
          "output_type": "error",
          "traceback": [
            "\u001b[1;31m---------------------------------------------------------------------------\u001b[0m",
            "\u001b[1;31mValueError\u001b[0m                                Traceback (most recent call last)",
            "\u001b[1;32m~\\AppData\\Local\\Temp\\ipykernel_15628\\2242016762.py\u001b[0m in \u001b[0;36m<module>\u001b[1;34m\u001b[0m\n\u001b[1;32m----> 1\u001b[1;33m \u001b[0mpos\u001b[0m \u001b[1;33m=\u001b[0m \u001b[0ml1\u001b[0m\u001b[1;33m.\u001b[0m\u001b[0mindex\u001b[0m\u001b[1;33m(\u001b[0m\u001b[1;36m200\u001b[0m\u001b[1;33m)\u001b[0m\u001b[1;33m\u001b[0m\u001b[1;33m\u001b[0m\u001b[0m\n\u001b[0m\u001b[0;32m      2\u001b[0m \u001b[1;33m\u001b[0m\u001b[0m\n\u001b[0;32m      3\u001b[0m \u001b[1;32mif\u001b[0m \u001b[0mpos\u001b[0m\u001b[1;33m>\u001b[0m\u001b[1;33m-\u001b[0m\u001b[1;36m1\u001b[0m\u001b[1;33m:\u001b[0m\u001b[1;33m\u001b[0m\u001b[1;33m\u001b[0m\u001b[0m\n\u001b[0;32m      4\u001b[0m     \u001b[0mprint\u001b[0m\u001b[1;33m(\u001b[0m\u001b[1;34m'200 exists at position'\u001b[0m\u001b[1;33m,\u001b[0m \u001b[0mpos\u001b[0m\u001b[1;33m)\u001b[0m\u001b[1;33m\u001b[0m\u001b[1;33m\u001b[0m\u001b[0m\n\u001b[0;32m      5\u001b[0m \u001b[1;32melse\u001b[0m\u001b[1;33m:\u001b[0m\u001b[1;33m\u001b[0m\u001b[1;33m\u001b[0m\u001b[0m\n",
            "\u001b[1;31mValueError\u001b[0m: 200 is not in list"
          ]
        }
      ],
      "source": [
        "pos = l1.index(200)\n",
        "\n",
        "if pos>-1:\n",
        "    print('200 exists at position', pos)\n",
        "else:\n",
        "    print('200 does not exist')"
      ]
    },
    {
      "cell_type": "code",
      "execution_count": null,
      "id": "4eaa33ad",
      "metadata": {
        "id": "4eaa33ad",
        "outputId": "8208aaa5-4d2f-4dbd-c453-17c71ae38589"
      },
      "outputs": [
        {
          "name": "stdout",
          "output_type": "stream",
          "text": [
            "[100, 20, 60, 50]\n"
          ]
        }
      ],
      "source": [
        "print(l1)"
      ]
    },
    {
      "cell_type": "code",
      "execution_count": null,
      "id": "6e9af743",
      "metadata": {
        "id": "6e9af743",
        "outputId": "79b27c8e-ca16-4933-84d1-0aa8ad5cbf47"
      },
      "outputs": [
        {
          "name": "stdout",
          "output_type": "stream",
          "text": [
            "[50, 60, 20, 100]\n"
          ]
        }
      ],
      "source": [
        "l1.reverse()\n",
        "print(l1)"
      ]
    },
    {
      "cell_type": "code",
      "execution_count": null,
      "id": "e93a33bf",
      "metadata": {
        "id": "e93a33bf",
        "outputId": "ece8b517-92f1-4558-cdde-56057f8a1a63"
      },
      "outputs": [
        {
          "name": "stdout",
          "output_type": "stream",
          "text": [
            "[20, 50, 60, 100]\n"
          ]
        }
      ],
      "source": [
        "l1.sort()\n",
        "print(l1)"
      ]
    },
    {
      "cell_type": "code",
      "execution_count": null,
      "id": "b7020a66",
      "metadata": {
        "id": "b7020a66",
        "outputId": "a396ee06-dbdc-458a-b212-730802b06c37"
      },
      "outputs": [
        {
          "name": "stdout",
          "output_type": "stream",
          "text": [
            "[100, 60, 50, 20]\n"
          ]
        }
      ],
      "source": [
        "l1.reverse()\n",
        "print(l1)"
      ]
    },
    {
      "cell_type": "code",
      "execution_count": null,
      "id": "59b656ce",
      "metadata": {
        "id": "59b656ce",
        "outputId": "6336d97e-9055-4193-c8c7-2f6f3a0cd679"
      },
      "outputs": [
        {
          "name": "stdout",
          "output_type": "stream",
          "text": [
            "20 exists at position 3\n"
          ]
        }
      ],
      "source": [
        "pos = l1.index(20)\n",
        "\n",
        "if pos>-1:\n",
        "    print('20 exists at position', pos)"
      ]
    },
    {
      "cell_type": "code",
      "execution_count": null,
      "id": "e892acc9",
      "metadata": {
        "id": "e892acc9",
        "outputId": "c0636e70-a5b1-4dc5-f06d-8dcdc98cafda"
      },
      "outputs": [
        {
          "name": "stdout",
          "output_type": "stream",
          "text": [
            "20 exists at position 3\n"
          ]
        }
      ],
      "source": [
        "pos = l1.index(20)\n",
        "\n",
        "if pos<len(l1):\n",
        "    print('20 exists at position', pos)"
      ]
    },
    {
      "cell_type": "code",
      "execution_count": null,
      "id": "f364b2d1",
      "metadata": {
        "id": "f364b2d1",
        "outputId": "dfcd19e4-4d29-4d0f-9693-9535ef76aefe"
      },
      "outputs": [
        {
          "name": "stdout",
          "output_type": "stream",
          "text": [
            "[100, 60, 50, 20]\n"
          ]
        }
      ],
      "source": [
        "print(l1)"
      ]
    },
    {
      "cell_type": "code",
      "execution_count": null,
      "id": "b0b97cae",
      "metadata": {
        "id": "b0b97cae",
        "outputId": "0eb74553-e285-40b3-84ae-4288102c47d9"
      },
      "outputs": [
        {
          "name": "stdout",
          "output_type": "stream",
          "text": [
            "100\n",
            "60\n",
            "50\n",
            "20\n"
          ]
        }
      ],
      "source": [
        "#iterating list using index\n",
        "l1_size = len(l1)\n",
        "for i in range(l1_size):\n",
        "    print(l1[i])"
      ]
    },
    {
      "cell_type": "code",
      "execution_count": null,
      "id": "da91a5e0",
      "metadata": {
        "id": "da91a5e0",
        "outputId": "15720bdb-3b58-4b6e-e43d-1f162126ef3a"
      },
      "outputs": [
        {
          "name": "stdout",
          "output_type": "stream",
          "text": [
            "[1, 2, 3, 4, 1, 1, 1, 1]\n"
          ]
        }
      ],
      "source": [
        "l1 = [1, 2, 3, 4]\n",
        "l2 = [1, 1, 1, 1]\n",
        "\n",
        "l3 = l1 + l2\n",
        "print(l3)"
      ]
    },
    {
      "cell_type": "code",
      "execution_count": null,
      "id": "65b6f476",
      "metadata": {
        "id": "65b6f476",
        "outputId": "e686e298-d18b-43f1-c15c-e26643705201"
      },
      "outputs": [
        {
          "name": "stdout",
          "output_type": "stream",
          "text": [
            "[2, 3, 4, 5]\n"
          ]
        }
      ],
      "source": [
        "# adding list element by element\n",
        "l1 = [1, 2, 3, 4, 5, 6]\n",
        "l2 = [1, 1, 1, 1, 2, 5]\n",
        "\n",
        "l3 = []\n",
        "\n",
        "for i in range(len(l1)):\n",
        "    l3.append(l1[i] + l2[i])\n",
        "    \n",
        "print(l3)"
      ]
    },
    {
      "cell_type": "code",
      "execution_count": null,
      "id": "afc2e431",
      "metadata": {
        "id": "afc2e431",
        "outputId": "fa5d216c-16aa-47bc-bbc6-2e2e11b8895f"
      },
      "outputs": [
        {
          "name": "stdout",
          "output_type": "stream",
          "text": [
            "[3, 4, 5, 6, 7, 8]\n"
          ]
        }
      ],
      "source": [
        "#increase each element by 2\n",
        "l1 = [1, 2, 3, 4, 5, 6]\n",
        "\n",
        "for i in range(len(l1)):\n",
        "    l1[i] = l1[i] + 2\n",
        "    \n",
        "print(l1)"
      ]
    },
    {
      "cell_type": "code",
      "execution_count": null,
      "id": "d0a88c31",
      "metadata": {
        "id": "d0a88c31",
        "outputId": "7b23fa90-51ba-41bd-c3c1-540dd17f7d4e"
      },
      "outputs": [
        {
          "name": "stdout",
          "output_type": "stream",
          "text": [
            "[1, 2, 3, 4, 5, 6, 3, 4, 5, 6, 7, 8]\n"
          ]
        }
      ],
      "source": [
        "#increase each element by 2\n",
        "l1 = [1, 2, 3, 4, 5, 6]\n",
        "\n",
        "for i in range(len(l1)):\n",
        "    l1.append(l1[i] + 2)\n",
        "    \n",
        "print(l1)"
      ]
    },
    {
      "cell_type": "code",
      "execution_count": null,
      "id": "37748225",
      "metadata": {
        "id": "37748225",
        "outputId": "d4f803bf-2a2e-4322-e9bf-5afdac017888"
      },
      "outputs": [
        {
          "name": "stdout",
          "output_type": "stream",
          "text": [
            "both list are not same\n"
          ]
        }
      ],
      "source": [
        "l1 = [1, 2]\n",
        "l2 = [1, 3]\n",
        "\n",
        "if l1==l2:\n",
        "    print('both list are same')\n",
        "else:\n",
        "    print('both list are not same')"
      ]
    },
    {
      "cell_type": "markdown",
      "id": "0f9e28bf",
      "metadata": {
        "id": "0f9e28bf"
      },
      "source": [
        "# Task 1: finding element from a list, if exists print number of time exist"
      ]
    },
    {
      "cell_type": "code",
      "execution_count": null,
      "id": "cd40a91f",
      "metadata": {
        "id": "cd40a91f",
        "outputId": "06dcf4e3-fa18-46e9-dcfe-c92b74d4aed5"
      },
      "outputs": [
        {
          "name": "stdout",
          "output_type": "stream",
          "text": [
            "10 3  times exists : \n",
            "positions :  [0, 5, 7]\n"
          ]
        }
      ],
      "source": [
        "l1 = [10, 20, 1, 5, 6, 10, 45, 10]\n",
        "no = 10\n",
        "pos = []\n",
        "\n",
        "no_of_times = 0\n",
        "\n",
        "for i in range(len(l1)):\n",
        "    if l1[i]==no:\n",
        "        no_of_times = no_of_times+1\n",
        "        pos.append(i)\n",
        "        \n",
        "        \n",
        "print(no, no_of_times, ' times exists : ')\n",
        "print('positions : ', pos)\n"
      ]
    },
    {
      "cell_type": "markdown",
      "id": "521f882e",
      "metadata": {
        "id": "521f882e"
      },
      "source": [
        "# deleting element from a list"
      ]
    },
    {
      "cell_type": "code",
      "execution_count": null,
      "id": "970d0bc1",
      "metadata": {
        "id": "970d0bc1",
        "outputId": "f9983a6f-72af-489d-d24b-617f55832ae7"
      },
      "outputs": [
        {
          "name": "stdout",
          "output_type": "stream",
          "text": [
            "[1, 2, 3]\n"
          ]
        }
      ],
      "source": [
        "l1 = [1,2,3,3]\n",
        "\n",
        "l1.remove(3)\n",
        "print(l1)"
      ]
    },
    {
      "cell_type": "code",
      "execution_count": null,
      "id": "3f48f6c5",
      "metadata": {
        "id": "3f48f6c5",
        "outputId": "434ef538-846e-4a86-e92c-ed4afd1f304c"
      },
      "outputs": [
        {
          "name": "stdout",
          "output_type": "stream",
          "text": [
            "[10, 20, 30, 30, 40, 30] [2, 3, 5]\n",
            "5\n",
            "3\n",
            "2\n",
            "[10, 20, 40]\n"
          ]
        }
      ],
      "source": [
        "l1 = [10,20,30,30,40,30]\n",
        "no = 30\n",
        "pos = []\n",
        "\n",
        "for i in range(len(l1)):\n",
        "    if l1[i]==no:\n",
        "        pos.append(i)\n",
        "        \n",
        "print(l1, pos)\n",
        "\n",
        "pos.reverse()\n",
        "\n",
        "for p in pos:\n",
        "    print(p)\n",
        "    l1.pop(p)\n",
        "    \n",
        "    \n",
        "print(l1)"
      ]
    },
    {
      "cell_type": "code",
      "execution_count": null,
      "id": "e8afea43",
      "metadata": {
        "id": "e8afea43",
        "outputId": "8160eb1f-d382-47ca-9ddf-62c7d39a9b6b"
      },
      "outputs": [
        {
          "name": "stdout",
          "output_type": "stream",
          "text": [
            "[10, 20, 30, 40, 30]\n"
          ]
        }
      ],
      "source": [
        "l1 = [10,20,30,30,40,30]\n",
        "l1.remove(30)\n",
        "print(l1)"
      ]
    },
    {
      "cell_type": "code",
      "execution_count": null,
      "id": "70334b99",
      "metadata": {
        "id": "70334b99",
        "outputId": "a1d6d9fe-ae72-4694-a4d4-4e05697e841b"
      },
      "outputs": [
        {
          "name": "stdout",
          "output_type": "stream",
          "text": [
            "[10, 20, 40, 30]\n"
          ]
        }
      ],
      "source": [
        "l1 = [10,20,30,30,40,30]\n",
        "no = 30\n",
        "\n",
        "# for i in range(len(l1)):\n",
        "#     if l1[i]==no:\n",
        "#         l1.remove(no)\n",
        "\n",
        "for x in l1:\n",
        "    if x==no:\n",
        "        l1.remove(x)\n",
        "        \n",
        "print(l1)"
      ]
    },
    {
      "cell_type": "code",
      "execution_count": null,
      "id": "efd98740",
      "metadata": {
        "id": "efd98740"
      },
      "outputs": [],
      "source": []
    }
  ],
  "metadata": {
    "kernelspec": {
      "display_name": "Python 3 (ipykernel)",
      "language": "python",
      "name": "python3"
    },
    "language_info": {
      "codemirror_mode": {
        "name": "ipython",
        "version": 3
      },
      "file_extension": ".py",
      "mimetype": "text/x-python",
      "name": "python",
      "nbconvert_exporter": "python",
      "pygments_lexer": "ipython3",
      "version": "3.9.13"
    },
    "colab": {
      "provenance": [],
      "include_colab_link": true
    }
  },
  "nbformat": 4,
  "nbformat_minor": 5
}