{
  "cells": [
    {
      "cell_type": "markdown",
      "metadata": {
        "id": "view-in-github",
        "colab_type": "text"
      },
      "source": [
        "<a href=\"https://colab.research.google.com/github/MariyaJosep/Python-And-SQL-Basics-to-Advanced/blob/main/Python_Mysql_Connection.ipynb\" target=\"_parent\"><img src=\"https://colab.research.google.com/assets/colab-badge.svg\" alt=\"Open In Colab\"/></a>"
      ]
    },
    {
      "cell_type": "code",
      "execution_count": null,
      "id": "c9965ae9",
      "metadata": {
        "id": "c9965ae9",
        "outputId": "7e425da4-42ac-4bc2-f3cb-14ba0e3c5640"
      },
      "outputs": [
        {
          "name": "stdout",
          "output_type": "stream",
          "text": [
            "Requirement already satisfied: mysql-connector-python in c:\\users\\hp\\anaconda3\\lib\\site-packages (8.0.31)\n",
            "Requirement already satisfied: protobuf<=3.20.1,>=3.11.0 in c:\\users\\hp\\anaconda3\\lib\\site-packages (from mysql-connector-python) (3.19.6)\n"
          ]
        }
      ],
      "source": [
        "#installing mysql driver\n",
        "\n",
        "!pip install mysql-connector-python"
      ]
    },
    {
      "cell_type": "code",
      "execution_count": null,
      "id": "47b73425",
      "metadata": {
        "id": "47b73425"
      },
      "outputs": [],
      "source": [
        "#import connect function from mysql module\n",
        "\n",
        "import mysql.connector"
      ]
    },
    {
      "cell_type": "code",
      "execution_count": null,
      "id": "4359163a",
      "metadata": {
        "id": "4359163a",
        "outputId": "aa60d8d4-d4e0-4a80-8099-43f714e3b20f"
      },
      "outputs": [
        {
          "name": "stdout",
          "output_type": "stream",
          "text": [
            "<mysql.connector.connection_cext.CMySQLConnection object at 0x000001C5539CCC70>\n"
          ]
        }
      ],
      "source": [
        "db = mysql.connector.connect(host='localhost',\n",
        "                            user='root',\n",
        "                            password='Staragile@123',\n",
        "                            database='my_db')\n",
        "\n",
        "print(db)"
      ]
    },
    {
      "cell_type": "code",
      "execution_count": null,
      "id": "78b9ca32",
      "metadata": {
        "id": "78b9ca32"
      },
      "outputs": [],
      "source": [
        "#get cursor\n",
        "\n",
        "cursor = db.cursor()"
      ]
    },
    {
      "cell_type": "code",
      "execution_count": null,
      "id": "b70fc8ab",
      "metadata": {
        "id": "b70fc8ab"
      },
      "outputs": [],
      "source": [
        "#select statement\n",
        "sql_stmt = \"select * from product\""
      ]
    },
    {
      "cell_type": "code",
      "execution_count": null,
      "id": "9dabebdb",
      "metadata": {
        "id": "9dabebdb"
      },
      "outputs": [],
      "source": [
        "#executing select statement\n",
        "cursor.execute(sql_stmt)"
      ]
    },
    {
      "cell_type": "code",
      "execution_count": null,
      "id": "f3e22be0",
      "metadata": {
        "id": "f3e22be0",
        "outputId": "086686bc-1d69-4c81-9781-55f50d0041c8"
      },
      "outputs": [
        {
          "data": {
            "text/plain": [
              "[(100, 'iPad', Decimal('85000'), 'Apple'),\n",
              " (200, 'Samsung Galaxy', Decimal('45000'), 'SAMSUN'),\n",
              " (300, 'RealME h15', Decimal('15000'), 'RealMe'),\n",
              " (400, 'HP Laptop', Decimal('45000'), 'HP'),\n",
              " (500, 'iPhone', Decimal('55000'), 'Apple'),\n",
              " (600, 'iPhone', Decimal('95000'), 'Apple'),\n",
              " (700, 'Pen Tab', Decimal('1500'), 'HP'),\n",
              " (800, 'Keyboard', Decimal('500'), 'HP')]"
            ]
          },
          "execution_count": 7,
          "metadata": {},
          "output_type": "execute_result"
        }
      ],
      "source": [
        "#feteching all rows from cursor\n",
        "rows = cursor.fetchall()\n",
        "\n",
        "rows"
      ]
    },
    {
      "cell_type": "code",
      "execution_count": null,
      "id": "bd7ed00c",
      "metadata": {
        "id": "bd7ed00c",
        "outputId": "f6f16226-dcd3-4b0d-df8b-943aa26992b8"
      },
      "outputs": [
        {
          "name": "stdout",
          "output_type": "stream",
          "text": [
            "(100, 'iPad', Decimal('85000'), 'Apple')\n",
            "(200, 'Samsung Galaxy', Decimal('45000'), 'SAMSUN')\n",
            "(300, 'RealME h15', Decimal('15000'), 'RealMe')\n",
            "(400, 'HP Laptop', Decimal('45000'), 'HP')\n",
            "(500, 'iPhone', Decimal('55000'), 'Apple')\n",
            "(600, 'iPhone', Decimal('95000'), 'Apple')\n",
            "(700, 'Pen Tab', Decimal('1500'), 'HP')\n",
            "(800, 'Keyboard', Decimal('500'), 'HP')\n"
          ]
        }
      ],
      "source": [
        "#print all records one by one\n",
        "for row in rows:\n",
        "    print(row)"
      ]
    },
    {
      "cell_type": "code",
      "execution_count": null,
      "id": "c0986523",
      "metadata": {
        "id": "c0986523"
      },
      "outputs": [],
      "source": [
        "#inserting new product to the product table\n",
        "sql_stmt = \"insert into product values(900, 'Mouse', 400, 'HP')\"\n",
        "cursor.execute(sql_stmt)\n",
        "db.commit() #this is only for insert/update/delete"
      ]
    },
    {
      "cell_type": "code",
      "execution_count": null,
      "id": "14939a44",
      "metadata": {
        "id": "14939a44",
        "outputId": "930f2761-d0fa-44da-92d1-27ea192d3023"
      },
      "outputs": [
        {
          "data": {
            "text/plain": [
              "[(100, 'iPad', Decimal('85000'), 'Apple'),\n",
              " (200, 'Samsung Galaxy', Decimal('45000'), 'SAMSUN'),\n",
              " (300, 'RealME h15', Decimal('15000'), 'RealMe'),\n",
              " (400, 'HP Laptop', Decimal('45000'), 'HP'),\n",
              " (500, 'iPhone', Decimal('55000'), 'Apple'),\n",
              " (600, 'iPhone', Decimal('95000'), 'Apple'),\n",
              " (700, 'Pen Tab', Decimal('1500'), 'HP'),\n",
              " (800, 'Keyboard', Decimal('500'), 'HP'),\n",
              " (900, 'Mouse', Decimal('400'), 'HP')]"
            ]
          },
          "execution_count": 10,
          "metadata": {},
          "output_type": "execute_result"
        }
      ],
      "source": [
        "sql_stmt=\"select * from product\"\n",
        "cursor.execute(sql_stmt)\n",
        "rows = cursor.fetchall()\n",
        "\n",
        "rows"
      ]
    },
    {
      "cell_type": "code",
      "execution_count": null,
      "id": "daeebf50",
      "metadata": {
        "id": "daeebf50",
        "outputId": "b0f33ac4-eea6-4005-a8f7-6c691532bc98"
      },
      "outputs": [
        {
          "data": {
            "text/plain": [
              "('pid', 'pname', 'price', 'vendor')"
            ]
          },
          "execution_count": 11,
          "metadata": {},
          "output_type": "execute_result"
        }
      ],
      "source": [
        "#gives all column names\n",
        "cursor.column_names"
      ]
    },
    {
      "cell_type": "code",
      "execution_count": null,
      "id": "cd849230",
      "metadata": {
        "id": "cd849230",
        "outputId": "9f360f02-4b12-499b-ef23-2a2a02afb1df"
      },
      "outputs": [
        {
          "data": {
            "text/plain": [
              "'select * from product'"
            ]
          },
          "execution_count": 12,
          "metadata": {},
          "output_type": "execute_result"
        }
      ],
      "source": [
        "#gives last statement executed\n",
        "\n",
        "cursor.statement"
      ]
    },
    {
      "cell_type": "code",
      "execution_count": null,
      "id": "68fa26ad",
      "metadata": {
        "id": "68fa26ad"
      },
      "outputs": [],
      "source": [
        "#reset the cursor\n",
        "\n",
        "cursor.reset()"
      ]
    },
    {
      "cell_type": "code",
      "execution_count": null,
      "id": "c4996d64",
      "metadata": {
        "id": "c4996d64"
      },
      "outputs": [],
      "source": []
    }
  ],
  "metadata": {
    "kernelspec": {
      "display_name": "Python 3 (ipykernel)",
      "language": "python",
      "name": "python3"
    },
    "language_info": {
      "codemirror_mode": {
        "name": "ipython",
        "version": 3
      },
      "file_extension": ".py",
      "mimetype": "text/x-python",
      "name": "python",
      "nbconvert_exporter": "python",
      "pygments_lexer": "ipython3",
      "version": "3.9.13"
    },
    "colab": {
      "provenance": [],
      "include_colab_link": true
    }
  },
  "nbformat": 4,
  "nbformat_minor": 5
}