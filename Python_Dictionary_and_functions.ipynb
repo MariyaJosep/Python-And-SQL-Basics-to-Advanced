{
  "cells": [
    {
      "cell_type": "markdown",
      "metadata": {
        "id": "view-in-github",
        "colab_type": "text"
      },
      "source": [
        "<a href=\"https://colab.research.google.com/github/MariyaJosep/Python-And-SQL-Basics-to-Advanced/blob/main/Python_Dictionary_and_functions.ipynb\" target=\"_parent\"><img src=\"https://colab.research.google.com/assets/colab-badge.svg\" alt=\"Open In Colab\"/></a>"
      ]
    },
    {
      "cell_type": "code",
      "execution_count": null,
      "id": "9d605b36",
      "metadata": {
        "id": "9d605b36",
        "outputId": "e2049316-8b40-4e14-b1d5-4ad6c9656108"
      },
      "outputs": [
        {
          "name": "stdout",
          "output_type": "stream",
          "text": [
            "1\n"
          ]
        }
      ],
      "source": [
        "l1 = [1, 2]\n",
        "\n",
        "print(l1[0])"
      ]
    },
    {
      "cell_type": "code",
      "execution_count": null,
      "id": "f4769844",
      "metadata": {
        "id": "f4769844",
        "outputId": "f17637ab-cd0f-4b23-b1d5-0b2d12234069"
      },
      "outputs": [
        {
          "name": "stdout",
          "output_type": "stream",
          "text": [
            "[1, 2]\n",
            "1\n"
          ]
        }
      ],
      "source": [
        "#2D data, where lists can have one or more list inside\n",
        "\n",
        "l2 = [[1,2]]\n",
        "\n",
        "print(l2[0])\n",
        "print(l2[0][0])"
      ]
    },
    {
      "cell_type": "code",
      "execution_count": null,
      "id": "75dec14d",
      "metadata": {
        "id": "75dec14d",
        "outputId": "1130a358-f449-49bc-da7d-28dd97091ef4"
      },
      "outputs": [
        {
          "name": "stdout",
          "output_type": "stream",
          "text": [
            "[{'nest_key': ['this is deep', ['StarAgile']]}]\n",
            "{'nest_key': ['this is deep', ['StarAgile']]}\n",
            "['this is deep', ['StarAgile']]\n",
            "['StarAgile']\n",
            "StarAgile\n"
          ]
        }
      ],
      "source": [
        "d_difficult = {'k1':[{'nest_key':['this is deep',['StarAgile']]}]}\n",
        "\n",
        "\n",
        "print(d_difficult['k1'])\n",
        "print(d_difficult['k1'][0])\n",
        "print(d_difficult['k1'][0]['nest_key'])\n",
        "print(d_difficult['k1'][0]['nest_key'][1])\n",
        "print(d_difficult['k1'][0]['nest_key'][1][0])"
      ]
    },
    {
      "cell_type": "code",
      "execution_count": null,
      "id": "0b54c8a1",
      "metadata": {
        "id": "0b54c8a1",
        "outputId": "0973f6ae-5dc7-4844-bd94-a483a990592f"
      },
      "outputs": [
        {
          "name": "stdout",
          "output_type": "stream",
          "text": [
            "{'k1': 'val1', 'k3': 'val3'}\n",
            "k11\n",
            "{'k1': 'val1', 'k3': 'val3', 'k2': 'val'}\n"
          ]
        }
      ],
      "source": [
        "#list manipulation add, delete\n",
        "#tuple\n",
        "#dictionary\n",
        "\n",
        "d = {'k1':'val1', 'k3':'val3', 'k2':'val'}\n",
        "\n",
        "#how to delete last item from dictionary d\n",
        "del d['k2']\n",
        "print(d)\n",
        "\n",
        "\n",
        "#how to delete last item from dictionary with knowing keys k13\n",
        "d1 = {'k1':'val1', 'k3':'val3', 'k2':'val', 'k11':'val11'}\n",
        "all_keys = list(d1.keys())\n",
        "last_key = all_keys[-1]\n",
        "print(last_key)\n",
        "del d1[last_key]\n",
        "print(d1)"
      ]
    },
    {
      "cell_type": "code",
      "execution_count": null,
      "id": "0e4f3e11",
      "metadata": {
        "id": "0e4f3e11",
        "outputId": "65a16eab-55fb-4bbc-a32f-3a0a393f1295"
      },
      "outputs": [
        {
          "name": "stdout",
          "output_type": "stream",
          "text": [
            "1. Delete Key\n",
            "2. Add new item\n",
            "3. Display Dict values\n",
            "4. Exit\n",
            "Enter option 1\n"
          ]
        }
      ],
      "source": [
        "#how to delete item with key entered by user\n",
        "\n",
        "d1 = {'k1':'val1', 'k3':'val3', 'k2':'val', 'k11':'val11'}\n",
        "\n",
        "while True:\n",
        "    print('1. Delete Key')\n",
        "    print('2. Add new item')\n",
        "    print('3. Display Dict values')\n",
        "    print('4. Exit')\n",
        "    option = int(input('Enter option '))\n",
        "           \n",
        "   \n",
        "    if option==1:\n",
        "        k = input('Enter Key ')\n",
        "        all_keys = list(d1.keys())\n",
        "\n",
        "        if k in all_keys:\n",
        "            del d1[k]\n",
        "            print('Item delete')\n",
        "        else:\n",
        "            print('Enter correct key')\n",
        "    elif option==2:\n",
        "        print('Write script to take key and value from user and add to dictionay')\n",
        "        #d[new_key]=new_val\n",
        "    elif option==3:\n",
        "        print(d1)\n",
        "    elif option==4:\n",
        "        break\n"
      ]
    },
    {
      "cell_type": "code",
      "execution_count": null,
      "id": "21eccd13",
      "metadata": {
        "id": "21eccd13"
      },
      "outputs": [],
      "source": [
        "def add(a,b,c): #a, b,c are parameters\n",
        "    \n",
        "    result = a+b+c\n",
        "    print('Sum is ', result)"
      ]
    },
    {
      "cell_type": "code",
      "execution_count": null,
      "id": "dc84dec7",
      "metadata": {
        "id": "dc84dec7",
        "outputId": "1e2c927f-3c18-4091-97cc-83ec2f498bc2"
      },
      "outputs": [
        {
          "name": "stdout",
          "output_type": "stream",
          "text": [
            "Sum is  60\n",
            "Sum is  6\n",
            "Sum is  -9\n"
          ]
        }
      ],
      "source": [
        "add(10, 20, 30)\n",
        "add(1,2,3)\n",
        "add(-1,-3,-5)"
      ]
    },
    {
      "cell_type": "code",
      "execution_count": null,
      "id": "4725c6a3",
      "metadata": {
        "id": "4725c6a3",
        "outputId": "b2946f3e-db07-4822-8c7d-0c5b0720b359"
      },
      "outputs": [
        {
          "name": "stdout",
          "output_type": "stream",
          "text": [
            "Sum is  6\n"
          ]
        }
      ],
      "source": [
        "add(1,5,0)"
      ]
    },
    {
      "cell_type": "code",
      "execution_count": null,
      "id": "b2affd98",
      "metadata": {
        "id": "b2affd98",
        "outputId": "5690b531-3267-498b-ddc7-7fe92f975258"
      },
      "outputs": [
        {
          "name": "stdout",
          "output_type": "stream",
          "text": [
            "Sum is  6\n"
          ]
        }
      ],
      "source": [
        "x, y, z = 1, 2, 3\n",
        "add(x, y, z) #x,y,z are called arguemnts"
      ]
    },
    {
      "cell_type": "code",
      "execution_count": null,
      "id": "d344613e",
      "metadata": {
        "id": "d344613e",
        "outputId": "4dc036be-a40e-489b-855e-b596f864de4f"
      },
      "outputs": [
        {
          "name": "stdout",
          "output_type": "stream",
          "text": [
            "1\n",
            "1 2\n"
          ]
        }
      ],
      "source": [
        "a, b, c = 1, 2, 3\n",
        "\n",
        "print(a)\n",
        "print(a, b)\n",
        "\n",
        "l1 = [1, 2, 3]\n",
        "result = sum(l1)\n"
      ]
    },
    {
      "cell_type": "code",
      "execution_count": null,
      "id": "7d1570d0",
      "metadata": {
        "id": "7d1570d0",
        "outputId": "ac46a298-5e55-44ae-8038-e691868cc05d"
      },
      "outputs": [
        {
          "ename": "TypeError",
          "evalue": "add() missing 2 required positional arguments: 'b' and 'c'",
          "output_type": "error",
          "traceback": [
            "\u001b[1;31m---------------------------------------------------------------------------\u001b[0m",
            "\u001b[1;31mTypeError\u001b[0m                                 Traceback (most recent call last)",
            "\u001b[1;32m~\\AppData\\Local\\Temp\\ipykernel_7164\\2547446607.py\u001b[0m in \u001b[0;36m<module>\u001b[1;34m\u001b[0m\n\u001b[0;32m      4\u001b[0m     \u001b[0mprint\u001b[0m\u001b[1;33m(\u001b[0m\u001b[1;34m'Sum is '\u001b[0m\u001b[1;33m,\u001b[0m \u001b[0mresult\u001b[0m\u001b[1;33m)\u001b[0m\u001b[1;33m\u001b[0m\u001b[1;33m\u001b[0m\u001b[0m\n\u001b[0;32m      5\u001b[0m \u001b[1;33m\u001b[0m\u001b[0m\n\u001b[1;32m----> 6\u001b[1;33m \u001b[0madd\u001b[0m\u001b[1;33m(\u001b[0m\u001b[1;36m1\u001b[0m\u001b[1;33m)\u001b[0m\u001b[1;33m\u001b[0m\u001b[1;33m\u001b[0m\u001b[0m\n\u001b[0m",
            "\u001b[1;31mTypeError\u001b[0m: add() missing 2 required positional arguments: 'b' and 'c'"
          ]
        }
      ],
      "source": [
        "def add(a,b,c): #function with required arg\n",
        "    \n",
        "    result = a+b+c\n",
        "    print('Sum is ', result)\n",
        "    \n",
        "add(1)"
      ]
    },
    {
      "cell_type": "code",
      "execution_count": null,
      "id": "58a693ca",
      "metadata": {
        "id": "58a693ca"
      },
      "outputs": [],
      "source": [
        "def big(first, second):\n",
        "    if first>second:\n",
        "        print('1st value is big')\n",
        "    else:\n",
        "        print('2nd value is big')\n",
        "    "
      ]
    },
    {
      "cell_type": "code",
      "execution_count": null,
      "id": "8d99fad3",
      "metadata": {
        "id": "8d99fad3",
        "outputId": "9debd3bd-91f1-45c2-d02f-d1cbde618f97"
      },
      "outputs": [
        {
          "name": "stdout",
          "output_type": "stream",
          "text": [
            "2nd value is big\n",
            "2nd value is big\n",
            "1st value is big\n",
            "Enter a5\n",
            "2nd value is big\n"
          ]
        }
      ],
      "source": [
        "big(10, 20)\n",
        "big(first=200, second=300) #function with keyword arguments\n",
        "big(second=30, first=40)\n",
        "big(first=int(input('Enter a')), second=10)"
      ]
    },
    {
      "cell_type": "code",
      "execution_count": null,
      "id": "bb9400fd",
      "metadata": {
        "id": "bb9400fd",
        "outputId": "e91d4bc7-5ff7-4b57-f976-42f1043dd87d"
      },
      "outputs": [
        {
          "name": "stdout",
          "output_type": "stream",
          "text": [
            "Sum :  0\n",
            "Sum :  1\n",
            "Sum :  3\n",
            "Sum :  6\n",
            "Sum :  10\n",
            "Sum :  15\n",
            "Sum :  100\n",
            "Sum :  100\n"
          ]
        },
        {
          "ename": "TypeError",
          "evalue": "add() takes from 0 to 5 positional arguments but 6 were given",
          "output_type": "error",
          "traceback": [
            "\u001b[1;31m---------------------------------------------------------------------------\u001b[0m",
            "\u001b[1;31mTypeError\u001b[0m                                 Traceback (most recent call last)",
            "\u001b[1;32m~\\AppData\\Local\\Temp\\ipykernel_7164\\2223401100.py\u001b[0m in \u001b[0;36m<module>\u001b[1;34m\u001b[0m\n\u001b[0;32m     13\u001b[0m \u001b[0madd\u001b[0m\u001b[1;33m(\u001b[0m\u001b[1;36m100\u001b[0m\u001b[1;33m)\u001b[0m \u001b[1;31m#a will be 100\u001b[0m\u001b[1;33m\u001b[0m\u001b[1;33m\u001b[0m\u001b[0m\n\u001b[0;32m     14\u001b[0m \u001b[0madd\u001b[0m\u001b[1;33m(\u001b[0m\u001b[0me\u001b[0m\u001b[1;33m=\u001b[0m\u001b[1;36m100\u001b[0m\u001b[1;33m)\u001b[0m \u001b[1;31m#e will be 100\u001b[0m\u001b[1;33m\u001b[0m\u001b[1;33m\u001b[0m\u001b[0m\n\u001b[1;32m---> 15\u001b[1;33m \u001b[0madd\u001b[0m\u001b[1;33m(\u001b[0m\u001b[1;36m1\u001b[0m\u001b[1;33m,\u001b[0m\u001b[1;36m2\u001b[0m\u001b[1;33m,\u001b[0m\u001b[1;36m3\u001b[0m\u001b[1;33m,\u001b[0m\u001b[1;36m4\u001b[0m\u001b[1;33m,\u001b[0m\u001b[1;36m5\u001b[0m\u001b[1;33m,\u001b[0m\u001b[1;36m6\u001b[0m\u001b[1;33m)\u001b[0m\u001b[1;33m\u001b[0m\u001b[1;33m\u001b[0m\u001b[0m\n\u001b[0m",
            "\u001b[1;31mTypeError\u001b[0m: add() takes from 0 to 5 positional arguments but 6 were given"
          ]
        }
      ],
      "source": [
        "#fun for adding two number\n",
        "#fun for adding three number\n",
        "def add(a=0, b=0, c=0, d=0, e=0): #function with default arguments\n",
        "    result = a+b+c+d+e\n",
        "    print('Sum : ',result)\n",
        "    \n",
        "add()\n",
        "add(1)\n",
        "add(1,2)\n",
        "add(1,2,3)\n",
        "add(1,2,3,4)\n",
        "add(1,2,3,4,5)\n",
        "add(100) #a will be 100\n",
        "add(e=100) #e will be 100\n",
        "add(1,2,3,4,5,6) #error due to 6 arguents"
      ]
    },
    {
      "cell_type": "code",
      "execution_count": null,
      "id": "bdd2c932",
      "metadata": {
        "id": "bdd2c932"
      },
      "outputs": [],
      "source": [
        "#function with variable length arguments\n",
        "#args=[1,2,3,4]\n",
        "def add(*args):\n",
        "    print('no of arguments passed', len(args))\n",
        "    result=0\n",
        "    for x in args:\n",
        "        result = result + x\n",
        "        \n",
        "    print('sum : ', result)"
      ]
    },
    {
      "cell_type": "code",
      "execution_count": null,
      "id": "1c99c182",
      "metadata": {
        "id": "1c99c182",
        "outputId": "6773d486-8aed-413b-a95d-746471f09739"
      },
      "outputs": [
        {
          "name": "stdout",
          "output_type": "stream",
          "text": [
            "no of arguments passed 1\n",
            "sum :  1\n",
            "no of arguments passed 2\n",
            "sum :  5\n",
            "no of arguments passed 8\n",
            "sum :  44\n"
          ]
        }
      ],
      "source": [
        "add(1)\n",
        "add(2,3)\n",
        "add(2,3,4,5,6,7,8,9)"
      ]
    },
    {
      "cell_type": "code",
      "execution_count": null,
      "id": "0579fdc5",
      "metadata": {
        "id": "0579fdc5",
        "outputId": "cabb1be9-4129-4840-cfdc-df02cfac9bce"
      },
      "outputs": [
        {
          "name": "stdout",
          "output_type": "stream",
          "text": [
            "no of arguments passed 18\n",
            "sum :  179\n"
          ]
        }
      ],
      "source": [
        "add(1,2,3,3,5,6,6,6,7,7,7,78,8,8,8,8,8,8)"
      ]
    },
    {
      "cell_type": "code",
      "execution_count": null,
      "id": "51475fd6",
      "metadata": {
        "id": "51475fd6"
      },
      "outputs": [],
      "source": [
        "#function with variable length key word arguments\n",
        "\n",
        "def print_details(**kwargs):\n",
        "    for key in kwargs:\n",
        "        print(key,'=', kwargs[key])\n",
        "    print('\\n')"
      ]
    },
    {
      "cell_type": "code",
      "execution_count": null,
      "id": "ad831300",
      "metadata": {
        "id": "ad831300",
        "outputId": "4bfdbe1e-2d4f-447c-b019-7de8565eda4f"
      },
      "outputs": [
        {
          "name": "stdout",
          "output_type": "stream",
          "text": [
            "sno = 100\n",
            "sname = kumar\n",
            "cls = 8\n",
            "\n",
            "\n",
            "eno = 1000\n",
            "ename = Raj\n",
            "salary = 34505\n",
            "dept = Sales Department\n",
            "\n",
            "\n"
          ]
        }
      ],
      "source": [
        "print_details(sno=100, sname='kumar', cls='8')\n",
        "print_details(eno=1000, ename='Raj', salary=34505, dept='Sales Department')"
      ]
    },
    {
      "cell_type": "code",
      "execution_count": null,
      "id": "0873e5d9",
      "metadata": {
        "id": "0873e5d9",
        "outputId": "50b58e71-2895-4c13-fc89-7b67b2b6486d"
      },
      "outputs": [
        {
          "name": "stdout",
          "output_type": "stream",
          "text": [
            "sno = 100\n",
            "sname = kumar\n",
            "cls = 8\n",
            "sub_marks = [10, 20, 30, 40]\n",
            "\n",
            "\n",
            "sno = 100\n",
            "sname = kumar\n",
            "cls = 8\n",
            "sub_marks = {'Math': 35, 'Sci': 45}\n",
            "\n",
            "\n"
          ]
        }
      ],
      "source": [
        "print_details(sno=100, sname='kumar', cls='8', sub_marks=[10, 20, 30, 40])\n",
        "print_details(sno=100, sname='kumar', cls='8', sub_marks={'Math':35, 'Sci':45})"
      ]
    },
    {
      "cell_type": "code",
      "execution_count": null,
      "id": "7042ba27",
      "metadata": {
        "id": "7042ba27"
      },
      "outputs": [],
      "source": [
        "def p_details(**kwargs):\n",
        "    if 'sno' in kwargs:\n",
        "        avg = kwargs['marks'] / 6\n",
        "        kwargs['avg'] = avg\n",
        "    \n",
        "    if 'eno' in kwargs:\n",
        "        bonus = kwargs['salary'] * 0.1\n",
        "        kwargs['bonus'] = bonus\n",
        "        \n",
        "    print(kwargs)"
      ]
    },
    {
      "cell_type": "code",
      "execution_count": null,
      "id": "368ec764",
      "metadata": {
        "id": "368ec764",
        "outputId": "601e04d0-168e-432f-c5b0-8d9776ec14e6"
      },
      "outputs": [
        {
          "name": "stdout",
          "output_type": "stream",
          "text": [
            "{'sno': 100, 'marks': 460, 'avg': 76.66666666666667}\n",
            "{'eno': 100, 'salary': 10000, 'bonus': 1000.0}\n"
          ]
        }
      ],
      "source": [
        "p_details(sno=100, marks=460)\n",
        "p_details(eno=100, salary=10000)"
      ]
    },
    {
      "cell_type": "code",
      "execution_count": null,
      "id": "7cc11cb0",
      "metadata": {
        "id": "7cc11cb0"
      },
      "outputs": [],
      "source": [
        "def p_details(**kwargs):\n",
        "    if 'sno' in kwargs:\n",
        "        avg = kwargs['marks'] / 6\n",
        "        kwargs['avg'] = avg\n",
        "    \n",
        "    if 'eno' in kwargs:\n",
        "        bonus = kwargs['salary'] * 0.1\n",
        "        kwargs['bonus'] = bonus\n",
        "        \n",
        "    return kwargs"
      ]
    },
    {
      "cell_type": "code",
      "execution_count": null,
      "id": "98f51605",
      "metadata": {
        "id": "98f51605"
      },
      "outputs": [],
      "source": [
        "student1 = p_details(sno=100, marks=460)\n",
        "employee1 = p_details(eno=100, salary=10000)"
      ]
    },
    {
      "cell_type": "code",
      "execution_count": null,
      "id": "76c1e8c7",
      "metadata": {
        "id": "76c1e8c7",
        "outputId": "895922e5-c60d-4e0c-c4a0-e7a5a3cdb662"
      },
      "outputs": [
        {
          "data": {
            "text/plain": [
              "{'sno': 100, 'marks': 460, 'avg': 76.66666666666667}"
            ]
          },
          "execution_count": 81,
          "metadata": {},
          "output_type": "execute_result"
        }
      ],
      "source": [
        "student1"
      ]
    },
    {
      "cell_type": "code",
      "execution_count": null,
      "id": "1e15e13a",
      "metadata": {
        "id": "1e15e13a",
        "outputId": "d6471df1-2627-49e7-ff10-3edbf4104c8e"
      },
      "outputs": [
        {
          "data": {
            "text/plain": [
              "{'sno': 100, 'marks': 460, 'avg': 76.66666666666667}"
            ]
          },
          "execution_count": 82,
          "metadata": {},
          "output_type": "execute_result"
        }
      ],
      "source": [
        "student1\n",
        "student1"
      ]
    },
    {
      "cell_type": "code",
      "execution_count": null,
      "id": "cdfd5399",
      "metadata": {
        "id": "cdfd5399",
        "outputId": "bb9dae9f-6f87-4b09-e160-7eacf1075c65"
      },
      "outputs": [
        {
          "data": {
            "text/plain": [
              "{'eno': 100, 'salary': 10000, 'bonus': 1000.0}"
            ]
          },
          "execution_count": 83,
          "metadata": {},
          "output_type": "execute_result"
        }
      ],
      "source": [
        "employee1"
      ]
    },
    {
      "cell_type": "code",
      "execution_count": null,
      "id": "893b0f2d",
      "metadata": {
        "id": "893b0f2d"
      },
      "outputs": [],
      "source": [
        "#lambda function\n",
        "\n",
        "add = lambda x,y,z:x+y+z"
      ]
    },
    {
      "cell_type": "code",
      "execution_count": null,
      "id": "6558be1e",
      "metadata": {
        "id": "6558be1e",
        "outputId": "8852b402-7ff1-4b61-9ece-4b28e8de1d6e"
      },
      "outputs": [
        {
          "name": "stdout",
          "output_type": "stream",
          "text": [
            "6\n"
          ]
        }
      ],
      "source": [
        "print(add(1,2,3))"
      ]
    },
    {
      "cell_type": "code",
      "execution_count": null,
      "id": "80223fc0",
      "metadata": {
        "id": "80223fc0"
      },
      "outputs": [],
      "source": [
        "sqr = lambda x:x*x"
      ]
    },
    {
      "cell_type": "code",
      "execution_count": null,
      "id": "208518b2",
      "metadata": {
        "id": "208518b2",
        "outputId": "3538e609-c51d-4af6-a180-5f9133b695a5"
      },
      "outputs": [
        {
          "name": "stdout",
          "output_type": "stream",
          "text": [
            "100\n",
            "16\n"
          ]
        }
      ],
      "source": [
        "print(sqr(10))\n",
        "print(sqr(4))"
      ]
    },
    {
      "cell_type": "code",
      "execution_count": null,
      "id": "61c0505a",
      "metadata": {
        "id": "61c0505a"
      },
      "outputs": [],
      "source": [
        "def add(a,b):\n",
        "    c = a+b\n",
        "    \n",
        "    return c  #print(c)  "
      ]
    },
    {
      "cell_type": "code",
      "execution_count": null,
      "id": "2ba0042c",
      "metadata": {
        "id": "2ba0042c"
      },
      "outputs": [],
      "source": [
        "r1 = add(12, 3)"
      ]
    },
    {
      "cell_type": "code",
      "execution_count": null,
      "id": "c4ca9a98",
      "metadata": {
        "id": "c4ca9a98",
        "outputId": "e39a5c8b-284e-489c-a81c-badbab461997"
      },
      "outputs": [
        {
          "data": {
            "text/plain": [
              "15"
            ]
          },
          "execution_count": 92,
          "metadata": {},
          "output_type": "execute_result"
        }
      ],
      "source": [
        "r1"
      ]
    },
    {
      "cell_type": "code",
      "execution_count": null,
      "id": "a56f8542",
      "metadata": {
        "id": "a56f8542",
        "outputId": "e62b2e4a-092d-4ff3-a48e-1d1678549210"
      },
      "outputs": [
        {
          "data": {
            "text/plain": [
              "15"
            ]
          },
          "execution_count": 93,
          "metadata": {},
          "output_type": "execute_result"
        }
      ],
      "source": [
        "r1"
      ]
    },
    {
      "cell_type": "code",
      "execution_count": null,
      "id": "b947e3cd",
      "metadata": {
        "id": "b947e3cd"
      },
      "outputs": [],
      "source": [
        "m1 = max([10, 20,30, 40])"
      ]
    },
    {
      "cell_type": "code",
      "execution_count": null,
      "id": "05f6229b",
      "metadata": {
        "id": "05f6229b",
        "outputId": "0bd152d8-65f1-4a28-adf0-5b46743604e2"
      },
      "outputs": [
        {
          "data": {
            "text/plain": [
              "40"
            ]
          },
          "execution_count": 95,
          "metadata": {},
          "output_type": "execute_result"
        }
      ],
      "source": [
        "m1"
      ]
    },
    {
      "cell_type": "code",
      "execution_count": null,
      "id": "98331840",
      "metadata": {
        "id": "98331840",
        "outputId": "5e23b843-d8e7-49ce-81f4-4cee1f9b2204"
      },
      "outputs": [
        {
          "name": "stdout",
          "output_type": "stream",
          "text": [
            "Help on built-in function max in module builtins:\n",
            "\n",
            "max(...)\n",
            "    max(iterable, *[, default=obj, key=func]) -> value\n",
            "    max(arg1, arg2, *args, *[, key=func]) -> value\n",
            "    \n",
            "    With a single iterable argument, return its biggest item. The\n",
            "    default keyword-only argument specifies an object to return if\n",
            "    the provided iterable is empty.\n",
            "    With two or more arguments, return the largest argument.\n",
            "\n"
          ]
        }
      ],
      "source": [
        "help(max)"
      ]
    },
    {
      "cell_type": "code",
      "execution_count": null,
      "id": "9e61e1df",
      "metadata": {
        "id": "9e61e1df",
        "outputId": "33147050-42dd-48fe-d3cf-152bff533273"
      },
      "outputs": [
        {
          "name": "stdout",
          "output_type": "stream",
          "text": [
            "60\n"
          ]
        }
      ],
      "source": [
        "m2 = max(10, 20, 30, 40, 50, 60)\n",
        "\n",
        "print(m2)"
      ]
    },
    {
      "cell_type": "code",
      "execution_count": null,
      "id": "102a73d6",
      "metadata": {
        "id": "102a73d6",
        "outputId": "194aa9b7-2af3-4f2c-c545-0e107a9ebc25"
      },
      "outputs": [
        {
          "data": {
            "text/plain": [
              "60"
            ]
          },
          "execution_count": 98,
          "metadata": {},
          "output_type": "execute_result"
        }
      ],
      "source": [
        "m2"
      ]
    },
    {
      "cell_type": "code",
      "execution_count": null,
      "id": "b96bf25b",
      "metadata": {
        "id": "b96bf25b"
      },
      "outputs": [],
      "source": []
    }
  ],
  "metadata": {
    "kernelspec": {
      "display_name": "Python 3 (ipykernel)",
      "language": "python",
      "name": "python3"
    },
    "language_info": {
      "codemirror_mode": {
        "name": "ipython",
        "version": 3
      },
      "file_extension": ".py",
      "mimetype": "text/x-python",
      "name": "python",
      "nbconvert_exporter": "python",
      "pygments_lexer": "ipython3",
      "version": "3.9.13"
    },
    "colab": {
      "provenance": [],
      "include_colab_link": true
    }
  },
  "nbformat": 4,
  "nbformat_minor": 5
}