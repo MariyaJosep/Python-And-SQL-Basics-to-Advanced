{
  "cells": [
    {
      "cell_type": "markdown",
      "metadata": {
        "id": "view-in-github",
        "colab_type": "text"
      },
      "source": [
        "<a href=\"https://colab.research.google.com/github/MariyaJosep/Python-And-SQL-Basics-to-Advanced/blob/main/Python_datatypes%2Cspliting.ipynb\" target=\"_parent\"><img src=\"https://colab.research.google.com/assets/colab-badge.svg\" alt=\"Open In Colab\"/></a>"
      ]
    },
    {
      "cell_type": "code",
      "execution_count": null,
      "id": "b5b20a7c",
      "metadata": {
        "id": "b5b20a7c",
        "outputId": "a632bf28-92fd-4037-8105-2aafc2e00add"
      },
      "outputs": [
        {
          "name": "stdout",
          "output_type": "stream",
          "text": [
            "a addr : 2313281694128 and b addr : 2313281694288\n"
          ]
        }
      ],
      "source": [
        "a, b = 5, 10\n",
        "\n",
        "print(f'a addr : {id(a)} and b addr : {id(b)}')"
      ]
    },
    {
      "cell_type": "code",
      "execution_count": null,
      "id": "5da58667",
      "metadata": {
        "id": "5da58667",
        "outputId": "d56e19b9-957e-4fed-e697-71d7ecd09daa"
      },
      "outputs": [
        {
          "data": {
            "text/plain": [
              "False"
            ]
          },
          "execution_count": 2,
          "metadata": {},
          "output_type": "execute_result"
        }
      ],
      "source": [
        "a is b"
      ]
    },
    {
      "cell_type": "code",
      "execution_count": null,
      "id": "702682aa",
      "metadata": {
        "id": "702682aa",
        "outputId": "6edf4cad-86b1-4575-8dd8-86adfe7532ea"
      },
      "outputs": [
        {
          "data": {
            "text/plain": [
              "True"
            ]
          },
          "execution_count": 3,
          "metadata": {},
          "output_type": "execute_result"
        }
      ],
      "source": [
        "a is not b"
      ]
    },
    {
      "cell_type": "code",
      "execution_count": null,
      "id": "e67ce7aa",
      "metadata": {
        "id": "e67ce7aa",
        "outputId": "fe94270f-e67a-4e97-9903-d8b8c503005c"
      },
      "outputs": [
        {
          "name": "stdout",
          "output_type": "stream",
          "text": [
            "c addr : 2313281694128\n"
          ]
        }
      ],
      "source": [
        "c = 5\n",
        "\n",
        "print(f'c addr : {id(c)}')"
      ]
    },
    {
      "cell_type": "code",
      "execution_count": null,
      "id": "ed9c4a2e",
      "metadata": {
        "id": "ed9c4a2e",
        "outputId": "6e8c54ff-d13b-42d1-887f-c6cb7de710b6"
      },
      "outputs": [
        {
          "data": {
            "text/plain": [
              "True"
            ]
          },
          "execution_count": 5,
          "metadata": {},
          "output_type": "execute_result"
        }
      ],
      "source": [
        "a is c"
      ]
    },
    {
      "cell_type": "code",
      "execution_count": null,
      "id": "fb5cc218",
      "metadata": {
        "id": "fb5cc218",
        "outputId": "088d317e-4a66-4784-b8b6-e8312975a44b"
      },
      "outputs": [
        {
          "data": {
            "text/plain": [
              "False"
            ]
          },
          "execution_count": 6,
          "metadata": {},
          "output_type": "execute_result"
        }
      ],
      "source": [
        "b is c"
      ]
    },
    {
      "cell_type": "code",
      "execution_count": null,
      "id": "2d1a2d95",
      "metadata": {
        "id": "2d1a2d95",
        "outputId": "14335da7-8174-4bf8-d908-d5708023ec7a"
      },
      "outputs": [
        {
          "data": {
            "text/plain": [
              "False"
            ]
          },
          "execution_count": 7,
          "metadata": {},
          "output_type": "execute_result"
        }
      ],
      "source": [
        "c = 15\n",
        "\n",
        "a is c"
      ]
    },
    {
      "cell_type": "code",
      "execution_count": null,
      "id": "1d20f474",
      "metadata": {
        "id": "1d20f474",
        "outputId": "62f3f90e-0b25-4527-97ff-cecf467a897c"
      },
      "outputs": [
        {
          "name": "stdout",
          "output_type": "stream",
          "text": [
            "c memory location : 2313281694448\n"
          ]
        }
      ],
      "source": [
        "print(f'c memory location : {id(c)}')"
      ]
    },
    {
      "cell_type": "code",
      "execution_count": null,
      "id": "e2133d59",
      "metadata": {
        "id": "e2133d59",
        "outputId": "778fd311-fc4b-4ae6-b3e0-109e0517d5f1"
      },
      "outputs": [
        {
          "data": {
            "text/plain": [
              "False"
            ]
          },
          "execution_count": 9,
          "metadata": {},
          "output_type": "execute_result"
        }
      ],
      "source": [
        "l1 = [10, 20, 30, 50]\n",
        "\n",
        "a = 100\n",
        "\n",
        "a in l1"
      ]
    },
    {
      "cell_type": "code",
      "execution_count": null,
      "id": "dcb0c93e",
      "metadata": {
        "id": "dcb0c93e",
        "outputId": "2edba5e0-7ec4-4f3f-ba1a-bf6d82b14bc4"
      },
      "outputs": [
        {
          "data": {
            "text/plain": [
              "True"
            ]
          },
          "execution_count": 10,
          "metadata": {},
          "output_type": "execute_result"
        }
      ],
      "source": [
        "c = 20\n",
        "\n",
        "c in l1"
      ]
    },
    {
      "cell_type": "code",
      "execution_count": null,
      "id": "1eca6bf6",
      "metadata": {
        "id": "1eca6bf6",
        "outputId": "35238ed5-6ec4-42af-fb47-7ed289d523d3"
      },
      "outputs": [
        {
          "data": {
            "text/plain": [
              "False"
            ]
          },
          "execution_count": 11,
          "metadata": {},
          "output_type": "execute_result"
        }
      ],
      "source": [
        "c not in l1"
      ]
    },
    {
      "cell_type": "code",
      "execution_count": null,
      "id": "af9479e4",
      "metadata": {
        "id": "af9479e4",
        "outputId": "5c1d32c9-63e6-41f5-951a-a38a44d06fe7"
      },
      "outputs": [
        {
          "data": {
            "text/plain": [
              "True"
            ]
          },
          "execution_count": 12,
          "metadata": {},
          "output_type": "execute_result"
        }
      ],
      "source": [
        "is_male = True\n",
        "\n",
        "is_male"
      ]
    },
    {
      "cell_type": "code",
      "execution_count": null,
      "id": "787685be",
      "metadata": {
        "id": "787685be",
        "outputId": "4055acde-36b8-40de-859b-93807d66b7a3"
      },
      "outputs": [
        {
          "name": "stdout",
          "output_type": "stream",
          "text": [
            "(10+20j)\n"
          ]
        }
      ],
      "source": [
        "#complex type\n",
        "\n",
        "c1 = 10+20j\n",
        "\n",
        "print(c1)"
      ]
    },
    {
      "cell_type": "code",
      "execution_count": null,
      "id": "f80ee7c6",
      "metadata": {
        "id": "f80ee7c6",
        "outputId": "156d468e-16b2-4ef1-b465-2ac8f081efd4"
      },
      "outputs": [
        {
          "name": "stdout",
          "output_type": "stream",
          "text": [
            "10.0\n"
          ]
        }
      ],
      "source": [
        "print(c1.real)"
      ]
    },
    {
      "cell_type": "code",
      "execution_count": null,
      "id": "abf90e82",
      "metadata": {
        "id": "abf90e82",
        "outputId": "b39939a6-82d5-4719-9b7c-adab5e91f952"
      },
      "outputs": [
        {
          "name": "stdout",
          "output_type": "stream",
          "text": [
            "20.0\n"
          ]
        }
      ],
      "source": [
        "print(c1.imag)"
      ]
    },
    {
      "cell_type": "code",
      "execution_count": null,
      "id": "d80ed9e8",
      "metadata": {
        "id": "d80ed9e8",
        "outputId": "c8c0a331-bd5e-486d-9464-3eecbd1342f9"
      },
      "outputs": [
        {
          "data": {
            "text/plain": [
              "10.0"
            ]
          },
          "execution_count": 16,
          "metadata": {},
          "output_type": "execute_result"
        }
      ],
      "source": [
        "c1.real"
      ]
    },
    {
      "cell_type": "code",
      "execution_count": null,
      "id": "8d74e6fe",
      "metadata": {
        "id": "8d74e6fe",
        "outputId": "fdd3429b-4a5f-4b21-bdda-5d6e56c75cc5"
      },
      "outputs": [
        {
          "data": {
            "text/plain": [
              "20.0"
            ]
          },
          "execution_count": 17,
          "metadata": {},
          "output_type": "execute_result"
        }
      ],
      "source": [
        "c1.imag"
      ]
    },
    {
      "cell_type": "code",
      "execution_count": null,
      "id": "93ae9f67",
      "metadata": {
        "id": "93ae9f67",
        "outputId": "1459848b-0720-4e39-c079-c488b690861d"
      },
      "outputs": [
        {
          "data": {
            "text/plain": [
              "20.0"
            ]
          },
          "execution_count": 18,
          "metadata": {},
          "output_type": "execute_result"
        }
      ],
      "source": [
        "c1.real\n",
        "c1.imag"
      ]
    },
    {
      "cell_type": "code",
      "execution_count": null,
      "id": "322b017c",
      "metadata": {
        "id": "322b017c",
        "outputId": "e734ee6d-e63e-40e6-e0ee-001e32bdfc71"
      },
      "outputs": [
        {
          "data": {
            "text/plain": [
              "(10.0, 20.0)"
            ]
          },
          "execution_count": 19,
          "metadata": {},
          "output_type": "execute_result"
        }
      ],
      "source": [
        "c1.real, c1.imag"
      ]
    },
    {
      "cell_type": "code",
      "execution_count": null,
      "id": "45b95df1",
      "metadata": {
        "id": "45b95df1",
        "outputId": "e559f08e-5e23-4d08-9a71-ad8a6ebb0d38"
      },
      "outputs": [
        {
          "name": "stdout",
          "output_type": "stream",
          "text": [
            "10.0 20.0\n"
          ]
        }
      ],
      "source": [
        "print(c1.real, c1.imag)"
      ]
    },
    {
      "cell_type": "code",
      "execution_count": null,
      "id": "4ce04992",
      "metadata": {
        "id": "4ce04992",
        "outputId": "ffb53006-0c39-4004-9632-489cf0ee28ed"
      },
      "outputs": [
        {
          "data": {
            "text/plain": [
              "complex"
            ]
          },
          "execution_count": 21,
          "metadata": {},
          "output_type": "execute_result"
        }
      ],
      "source": [
        "type(c1)"
      ]
    },
    {
      "cell_type": "code",
      "execution_count": null,
      "id": "9080bb22",
      "metadata": {
        "id": "9080bb22",
        "outputId": "d321b9f0-677d-45b1-fa8b-55432af71478"
      },
      "outputs": [
        {
          "name": "stdout",
          "output_type": "stream",
          "text": [
            "Bangalore\n"
          ]
        }
      ],
      "source": [
        "#string type\n",
        "#string is collection chars (list of chars)\n",
        "\n",
        "city = 'Bangalore' #['B', 'a', 'n'......]\n",
        "# city = \"Bangalore\"\n",
        "\n",
        "print(city)"
      ]
    },
    {
      "cell_type": "code",
      "execution_count": null,
      "id": "96c8ce40",
      "metadata": {
        "id": "96c8ce40",
        "outputId": "b92eb427-f9e9-4947-9ff2-f551b0466857"
      },
      "outputs": [
        {
          "name": "stdout",
          "output_type": "stream",
          "text": [
            "No of chars : 9\n"
          ]
        }
      ],
      "source": [
        "#to find number of char in str\n",
        "\n",
        "print(f'No of chars : {len(city)}')"
      ]
    },
    {
      "cell_type": "code",
      "execution_count": null,
      "id": "66c328cd",
      "metadata": {
        "id": "66c328cd",
        "outputId": "5956cd53-2a8b-47b7-a8a8-c59ad171e1d0"
      },
      "outputs": [
        {
          "data": {
            "text/plain": [
              "True"
            ]
          },
          "execution_count": 24,
          "metadata": {},
          "output_type": "execute_result"
        }
      ],
      "source": [
        "'a' in city"
      ]
    },
    {
      "cell_type": "code",
      "execution_count": null,
      "id": "5b868733",
      "metadata": {
        "id": "5b868733",
        "outputId": "eee9ae0d-3aaa-41a7-9058-e4886c6b7976"
      },
      "outputs": [
        {
          "data": {
            "text/plain": [
              "False"
            ]
          },
          "execution_count": 25,
          "metadata": {},
          "output_type": "execute_result"
        }
      ],
      "source": [
        "'Z' in city"
      ]
    },
    {
      "cell_type": "code",
      "execution_count": null,
      "id": "636a488e",
      "metadata": {
        "id": "636a488e",
        "outputId": "0fb7151c-a71a-45f3-eb4e-84ebd9e55f8e"
      },
      "outputs": [
        {
          "data": {
            "text/plain": [
              "'B'"
            ]
          },
          "execution_count": 26,
          "metadata": {},
          "output_type": "execute_result"
        }
      ],
      "source": [
        "#selecting element using index\n",
        "city[0]"
      ]
    },
    {
      "cell_type": "code",
      "execution_count": null,
      "id": "4e311363",
      "metadata": {
        "id": "4e311363",
        "outputId": "b4be94e9-9a1c-4da6-a5f6-9911d8ff14c4"
      },
      "outputs": [
        {
          "data": {
            "text/plain": [
              "'l'"
            ]
          },
          "execution_count": 27,
          "metadata": {},
          "output_type": "execute_result"
        }
      ],
      "source": [
        "city[5]"
      ]
    },
    {
      "cell_type": "code",
      "execution_count": null,
      "id": "6321d83e",
      "metadata": {
        "id": "6321d83e",
        "outputId": "1b2ae11d-e8ac-4966-c6eb-06742fe74b8c"
      },
      "outputs": [
        {
          "ename": "IndexError",
          "evalue": "string index out of range",
          "output_type": "error",
          "traceback": [
            "\u001b[1;31m---------------------------------------------------------------------------\u001b[0m",
            "\u001b[1;31mIndexError\u001b[0m                                Traceback (most recent call last)",
            "\u001b[1;32m~\\AppData\\Local\\Temp\\ipykernel_17916\\860100018.py\u001b[0m in \u001b[0;36m<module>\u001b[1;34m\u001b[0m\n\u001b[1;32m----> 1\u001b[1;33m \u001b[0mcity\u001b[0m\u001b[1;33m[\u001b[0m\u001b[1;36m20\u001b[0m\u001b[1;33m]\u001b[0m\u001b[1;33m\u001b[0m\u001b[1;33m\u001b[0m\u001b[0m\n\u001b[0m",
            "\u001b[1;31mIndexError\u001b[0m: string index out of range"
          ]
        }
      ],
      "source": [
        "city[20]"
      ]
    },
    {
      "cell_type": "code",
      "execution_count": null,
      "id": "8f1f4704",
      "metadata": {
        "id": "8f1f4704",
        "outputId": "a5feaeb6-aded-4caa-a927-2f848fd101c8"
      },
      "outputs": [
        {
          "name": "stdout",
          "output_type": "stream",
          "text": [
            "10.0 20.0\n"
          ]
        }
      ],
      "source": [
        "c1 = 10+20j\n",
        "\n",
        "print(c1.real, c1.imag)"
      ]
    },
    {
      "cell_type": "code",
      "execution_count": null,
      "id": "5ef5cdae",
      "metadata": {
        "id": "5ef5cdae",
        "outputId": "70500556-0a5f-4a6a-ee00-8238d2e55f03"
      },
      "outputs": [
        {
          "name": "stdout",
          "output_type": "stream",
          "text": [
            "(110+30j)\n"
          ]
        }
      ],
      "source": [
        "c2 = 100+10j\n",
        "\n",
        "c3 = c1 + c2\n",
        "\n",
        "print(c3)"
      ]
    },
    {
      "cell_type": "code",
      "execution_count": null,
      "id": "aed5e4de",
      "metadata": {
        "id": "aed5e4de",
        "outputId": "97d92873-dd59-4704-dc82-df70b6829c8d"
      },
      "outputs": [
        {
          "name": "stdout",
          "output_type": "stream",
          "text": [
            "(10.45+56j)\n"
          ]
        }
      ],
      "source": [
        "c4 = 10.45+56j\n",
        "\n",
        "print(c4)"
      ]
    },
    {
      "cell_type": "code",
      "execution_count": null,
      "id": "bc109e7c",
      "metadata": {
        "id": "bc109e7c",
        "outputId": "e16151ca-84e5-4c3c-f2f3-dcc249280b9e"
      },
      "outputs": [
        {
          "ename": "AttributeError",
          "evalue": "'str' object has no attribute 'city'",
          "output_type": "error",
          "traceback": [
            "\u001b[1;31m---------------------------------------------------------------------------\u001b[0m",
            "\u001b[1;31mAttributeError\u001b[0m                            Traceback (most recent call last)",
            "\u001b[1;32m~\\AppData\\Local\\Temp\\ipykernel_17916\\2094503723.py\u001b[0m in \u001b[0;36m<module>\u001b[1;34m\u001b[0m\n\u001b[1;32m----> 1\u001b[1;33m \u001b[0mcity\u001b[0m\u001b[1;33m.\u001b[0m \u001b[0mcity\u001b[0m\u001b[1;33m[\u001b[0m\u001b[1;33m-\u001b[0m\u001b[1;36m1\u001b[0m\u001b[1;33m]\u001b[0m\u001b[1;33m\u001b[0m\u001b[1;33m\u001b[0m\u001b[0m\n\u001b[0m",
            "\u001b[1;31mAttributeError\u001b[0m: 'str' object has no attribute 'city'"
          ]
        }
      ],
      "source": [
        "city. city[-1]"
      ]
    },
    {
      "cell_type": "code",
      "execution_count": null,
      "id": "627023b8",
      "metadata": {
        "id": "627023b8",
        "outputId": "596f65f1-1489-4056-9505-744539536f5f"
      },
      "outputs": [
        {
          "data": {
            "text/plain": [
              "('Bangalore', 'e')"
            ]
          },
          "execution_count": 34,
          "metadata": {},
          "output_type": "execute_result"
        }
      ],
      "source": [
        "city, city[-1]"
      ]
    },
    {
      "cell_type": "code",
      "execution_count": null,
      "id": "6b2c21d3",
      "metadata": {
        "id": "6b2c21d3",
        "outputId": "47cd0f93-48ea-4fed-e8b2-55cf61783ce7"
      },
      "outputs": [
        {
          "data": {
            "text/plain": [
              "('Bangalore', 'r')"
            ]
          },
          "execution_count": 35,
          "metadata": {},
          "output_type": "execute_result"
        }
      ],
      "source": [
        "city, city[-2]"
      ]
    },
    {
      "cell_type": "code",
      "execution_count": null,
      "id": "9b782088",
      "metadata": {
        "id": "9b782088",
        "outputId": "bede8669-d26f-47b6-a6c9-1a03b780d5f2"
      },
      "outputs": [
        {
          "data": {
            "text/plain": [
              "'Bangalore'"
            ]
          },
          "execution_count": 36,
          "metadata": {},
          "output_type": "execute_result"
        }
      ],
      "source": [
        "city"
      ]
    },
    {
      "cell_type": "code",
      "execution_count": null,
      "id": "5e9945c1",
      "metadata": {
        "id": "5e9945c1",
        "outputId": "e326a4d3-43eb-4975-8bed-fa550b240c7f"
      },
      "outputs": [
        {
          "data": {
            "text/plain": [
              "'Bangalore'"
            ]
          },
          "execution_count": 37,
          "metadata": {},
          "output_type": "execute_result"
        }
      ],
      "source": [
        "city[:]"
      ]
    },
    {
      "cell_type": "code",
      "execution_count": null,
      "id": "e7fc6dd1",
      "metadata": {
        "id": "e7fc6dd1",
        "outputId": "dd478690-c61d-406c-b6d1-b6ad17650c12"
      },
      "outputs": [
        {
          "data": {
            "text/plain": [
              "('Banga', 'Banga', 'ngal', 'ngalore')"
            ]
          },
          "execution_count": 41,
          "metadata": {},
          "output_type": "execute_result"
        }
      ],
      "source": [
        "city[0:5], city[:5], city[2:6], city[2:]"
      ]
    },
    {
      "cell_type": "code",
      "execution_count": null,
      "id": "60566c13",
      "metadata": {
        "id": "60566c13",
        "outputId": "60f99ffd-ee98-4899-b485-573eb2c41fea"
      },
      "outputs": [
        {
          "data": {
            "text/plain": [
              "('Bangalore',\n",
              " 'BangaloreBangalore',\n",
              " 'BangaloreBangalore',\n",
              " 'BangaloreBangaloreBangaloreBangaloreBangaloreBangaloreBangaloreBangaloreBangaloreBangalore')"
            ]
          },
          "execution_count": 46,
          "metadata": {},
          "output_type": "execute_result"
        }
      ],
      "source": [
        "city, city*2, city+city, city*10"
      ]
    },
    {
      "cell_type": "code",
      "execution_count": null,
      "id": "5fd9fbbc",
      "metadata": {
        "id": "5fd9fbbc",
        "outputId": "bb960987-cb02-4de9-dbfa-fede160911c1"
      },
      "outputs": [
        {
          "data": {
            "text/plain": [
              "(0, -1, 4, 10)"
            ]
          },
          "execution_count": 53,
          "metadata": {},
          "output_type": "execute_result"
        }
      ],
      "source": [
        "emp = '100-Shiva Kumar-+918095470922-25000'\n",
        "\n",
        "emp.find('100'), emp.find('200'), emp.find('Shiva'), emp.find('Kumar')"
      ]
    },
    {
      "cell_type": "code",
      "execution_count": null,
      "id": "11a2919d",
      "metadata": {
        "id": "11a2919d",
        "outputId": "7a3b3ade-c4b3-4c07-b1ed-8f1a4ff46e44"
      },
      "outputs": [
        {
          "data": {
            "text/plain": [
              "-1"
            ]
          },
          "execution_count": 49,
          "metadata": {},
          "output_type": "execute_result"
        }
      ],
      "source": [
        "#to check emp with 200 exist or not\n",
        "emp.find('200') #-1 with find() is not a index, it is absent of the element"
      ]
    },
    {
      "cell_type": "code",
      "execution_count": null,
      "id": "e81aab99",
      "metadata": {
        "id": "e81aab99",
        "outputId": "411d9ab6-c1aa-441e-9658-91879177a1dd"
      },
      "outputs": [
        {
          "data": {
            "text/plain": [
              "['100', 'Shiva Kumar', '+918095470922', '25000']"
            ]
          },
          "execution_count": 52,
          "metadata": {},
          "output_type": "execute_result"
        }
      ],
      "source": [
        "emp_details = emp.split('-')\n",
        "\n",
        "emp_details"
      ]
    },
    {
      "cell_type": "code",
      "execution_count": null,
      "id": "a4f16a96",
      "metadata": {
        "id": "a4f16a96",
        "outputId": "c815a09d-52e1-479a-f54f-e9c973425383"
      },
      "outputs": [
        {
          "data": {
            "text/plain": [
              "('shiva kumar', 'SHIVA KUMAR')"
            ]
          },
          "execution_count": 54,
          "metadata": {},
          "output_type": "execute_result"
        }
      ],
      "source": [
        "emp_details[1].lower(), emp_details[1].upper()"
      ]
    },
    {
      "cell_type": "code",
      "execution_count": null,
      "id": "95c9ddc1",
      "metadata": {
        "id": "95c9ddc1",
        "outputId": "50529bd8-7a0e-467d-e3c2-df0b99cea9af"
      },
      "outputs": [
        {
          "data": {
            "text/plain": [
              "(1, 2)"
            ]
          },
          "execution_count": 57,
          "metadata": {},
          "output_type": "execute_result"
        }
      ],
      "source": [
        "emps = '100-Shiva Kumar-+918095470922-25000#200-Shiva Kumar-+9180954712ert-35000'\n",
        "emps.count('100'), emps.count('Shiva Kumar')"
      ]
    },
    {
      "cell_type": "code",
      "execution_count": null,
      "id": "d3dc8902",
      "metadata": {
        "id": "d3dc8902",
        "outputId": "d3ceeae6-9269-4562-f59d-7bf027661d96"
      },
      "outputs": [
        {
          "name": "stdout",
          "output_type": "stream",
          "text": [
            "['100-Shiva Kumar-+918095470922-25000', '200-Shiva Kumar-+918095471234-35000']\n",
            "['100', 'Shiva Kumar', '+918095470922', '25000']\n",
            "['200', 'Shiva Kumar', '+918095471234', '35000']\n"
          ]
        }
      ],
      "source": [
        "emps1 = emps.split('#')\n",
        "\n",
        "print(emps1)\n",
        "emp_1 = emps1[0].split('-')\n",
        "print(emp_1)\n",
        "emp_2 = emps1[1].split('-')\n",
        "print(emp_2)"
      ]
    },
    {
      "cell_type": "code",
      "execution_count": null,
      "id": "f9bd93ef",
      "metadata": {
        "id": "f9bd93ef",
        "outputId": "2e3df4ed-3a2f-40d5-9d75-9ce5e582a9c3"
      },
      "outputs": [
        {
          "data": {
            "text/plain": [
              "('100-Shiva Kumar-+918095470922-25000#200-Shiva Kumar-+918095471234-35000',\n",
              " '35000')"
            ]
          },
          "execution_count": 62,
          "metadata": {},
          "output_type": "execute_result"
        }
      ],
      "source": [
        "#last five chars is salary\n",
        "#extracting salary form emp\n",
        "emp, emp[-5:]"
      ]
    },
    {
      "cell_type": "code",
      "execution_count": null,
      "id": "d10f39e4",
      "metadata": {
        "id": "d10f39e4",
        "outputId": "0f2c8f49-1e76-42db-e179-96b7a2eaaa11"
      },
      "outputs": [
        {
          "data": {
            "text/plain": [
              "('100-Shiva Kumar-+918095470922-25000#200-Shiva Kumar-+918095471234-35000',\n",
              " '918095470922',\n",
              " '918095470922')"
            ]
          },
          "execution_count": 67,
          "metadata": {},
          "output_type": "execute_result"
        }
      ],
      "source": [
        "mp = emp.find('+') \n",
        "\n",
        "emp, emp[mp+1:mp+13], emp[emp.find('+')+1:emp.find('+')+13]"
      ]
    },
    {
      "cell_type": "code",
      "execution_count": null,
      "id": "b16d8ae4",
      "metadata": {
        "id": "b16d8ae4",
        "outputId": "80f846f7-ec36-45c4-b836-2f9a89531b4b"
      },
      "outputs": [
        {
          "data": {
            "text/plain": [
              "('9180954709ty', False)"
            ]
          },
          "execution_count": 70,
          "metadata": {},
          "output_type": "execute_result"
        }
      ],
      "source": [
        "emp = '100-Shiva Kumar-+9180954709ty-25000'\n",
        "mp = emp.find('+') \n",
        "mobile = emp[mp+1:mp+13]\n",
        "\n",
        "mobile, mobile.isdigit()"
      ]
    },
    {
      "cell_type": "code",
      "execution_count": null,
      "id": "1afaa76b",
      "metadata": {
        "id": "1afaa76b",
        "outputId": "62dde17f-31ee-4413-cbfd-c0f9f268763d"
      },
      "outputs": [
        {
          "data": {
            "text/plain": [
              "('918095470923', True)"
            ]
          },
          "execution_count": 71,
          "metadata": {},
          "output_type": "execute_result"
        }
      ],
      "source": [
        "emp = '100-Shiva Kumar-+918095470923-25000'\n",
        "mp = emp.find('+') \n",
        "mobile = emp[mp+1:mp+13]\n",
        "\n",
        "mobile, mobile.isdigit()"
      ]
    },
    {
      "cell_type": "code",
      "execution_count": null,
      "id": "a0ac1f2a",
      "metadata": {
        "id": "a0ac1f2a",
        "outputId": "16b217d9-b866-447b-d3e6-c76099a812a2"
      },
      "outputs": [
        {
          "data": {
            "text/plain": [
              "('9095470923', True)"
            ]
          },
          "execution_count": 76,
          "metadata": {},
          "output_type": "execute_result"
        }
      ],
      "source": [
        "emp = '100-Shiva Kumar-+919095470923-25000'\n",
        "mp = emp.find('+') \n",
        "mobile = emp[mp+3:mp+13]\n",
        "\n",
        "mobile, mobile.isdigit() #not valid mobile number in india"
      ]
    },
    {
      "cell_type": "code",
      "execution_count": null,
      "id": "236c9a33",
      "metadata": {
        "id": "236c9a33",
        "outputId": "908eb3b4-49b3-4e82-d55b-299d8ed0283f"
      },
      "outputs": [
        {
          "data": {
            "text/plain": [
              "True"
            ]
          },
          "execution_count": 77,
          "metadata": {},
          "output_type": "execute_result"
        }
      ],
      "source": [
        "fd = mobile[0]\n",
        "\n",
        "fd=='9' or fd=='8' or fd=='7'"
      ]
    },
    {
      "cell_type": "code",
      "execution_count": null,
      "id": "2672248e",
      "metadata": {
        "id": "2672248e",
        "outputId": "ec412ea7-cdcf-48d7-c67c-c0148dd171cc"
      },
      "outputs": [
        {
          "name": "stdout",
          "output_type": "stream",
          "text": [
            "100 Shiva Kumar 918095470922 25000\n"
          ]
        }
      ],
      "source": [
        "emp = '100-Shiva Kumar-+918095470922-25000'\n",
        "\n",
        "eno = emp[:3]\n",
        "ename = emp[4:15]\n",
        "mobile = emp[17:29]\n",
        "#salary = emp[30:]\n",
        "salary = emp[-5:]\n",
        "print(eno, ename, mobile, salary)"
      ]
    },
    {
      "cell_type": "code",
      "execution_count": null,
      "id": "3b478af3",
      "metadata": {
        "id": "3b478af3",
        "outputId": "01323373-4dae-4c55-96b3-1a2a97bae258"
      },
      "outputs": [
        {
          "name": "stdout",
          "output_type": "stream",
          "text": [
            "-1 0\n",
            "False True\n"
          ]
        }
      ],
      "source": [
        "#to find emp with 200\n",
        "\n",
        "emp = '100-Shiva Kumar-+918095470922-25000'\n",
        "\n",
        "print(emp.find('200'), emp.find('100'))\n",
        "print(emp.find('200') > -1, emp.find('100') > -1)"
      ]
    },
    {
      "cell_type": "code",
      "execution_count": null,
      "id": "078e1260",
      "metadata": {
        "id": "078e1260",
        "outputId": "3225d697-2ccc-46a9-9a00-1617b4ec9a59"
      },
      "outputs": [
        {
          "data": {
            "text/plain": [
              "(False, True)"
            ]
          },
          "execution_count": 92,
          "metadata": {},
          "output_type": "execute_result"
        }
      ],
      "source": [
        "#to find emp with 200\n",
        "\n",
        "emp = '100-Shiva Kumar-+918095470922-25000'\n",
        "\n",
        "emp.find('200'), emp.find('100') #it excludes from output\n",
        "emp.find('200') > -1, emp.find('100') > -1"
      ]
    },
    {
      "cell_type": "code",
      "execution_count": null,
      "id": "bf801a8f",
      "metadata": {
        "id": "bf801a8f",
        "outputId": "178b78c7-1712-4478-a3c6-7d850acc489c"
      },
      "outputs": [
        {
          "name": "stdout",
          "output_type": "stream",
          "text": [
            "-1\n",
            "False\n"
          ]
        }
      ],
      "source": [
        "#to find emp with name Rahul\n",
        "\n",
        "emp = '100-Shiva Kumar-+918095470922-25000'\n",
        "\n",
        "print(emp.find('Rahul'))\n",
        "print(emp.find('Rahul') > -1)"
      ]
    },
    {
      "cell_type": "code",
      "execution_count": null,
      "id": "93a0f4d7",
      "metadata": {
        "id": "93a0f4d7",
        "outputId": "e09620ec-f083-4762-e0ff-19c5a27dbb3d"
      },
      "outputs": [
        {
          "name": "stdout",
          "output_type": "stream",
          "text": [
            "10\n",
            "True\n"
          ]
        }
      ],
      "source": [
        "#to find emp with name Kumar\n",
        "\n",
        "emp = '100-Shiva Kumar-+918095470922-25000'\n",
        "\n",
        "print(emp.find('Kumar'))\n",
        "print(emp.find('Kumar') > -1)"
      ]
    },
    {
      "cell_type": "code",
      "execution_count": null,
      "id": "2e8d1236",
      "metadata": {
        "id": "2e8d1236",
        "outputId": "2b6f3940-3eb2-4d2c-f0f8-18cc8a1acb6a"
      },
      "outputs": [
        {
          "name": "stdout",
          "output_type": "stream",
          "text": [
            "False\n",
            "True\n"
          ]
        }
      ],
      "source": [
        "#to find emp with name kumar\n",
        "\n",
        "emp = '100-Shiva Kumar-+918095470922-25000'\n",
        "\n",
        "# print(emp.find('kumar'))\n",
        "print(emp.find('kumar') > -1)\n",
        "\n",
        "# print(emp.lower().find('kumar'))\n",
        "print(emp.lower().find('kumar') > -1)"
      ]
    },
    {
      "cell_type": "code",
      "execution_count": null,
      "id": "082795f7",
      "metadata": {
        "id": "082795f7",
        "outputId": "e8008aa8-0b7f-49ba-ce31-1b82118ee669"
      },
      "outputs": [
        {
          "name": "stdout",
          "output_type": "stream",
          "text": [
            "Shiva Kumar        \n",
            "Shiva Kumar Nagalli\n"
          ]
        }
      ],
      "source": [
        "#extractin name (4,23)\n",
        "\n",
        "emp1 = '100-Shiva Kumar        -+918095470922-25000'\n",
        "emp2 = '100-Shiva Kumar Nagalli-+918095470922-25000'\n",
        "\n",
        "print(emp1[4:23])\n",
        "print(emp2[4:23])"
      ]
    },
    {
      "cell_type": "code",
      "execution_count": null,
      "id": "e7966297",
      "metadata": {
        "id": "e7966297",
        "outputId": "e486a098-cc7a-433d-b9ec-e4d3380ec317"
      },
      "outputs": [
        {
          "name": "stdout",
          "output_type": "stream",
          "text": [
            "['100', 'Shiva Kumar', '+918095470922', '25000']\n",
            "Shiva Kumar\n",
            "Kumar\n",
            "['100', 'Shiva Kumar Nagalli', '+918095470922', '25000']\n",
            "Shiva Kumar Nagalli\n",
            "['Shiva', 'Kumar', 'Nagalli']\n",
            "Nagalli\n",
            "Kumar\n",
            "Shiva\n"
          ]
        }
      ],
      "source": [
        "#extractin name (4,23)\n",
        "\n",
        "emp1 = '100,Shiva Kumar,+918095470922,25000'\n",
        "emp2 = '100,Shiva Kumar Nagalli,+918095470922,25000'\n",
        "\n",
        "print(emp1.split(',')) #split() retuns list of values\n",
        "print(emp1.split(',')[1]) #it returns one element\n",
        "print(emp1.split(',')[1].split()[-1]) #it retuns one elemnt after spliting full name into parts\n",
        "\n",
        "\n",
        "print(emp2.split(','))\n",
        "print(emp2.split(',')[1])\n",
        "print(emp2.split(',')[1].split())\n",
        "print(emp2.split(',')[1].split()[-1])\n",
        "print(emp2.split(',')[1].split()[1])\n",
        "print(emp2.split(',')[1].split()[0])"
      ]
    },
    {
      "cell_type": "code",
      "execution_count": null,
      "id": "fd3fcf9c",
      "metadata": {
        "id": "fd3fcf9c",
        "outputId": "e7145b6b-ec7a-42f2-b2fe-cc67db83a8f2"
      },
      "outputs": [
        {
          "name": "stdout",
          "output_type": "stream",
          "text": [
            "Full Name Shiva Kumar\n",
            "Last Name Kumar\n"
          ]
        }
      ],
      "source": [
        "#extractin name (4,23)\n",
        "\n",
        "emp1 = '100,Shiva Kumar,+918095470922,25000'\n",
        "emp2 = '100,Shiva Kumar Nagalli,+918095470922,25000'\n",
        "\n",
        "emp1_info = emp1.split(',')\n",
        "emp_name = emp1_info[1]\n",
        "emp_last_name = emp_name.split()[-1]\n",
        "\n",
        "print(f'Full Name {emp_name}')\n",
        "print(f'Last Name {emp_last_name}')\n",
        "\n",
        "\n",
        "# print(emp2.split(','))\n",
        "# print(emp2.split(',')[1])\n",
        "# print(emp2.split(',')[1].split()[-1])\n",
        "# print(emp2.split(',')[1].split()[1])"
      ]
    },
    {
      "cell_type": "code",
      "execution_count": null,
      "id": "a4094806",
      "metadata": {
        "id": "a4094806"
      },
      "outputs": [],
      "source": []
    }
  ],
  "metadata": {
    "kernelspec": {
      "display_name": "Python 3 (ipykernel)",
      "language": "python",
      "name": "python3"
    },
    "language_info": {
      "codemirror_mode": {
        "name": "ipython",
        "version": 3
      },
      "file_extension": ".py",
      "mimetype": "text/x-python",
      "name": "python",
      "nbconvert_exporter": "python",
      "pygments_lexer": "ipython3",
      "version": "3.9.13"
    },
    "colab": {
      "provenance": [],
      "include_colab_link": true
    }
  },
  "nbformat": 4,
  "nbformat_minor": 5
}