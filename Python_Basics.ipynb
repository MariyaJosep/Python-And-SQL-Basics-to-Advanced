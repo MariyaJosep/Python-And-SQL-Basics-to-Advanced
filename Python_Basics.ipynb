{
  "cells": [
    {
      "cell_type": "markdown",
      "metadata": {
        "id": "view-in-github",
        "colab_type": "text"
      },
      "source": [
        "<a href=\"https://colab.research.google.com/github/MariyaJosep/Python-And-SQL-Basics-to-Advanced/blob/main/Python_Basics.ipynb\" target=\"_parent\"><img src=\"https://colab.research.google.com/assets/colab-badge.svg\" alt=\"Open In Colab\"/></a>"
      ]
    },
    {
      "cell_type": "code",
      "execution_count": null,
      "metadata": {
        "colab": {
          "base_uri": "https://localhost:8080/"
        },
        "id": "UxUWCw7HUkzc",
        "outputId": "10070fb6-d3f6-4f7b-fdb2-d6b2f7ff8334"
      },
      "outputs": [
        {
          "name": "stdout",
          "output_type": "stream",
          "text": [
            "Welcome to Python\n"
          ]
        }
      ],
      "source": [
        "print('Welcome to Python')"
      ]
    },
    {
      "cell_type": "code",
      "execution_count": null,
      "metadata": {
        "colab": {
          "base_uri": "https://localhost:8080/"
        },
        "id": "t2iG8pdgUy_9",
        "outputId": "5f4dd493-28de-42b5-dd76-6f68130fc1bb"
      },
      "outputs": [
        {
          "name": "stdout",
          "output_type": "stream",
          "text": [
            "Python is every where\n"
          ]
        }
      ],
      "source": [
        "print('Python is every where')"
      ]
    },
    {
      "cell_type": "code",
      "execution_count": null,
      "metadata": {
        "colab": {
          "base_uri": "https://localhost:8080/"
        },
        "id": "Hg7zDyD4VH3E",
        "outputId": "7ea48c2f-f1b6-459c-c19a-73184f6e21c5"
      },
      "outputs": [
        {
          "name": "stdout",
          "output_type": "stream",
          "text": [
            "30\n"
          ]
        }
      ],
      "source": [
        "a, b = 10, 20\n",
        "\n",
        "print(a+b)"
      ]
    },
    {
      "cell_type": "code",
      "execution_count": null,
      "metadata": {
        "id": "0ahirBD6VZIu"
      },
      "outputs": [],
      "source": [
        "a = 10\n",
        "b = 20"
      ]
    },
    {
      "cell_type": "code",
      "execution_count": null,
      "metadata": {
        "id": "eZQ41yV8lA3n",
        "outputId": "bf906e72-0d8c-447b-9a0c-746cc372d0ce"
      },
      "outputs": [
        {
          "data": {
            "text/plain": [
              "10"
            ]
          },
          "execution_count": 2,
          "metadata": {},
          "output_type": "execute_result"
        }
      ],
      "source": [
        "a"
      ]
    },
    {
      "cell_type": "code",
      "execution_count": null,
      "metadata": {
        "id": "LhbBAyh9lA3n",
        "outputId": "cac94583-871e-485a-ac85-9ca1c9b9ba94"
      },
      "outputs": [
        {
          "name": "stdout",
          "output_type": "stream",
          "text": [
            "a\n"
          ]
        }
      ],
      "source": [
        "print(\"a\")"
      ]
    },
    {
      "cell_type": "code",
      "execution_count": null,
      "metadata": {
        "id": "NykrmotblA3n",
        "outputId": "3b770dd6-4cb2-4194-fc16-a3a169790ec6"
      },
      "outputs": [
        {
          "name": "stdout",
          "output_type": "stream",
          "text": [
            "10\n"
          ]
        }
      ],
      "source": [
        "print(a)"
      ]
    },
    {
      "cell_type": "code",
      "execution_count": null,
      "metadata": {
        "id": "oJVNG3RMlA3o",
        "outputId": "cba15c6d-5f05-436b-ef26-e93992867a0c"
      },
      "outputs": [
        {
          "name": "stdout",
          "output_type": "stream",
          "text": [
            "20\n"
          ]
        }
      ],
      "source": [
        "print(b)"
      ]
    },
    {
      "cell_type": "code",
      "execution_count": null,
      "metadata": {
        "id": "7ZBEAVjVlA3o",
        "outputId": "a8f1bb68-59fb-4d3e-b51d-4c5bebbb78fc"
      },
      "outputs": [
        {
          "name": "stdout",
          "output_type": "stream",
          "text": [
            "10 20\n"
          ]
        }
      ],
      "source": [
        "print(a,b)"
      ]
    },
    {
      "cell_type": "code",
      "execution_count": null,
      "metadata": {
        "id": "u5NfkSi4lA3o"
      },
      "outputs": [],
      "source": [
        "name1 = 'shiva'\n",
        "name2 = \"kumar\""
      ]
    },
    {
      "cell_type": "code",
      "execution_count": null,
      "metadata": {
        "id": "spyJhI7FlA3p",
        "outputId": "ae691148-d6dc-4f8a-c59e-f319d91c1af7"
      },
      "outputs": [
        {
          "name": "stdout",
          "output_type": "stream",
          "text": [
            "shiva\n"
          ]
        }
      ],
      "source": [
        "print(name1)"
      ]
    },
    {
      "cell_type": "code",
      "execution_count": null,
      "metadata": {
        "id": "2sFujtGylA3p",
        "outputId": "d6be941e-e6ee-4594-8df5-4742437b4f9a"
      },
      "outputs": [
        {
          "ename": "SyntaxError",
          "evalue": "invalid syntax (1219835472.py, line 1)",
          "output_type": "error",
          "traceback": [
            "\u001b[1;36m  File \u001b[1;32m\"C:\\Users\\HP\\AppData\\Local\\Temp\\ipykernel_4128\\1219835472.py\"\u001b[1;36m, line \u001b[1;32m1\u001b[0m\n\u001b[1;33m    name1 = 'shiva's'\u001b[0m\n\u001b[1;37m                   ^\u001b[0m\n\u001b[1;31mSyntaxError\u001b[0m\u001b[1;31m:\u001b[0m invalid syntax\n"
          ]
        }
      ],
      "source": [
        "name1 = 'shiva's'"
      ]
    },
    {
      "cell_type": "code",
      "execution_count": null,
      "metadata": {
        "id": "oCt4_xzFlA3q",
        "outputId": "a846587b-9673-48a5-b69d-8af198033215"
      },
      "outputs": [
        {
          "name": "stdout",
          "output_type": "stream",
          "text": [
            "a\n"
          ]
        }
      ],
      "source": [
        "print('a')"
      ]
    },
    {
      "cell_type": "code",
      "execution_count": null,
      "metadata": {
        "id": "zIOSL0AxlA3r",
        "outputId": "5004a0dc-b921-4949-f1f0-4d2da1d03101"
      },
      "outputs": [
        {
          "name": "stdout",
          "output_type": "stream",
          "text": [
            "Rahul ,\n",
            "Age =  45 ,\n",
            "Salary =  34567.67 :\n"
          ]
        }
      ],
      "source": [
        "name = 'Rahul'\n",
        "age = 45\n",
        "salary = 34567.67\n",
        "\n",
        "# print('Name = ',name, ',')\n",
        "print(name, ',')\n",
        "print(\"Age = \", age, ',')\n",
        "print('Salary = ', salary, ':')"
      ]
    },
    {
      "cell_type": "code",
      "execution_count": null,
      "metadata": {
        "id": "7JcbxDnulA3r",
        "outputId": "bb6552e5-8f9e-4fa2-8992-253ef792c944"
      },
      "outputs": [
        {
          "name": "stdout",
          "output_type": "stream",
          "text": [
            "Type of Name :  <class 'str'>\n",
            "Type of Age :  <class 'int'>\n",
            "Type of Salary :  <class 'float'>\n"
          ]
        }
      ],
      "source": [
        "print('Type of Name : ', type(name))\n",
        "print('Type of Age : ', type(age))\n",
        "print('Type of Salary : ', type(salary))"
      ]
    },
    {
      "cell_type": "code",
      "execution_count": null,
      "metadata": {
        "id": "qS-8a0T0lA3r",
        "outputId": "fcabfefb-5280-4cb0-88d0-7e0e496d6f7d"
      },
      "outputs": [
        {
          "name": "stdout",
          "output_type": "stream",
          "text": [
            "<class 'str'>\n"
          ]
        }
      ],
      "source": [
        "age = '67'\n",
        "\n",
        "print(type(age))"
      ]
    },
    {
      "cell_type": "code",
      "execution_count": null,
      "metadata": {
        "id": "2h9oDzEvlA3s",
        "outputId": "859ccd7e-70cd-460e-ee9f-771003329109"
      },
      "outputs": [
        {
          "name": "stdout",
          "output_type": "stream",
          "text": [
            "Name :  Rahul , Age :  67 , Salary :  34567.67\n"
          ]
        }
      ],
      "source": [
        "print('Name : ', name, ', Age : ', age, ', Salary : ', salary)"
      ]
    },
    {
      "cell_type": "code",
      "execution_count": null,
      "metadata": {
        "id": "JFd7DX-BlA3s",
        "outputId": "72b2a0fe-ac4a-47e8-df11-28ded6a9b52e"
      },
      "outputs": [
        {
          "name": "stdout",
          "output_type": "stream",
          "text": [
            "5\n",
            "1\n",
            "6\n",
            "1.5\n",
            "9\n",
            "1\n"
          ]
        }
      ],
      "source": [
        "a, b = 3, 2\n",
        "\n",
        "print(a+b)\n",
        "print(a-b)\n",
        "print(a*b)\n",
        "print(a/b)\n",
        "print(a**b) \n",
        "print(a//b)"
      ]
    },
    {
      "cell_type": "code",
      "execution_count": null,
      "metadata": {
        "id": "qg06uxHylA3s",
        "outputId": "c5441446-52ce-4bef-b044-565ba441bba4"
      },
      "outputs": [
        {
          "name": "stdout",
          "output_type": "stream",
          "text": [
            "3 2 5\n",
            "3 + 2 = 5\n"
          ]
        }
      ],
      "source": [
        "# 3+2=5\n",
        "c = a+b\n",
        "print(a,b,c)\n",
        "print(a,'+',b,'=',c)"
      ]
    },
    {
      "cell_type": "code",
      "execution_count": null,
      "metadata": {
        "id": "X3MfHKbxlA3t",
        "outputId": "c8ed36c9-062f-4d23-ab61-a4150814398c"
      },
      "outputs": [
        {
          "name": "stdout",
          "output_type": "stream",
          "text": [
            "3 + 2 = 5\n",
            "3 + 2 = 5\n"
          ]
        }
      ],
      "source": [
        "print('{} + {} = {}'.format(a,b,c))\n",
        "print('{0} + {1} = {2}'.format(a,b,c))"
      ]
    },
    {
      "cell_type": "code",
      "execution_count": null,
      "metadata": {
        "id": "8ELB6Xj2lA3t",
        "outputId": "039815bf-fe86-42be-9708-8a61a8875835"
      },
      "outputs": [
        {
          "name": "stdout",
          "output_type": "stream",
          "text": [
            "5 + 2 = 3\n",
            "3 + 2 = 5\n"
          ]
        }
      ],
      "source": [
        "print('{} + {} = {}'.format(c,b,a))\n",
        "print('{2} + {1} = {0}'.format(c,b,a))"
      ]
    },
    {
      "cell_type": "code",
      "execution_count": null,
      "metadata": {
        "id": "Eo1sSnMrlA3t",
        "outputId": "aeb74809-c885-48fd-d418-6aac72be2457"
      },
      "outputs": [
        {
          "name": "stdout",
          "output_type": "stream",
          "text": [
            "3 + 2 = 5\n"
          ]
        }
      ],
      "source": [
        "print(f'{a} + {b} = {c}')"
      ]
    },
    {
      "cell_type": "code",
      "execution_count": null,
      "metadata": {
        "id": "FGRYV9HulA3t",
        "outputId": "fb034c56-d422-4e0c-f8e5-fddd7b12b1f6"
      },
      "outputs": [
        {
          "name": "stdout",
          "output_type": "stream",
          "text": [
            "{a} + {b} = {c}\n"
          ]
        }
      ],
      "source": [
        "print('{a} + {b} = {c}')"
      ]
    },
    {
      "cell_type": "code",
      "execution_count": null,
      "metadata": {
        "id": "rVa1IfKDlA3u",
        "outputId": "e42ede4d-5a41-4501-e5b0-d0cbdbc8e828"
      },
      "outputs": [
        {
          "name": "stdout",
          "output_type": "stream",
          "text": [
            "1 2\n"
          ]
        }
      ],
      "source": [
        "x, y = 1, 2\n",
        "s1 = '{} {}'\n",
        "\n",
        "print(s1.format(x,y))"
      ]
    },
    {
      "cell_type": "code",
      "execution_count": null,
      "metadata": {
        "id": "rn6MyUTYlA3u",
        "outputId": "7c5451ab-b30f-4aa0-f81c-71b91232f0f7"
      },
      "outputs": [
        {
          "name": "stdout",
          "output_type": "stream",
          "text": [
            "[]\n"
          ]
        }
      ],
      "source": [
        "print('[]')"
      ]
    },
    {
      "cell_type": "code",
      "execution_count": null,
      "metadata": {
        "id": "RewvFDt9lA3u",
        "outputId": "203ef809-f134-4a26-b13a-51ffea32faa3"
      },
      "outputs": [
        {
          "name": "stdout",
          "output_type": "stream",
          "text": [
            "Enter a value : 10\n",
            "Enter b value : 20\n",
            "10 <class 'str'>\n",
            "1020\n"
          ]
        }
      ],
      "source": [
        "# taking input from user\n",
        "\n",
        "a = input('Enter a value : ')\n",
        "b = input('Enter b value : ')\n",
        "c = a + b\n",
        "print(a, type(a))\n",
        "print(c)"
      ]
    },
    {
      "cell_type": "code",
      "execution_count": null,
      "metadata": {
        "id": "XciRD2rZlA3v",
        "outputId": "79868ebd-71fc-48a6-ef3c-c0e2696d1f89"
      },
      "outputs": [
        {
          "name": "stdout",
          "output_type": "stream",
          "text": [
            "Enter a value : 20\n",
            "Enter b value : 30\n",
            "Enter c value : 1\n",
            "20+30+1=51\n"
          ]
        }
      ],
      "source": [
        "#Task, perfrom addition of three numbers, by taking input from user\n",
        "\n",
        "a = input('Enter a value : ')\n",
        "b = input('Enter b value : ')\n",
        "c = input('Enter c value : ')\n",
        "\n",
        "#Cast to integer or float\n",
        "a, b, c = int(a), int(b), int(c)\n",
        "\n",
        "add = a+b+c\n",
        "\n",
        "print(f'{a}+{b}+{c}={add}')"
      ]
    },
    {
      "cell_type": "code",
      "execution_count": null,
      "metadata": {
        "id": "aGiJ5xeqlA3v",
        "outputId": "582466cd-2aa0-4fb5-ca42-69b86aad12a9"
      },
      "outputs": [
        {
          "name": "stdout",
          "output_type": "stream",
          "text": [
            "78\n"
          ]
        },
        {
          "data": {
            "text/plain": [
              "'78'"
            ]
          },
          "execution_count": 42,
          "metadata": {},
          "output_type": "execute_result"
        }
      ],
      "source": [
        "input()"
      ]
    },
    {
      "cell_type": "code",
      "execution_count": null,
      "metadata": {
        "id": "N8jvjga9lA3v",
        "outputId": "56209df9-9b18-41d1-8aa9-1b1dfe580de4"
      },
      "outputs": [
        {
          "name": "stdout",
          "output_type": "stream",
          "text": [
            "Enter a value : 1\n",
            "Enter b value : 2\n",
            "Enter c value : 3\n",
            "1+2+3=6\n"
          ]
        }
      ],
      "source": [
        "a = input('Enter a value : ')\n",
        "b = input('Enter b value : ')\n",
        "c = input('Enter c value : ')\n",
        "\n",
        "#Cast to integer or float\n",
        "a, b, c = int(a), int(b), int(c)\n",
        "\n",
        "print(f'{a}+{b}+{c}={a+b+c}')"
      ]
    },
    {
      "cell_type": "code",
      "execution_count": null,
      "metadata": {
        "id": "c9IiLA-UlA3v"
      },
      "outputs": [],
      "source": []
    }
  ],
  "metadata": {
    "colab": {
      "provenance": [],
      "include_colab_link": true
    },
    "kernelspec": {
      "display_name": "Python 3 (ipykernel)",
      "language": "python",
      "name": "python3"
    },
    "language_info": {
      "codemirror_mode": {
        "name": "ipython",
        "version": 3
      },
      "file_extension": ".py",
      "mimetype": "text/x-python",
      "name": "python",
      "nbconvert_exporter": "python",
      "pygments_lexer": "ipython3",
      "version": "3.9.13"
    }
  },
  "nbformat": 4,
  "nbformat_minor": 0
}