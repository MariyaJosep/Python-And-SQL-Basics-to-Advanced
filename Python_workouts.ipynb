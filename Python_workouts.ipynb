{
  "cells": [
    {
      "cell_type": "markdown",
      "metadata": {
        "id": "view-in-github",
        "colab_type": "text"
      },
      "source": [
        "<a href=\"https://colab.research.google.com/github/MariyaJosep/Python-And-SQL-Basics-to-Advanced/blob/main/Python_workouts.ipynb\" target=\"_parent\"><img src=\"https://colab.research.google.com/assets/colab-badge.svg\" alt=\"Open In Colab\"/></a>"
      ]
    },
    {
      "cell_type": "markdown",
      "id": "827992ad",
      "metadata": {
        "id": "827992ad"
      },
      "source": [
        "Task-2:\n",
        "Write a function elements_3_times to find how how many elements appeared 3 and more times\n",
        "\n",
        "T Case-1:\n",
        "elements_3_times(10, 2, 10, 10, 2, 3)\n",
        "Output: 1\n",
        "\n",
        "\n",
        "T Case-2:\n",
        "elements_3_times(10, 20, 10, 10, 20, 3, 20)\n",
        "Output: 2\n",
        "\n",
        "T Case-3:\n",
        "elements_3_times(10, 20, 3, 200)\n",
        "Output: 0"
      ]
    },
    {
      "cell_type": "code",
      "execution_count": null,
      "id": "c6bc3ee9",
      "metadata": {
        "id": "c6bc3ee9"
      },
      "outputs": [],
      "source": [
        "def elements_3_times(*args):\n",
        "    no_3_elements = 0\n",
        "    \n",
        "    for x in set(args):\n",
        "        i = 0\n",
        "        for y in args:\n",
        "            if x==y:\n",
        "                i = i + 1\n",
        "                \n",
        "        if i>=3:\n",
        "            no_3_elements = no_3_elements + 1\n",
        "            \n",
        "    print('No of ele more than or equal 3 times ', no_3_elements)\n",
        "                \n",
        "\n"
      ]
    },
    {
      "cell_type": "code",
      "execution_count": null,
      "id": "99a7932c",
      "metadata": {
        "id": "99a7932c",
        "outputId": "a30e3a51-df87-4450-c410-84134a8b7443"
      },
      "outputs": [
        {
          "name": "stdout",
          "output_type": "stream",
          "text": [
            "No of ele more than or equal 3 times  1\n"
          ]
        }
      ],
      "source": [
        "elements_3_times(10, 2, 10, 10, 2, 3)"
      ]
    },
    {
      "cell_type": "code",
      "execution_count": null,
      "id": "9fc9d89b",
      "metadata": {
        "id": "9fc9d89b",
        "outputId": "feaef672-b52b-4054-e8f2-ffceba7d720e"
      },
      "outputs": [
        {
          "name": "stdout",
          "output_type": "stream",
          "text": [
            "No of ele more than or equal 3 times  2\n"
          ]
        }
      ],
      "source": [
        "elements_3_times(10, 20, 10, 10, 20, 3, 20)"
      ]
    },
    {
      "cell_type": "code",
      "execution_count": null,
      "id": "ff49b334",
      "metadata": {
        "id": "ff49b334"
      },
      "outputs": [],
      "source": [
        "def elements_no_times(*args):\n",
        "    unique_values = set(args)\n",
        "    \n",
        "    no_times = {} #empty dictionary\n",
        "    \n",
        "    for x in unique_values:\n",
        "        x_no_times = args.count(x)\n",
        "        \n",
        "        no_times[x] = x_no_times\n",
        "        \n",
        "    return no_times\n",
        "\n"
      ]
    },
    {
      "cell_type": "code",
      "execution_count": null,
      "id": "cef83250",
      "metadata": {
        "id": "cef83250",
        "outputId": "11ec813f-082e-4ced-b7ca-2643ae625639"
      },
      "outputs": [
        {
          "data": {
            "text/plain": [
              "{3: 1, 10: 3, 2: 2}"
            ]
          },
          "execution_count": 21,
          "metadata": {},
          "output_type": "execute_result"
        }
      ],
      "source": [
        "elements_no_times(10, 2, 10, 10, 2, 3)"
      ]
    },
    {
      "cell_type": "code",
      "execution_count": null,
      "id": "4584d9eb",
      "metadata": {
        "id": "4584d9eb"
      },
      "outputs": [],
      "source": [
        "d1 = elements_no_times(10, 2, 10, 10, 2, 3, 4, 5, 6, 7, 8, 67)"
      ]
    },
    {
      "cell_type": "code",
      "execution_count": null,
      "id": "23ca4d6b",
      "metadata": {
        "id": "23ca4d6b",
        "outputId": "0b88082d-7eb3-4e91-c34d-55d2be929cb7"
      },
      "outputs": [
        {
          "data": {
            "text/plain": [
              "(3, 2)"
            ]
          },
          "execution_count": 15,
          "metadata": {},
          "output_type": "execute_result"
        }
      ],
      "source": [
        "d1[10], d1[2]"
      ]
    },
    {
      "cell_type": "code",
      "execution_count": null,
      "id": "ac841210",
      "metadata": {
        "id": "ac841210",
        "outputId": "8569b50b-888a-4482-c5a1-88605a159f00"
      },
      "outputs": [
        {
          "data": {
            "text/plain": [
              "(3, 2, 1)"
            ]
          },
          "execution_count": 18,
          "metadata": {},
          "output_type": "execute_result"
        }
      ],
      "source": [
        "d1[10],d1[2],d1[4]"
      ]
    },
    {
      "cell_type": "code",
      "execution_count": null,
      "id": "4ac20538",
      "metadata": {
        "id": "4ac20538"
      },
      "outputs": [],
      "source": [
        "def elements_no_times(*args):    \n",
        "    \n",
        "    no_times = {} #empty dictionary\n",
        "    \n",
        "    for x in set(args):\n",
        "        no_times[x] = args.count(x)\n",
        "        \n",
        "    return no_times\n",
        "\n",
        "d2 = elements_no_times(10, 2, 10, 10, 2, 3, 4, 5, 6, 7, 8, 67,100,100,100,100)"
      ]
    },
    {
      "cell_type": "code",
      "execution_count": null,
      "id": "d52e80f2",
      "metadata": {
        "id": "d52e80f2",
        "outputId": "7536527b-20b3-46c5-e056-dc905fd36d5f"
      },
      "outputs": [
        {
          "data": {
            "text/plain": [
              "4"
            ]
          },
          "execution_count": 23,
          "metadata": {},
          "output_type": "execute_result"
        }
      ],
      "source": [
        "d2[100]"
      ]
    },
    {
      "cell_type": "code",
      "execution_count": null,
      "id": "f3706493",
      "metadata": {
        "id": "f3706493"
      },
      "outputs": [],
      "source": [
        "#Emplyee Class\n",
        "\n",
        "class Employee:\n",
        "    eno=0\n",
        "    ename=None\n",
        "    salary=0\n",
        "    \n",
        "    def print_emp(s):\n",
        "        print(s.eno)\n",
        "        print(s.ename)\n",
        "        print(s.salary)\n",
        "        \n",
        "    def set_emp(s, eno, ename, salary):\n",
        "        s.eno = eno;\n",
        "        s.ename = ename\n",
        "        s.salary = salary\n",
        "        \n",
        "    def bonus(s, perc):\n",
        "        b = s.salary*(perc/100)\n",
        "        print('Bonus : ', b)\n",
        "    \n",
        "        "
      ]
    },
    {
      "cell_type": "code",
      "execution_count": null,
      "id": "7301103c",
      "metadata": {
        "id": "7301103c",
        "outputId": "0c11e2ab-ea04-4fbf-bff0-3d5161705b95"
      },
      "outputs": [
        {
          "name": "stdout",
          "output_type": "stream",
          "text": [
            "0\n",
            "None\n",
            "0\n"
          ]
        }
      ],
      "source": [
        "#creating object\n",
        "e1 = Employee()\n",
        "\n",
        "e1.print_emp()"
      ]
    },
    {
      "cell_type": "code",
      "execution_count": null,
      "id": "f469fa73",
      "metadata": {
        "id": "f469fa73",
        "outputId": "7286d779-f424-4eae-f786-a62884795b6c"
      },
      "outputs": [
        {
          "name": "stdout",
          "output_type": "stream",
          "text": [
            "100\n",
            "kumar\n",
            "25000\n"
          ]
        }
      ],
      "source": [
        "e1.set_emp(100, 'kumar', 25000)\n",
        "e1.print_emp()"
      ]
    },
    {
      "cell_type": "code",
      "execution_count": null,
      "id": "ee44f0ea",
      "metadata": {
        "id": "ee44f0ea",
        "outputId": "5f12b25b-0aa3-4e05-8d6a-17f1833b0ebb"
      },
      "outputs": [
        {
          "name": "stdout",
          "output_type": "stream",
          "text": [
            "Bonus :  2500.0\n",
            "Bonus :  4500.0\n"
          ]
        },
        {
          "data": {
            "text/plain": [
              "(None, None)"
            ]
          },
          "execution_count": 35,
          "metadata": {},
          "output_type": "execute_result"
        }
      ],
      "source": [
        "e1.bonus(10), e1.bonus(18)"
      ]
    },
    {
      "cell_type": "code",
      "execution_count": null,
      "id": "3078a3b2",
      "metadata": {
        "id": "3078a3b2",
        "outputId": "de491ffc-3f39-4fea-bb36-cd3847306d35"
      },
      "outputs": [
        {
          "name": "stdout",
          "output_type": "stream",
          "text": [
            "200\n",
            "xyz\n",
            "23456\n",
            "Bonus :  3518.4\n"
          ]
        }
      ],
      "source": [
        "e2 = Employee()\n",
        "e2.set_emp(200, 'xyz', 23456)\n",
        "e2.print_emp()\n",
        "e2.bonus(15)"
      ]
    },
    {
      "cell_type": "code",
      "execution_count": null,
      "id": "302004a5",
      "metadata": {
        "id": "302004a5",
        "outputId": "1046f1af-dc9f-4c6a-e80e-e3e426e0f321"
      },
      "outputs": [
        {
          "name": "stdout",
          "output_type": "stream",
          "text": [
            "300\n",
            "kumar\n",
            "25000\n"
          ]
        }
      ],
      "source": [
        "e3 = Employee()\n",
        "\n",
        "e3.set_emp(300, 'kumar', 25000)\n",
        "e3.print_emp()"
      ]
    },
    {
      "cell_type": "code",
      "execution_count": null,
      "id": "b79b4497",
      "metadata": {
        "id": "b79b4497",
        "outputId": "c1165ed6-1df8-4144-8a04-2bbea7897c23"
      },
      "outputs": [
        {
          "name": "stdout",
          "output_type": "stream",
          "text": [
            "Enter Emp No : 400\n",
            "Enter Emp Name : xyz\n",
            "Enter Emp Salary : 56000\n",
            "400\n",
            "xyz\n",
            "56000\n"
          ]
        }
      ],
      "source": [
        "e4 = Employee()\n",
        "\n",
        "eno = int(input('Enter Emp No : '))\n",
        "ename = input('Enter Emp Name : ')\n",
        "salary = int(input('Enter Emp Salary : '))\n",
        "\n",
        "e4.set_emp(eno, ename, salary)\n",
        "e4.print_emp()"
      ]
    },
    {
      "cell_type": "code",
      "execution_count": null,
      "id": "d0ec8da5",
      "metadata": {
        "id": "d0ec8da5",
        "outputId": "3118bf57-741a-4505-e2bd-f726305e9c66"
      },
      "outputs": [
        {
          "name": "stdout",
          "output_type": "stream",
          "text": [
            "[<__main__.Employee object at 0x000001C3AF184430>, <__main__.Employee object at 0x000001C3AF184850>, <__main__.Employee object at 0x000001C3AEE3CE80>, <__main__.Employee object at 0x000001C3AEE38820>]\n"
          ]
        }
      ],
      "source": [
        "emps = [e1, e2, e3, e4]\n",
        "\n",
        "print(emps)"
      ]
    },
    {
      "cell_type": "code",
      "execution_count": null,
      "id": "2306112e",
      "metadata": {
        "id": "2306112e",
        "outputId": "e0582491-b61d-4799-f6eb-6810ae5d867f"
      },
      "outputs": [
        {
          "name": "stdout",
          "output_type": "stream",
          "text": [
            "Bonus :  2500.0\n",
            "Bonus :  2345.6\n",
            "Bonus :  2500.0\n",
            "Bonus :  5600.0\n"
          ]
        }
      ],
      "source": [
        "for e in emps:\n",
        "    e.bonus(10)"
      ]
    },
    {
      "cell_type": "code",
      "execution_count": null,
      "id": "e5b61403",
      "metadata": {
        "id": "e5b61403",
        "outputId": "8e1ce629-4ff3-4654-a93c-000c044a3a76"
      },
      "outputs": [
        {
          "name": "stdout",
          "output_type": "stream",
          "text": [
            "Bonus :  2500.0\n",
            "Bonus :  2345.6\n",
            "Bonus :  2500.0\n",
            "Bonus :  5600.0\n",
            "Bonus :  0.0\n",
            "Bonus :  0.0\n",
            "Bonus :  0.0\n"
          ]
        }
      ],
      "source": [
        "e5 = Employee()\n",
        "emps.append(e5)\n",
        "\n",
        "for e in emps:\n",
        "    e.bonus(10)"
      ]
    },
    {
      "cell_type": "code",
      "execution_count": null,
      "id": "6ec2a3ea",
      "metadata": {
        "id": "6ec2a3ea",
        "outputId": "03acb346-05d8-4d16-9efc-55654623821c"
      },
      "outputs": [
        {
          "data": {
            "text/plain": [
              "list"
            ]
          },
          "execution_count": 46,
          "metadata": {},
          "output_type": "execute_result"
        }
      ],
      "source": [
        "type(emps)"
      ]
    },
    {
      "cell_type": "code",
      "execution_count": null,
      "id": "aa916a48",
      "metadata": {
        "id": "aa916a48",
        "outputId": "58783a89-213a-4d0c-ab2e-e621fd935076"
      },
      "outputs": [
        {
          "data": {
            "text/plain": [
              "__main__.Employee"
            ]
          },
          "execution_count": 47,
          "metadata": {},
          "output_type": "execute_result"
        }
      ],
      "source": [
        "type(e1)"
      ]
    }
  ],
  "metadata": {
    "kernelspec": {
      "display_name": "Python 3 (ipykernel)",
      "language": "python",
      "name": "python3"
    },
    "language_info": {
      "codemirror_mode": {
        "name": "ipython",
        "version": 3
      },
      "file_extension": ".py",
      "mimetype": "text/x-python",
      "name": "python",
      "nbconvert_exporter": "python",
      "pygments_lexer": "ipython3",
      "version": "3.9.13"
    },
    "colab": {
      "provenance": [],
      "include_colab_link": true
    }
  },
  "nbformat": 4,
  "nbformat_minor": 5
}